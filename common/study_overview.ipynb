{
 "cells": [
  {
   "cell_type": "markdown",
   "metadata": {},
   "source": [
    "# Lightweight Django Using Rest, Websockets & Backbone"
   ]
  },
  {
   "cell_type": "markdown",
   "metadata": {},
   "source": [
    "## TOC"
   ]
  },
  {
   "cell_type": "markdown",
   "metadata": {},
   "source": [
    "1. The World's Smallest Django Project\n",
    "2. Stateless Web Application\n",
    "3. Building a Static Site Generator\n",
    "4. Building a REST API\n",
    "5. Client-Side Django with Backbone.js\n",
    "6. Single-Page Web Application\n",
    "7. Real-Time Django\n",
    "8. Communication Between Django and Tornado"
   ]
  },
  {
   "cell_type": "markdown",
   "metadata": {},
   "source": [
    "---"
   ]
  },
  {
   "cell_type": "markdown",
   "metadata": {},
   "source": [
    "**Chapter 1, The World’s Smallest Django Project**\n",
    "- Creating lightweight and simple web applications is the core concept in this book. In this chapter, you’ll be building a runnable, single-file “Hello World” Django application.\n",
    "\n",
    "**Chapter 2, Stateless Web Application**\n",
    "- Ever wonder how placeholder image services are created? Chapter 2 walks you through how to build a stateless web application to generate placeholder image URLs.\n",
    "\n",
    "**Chapter 3, Building a Static Site Generator**\n",
    "- Rapid prototyping is a useful technique for creating and scaffolding web applica‐ tions. We’ll review the purposes of this technique by creating a static site generator to help scaffold your team’s project.\n",
    "\n",
    "**Chapter 4, Building a REST API**\n",
    "- REST APIs are an important part of creating web applications with rich and relevant content. This is the chapter in which we start building out a large-scale Scrum board application by using the django-rest-framework.\n",
    "\n",
    "**Chapter 5, Client-Side Django with Backbone.js**\n",
    "- Chapter 5 continues with what we built in Chapter 4 by walking you through cre‐ ating a Backbone.js application that works with our newly made RESTful API. We’ll touch on each component that creates a new Backbone application and how to sync up this client-side framework with Django.\n",
    "\n",
    "**Chapter 6, Single-Page Web Application**\n",
    "- Single-page web applications are a way in which we can create enriching client-side web applications. In this chapter we’ll return to our simple Backbone application and continue our progress by making it a robust single-page application.\n",
    "\n",
    "**Chapter 7, Real-Time Django**\n",
    "- Creating web applications that respond to interactions in real time provides instant gratification for our users. To complete our project from the previous two chapters, we’ll add a real-time component to our Scrum board using websockets and Tornado, an asynchronous networking library written in Python.\n",
    "\n",
    "**Chapter 8, Communication Between Django and Tornado**\n",
    "- Connecting the power of Django to the robust behaviors of Tornado is an important measure in creating scalable, real-time Django applications. In this chapter, we’ll expand on our usage of the Tornado server by integrating the ability to work with Django to create a secure and interactive relationship."
   ]
  },
  {
   "cell_type": "markdown",
   "metadata": {},
   "source": [
    "---"
   ]
  },
  {
   "cell_type": "markdown",
   "metadata": {},
   "source": [
    "## Preface"
   ]
  },
  {
   "cell_type": "markdown",
   "metadata": {},
   "source": [
    "### Who Shuld Read This Book?"
   ]
  },
  {
   "cell_type": "markdown",
   "metadata": {},
   "source": [
    "- you are most likely **an intermediate Django user**.\n",
    "- [박현우님 SMARTSTUDY Django Open Session](http://www.slideshare.net/lqez/smartstudy-django-201208)"
   ]
  },
  {
   "cell_type": "markdown",
   "metadata": {},
   "source": [
    "---"
   ]
  },
  {
   "cell_type": "markdown",
   "metadata": {},
   "source": [
    "## Prerequisites"
   ]
  },
  {
   "cell_type": "markdown",
   "metadata": {},
   "source": [
    "1. Python 3.3 or 3.4\n",
    "2. Django 1.7\n",
    "3. Javascript\n",
    "- The later chapters in this book make heavy use of JavaScript. You should also be familiar with writing JavaScript/jQuery. A developer experienced doing DOM manipulation and making AJAX calls with jQuery should be able to follow the examples using Backbone.js. If you are familiar with another client-side framework such as Angular.js, Ember.js, or Knockout.js, you will be ahead of the game.\n",
    "4. Additional s/w\n",
    "    - PostgreSQL\n",
    "        - is an open source relational database system that has strong support in the Django community. Any version of PostgreSQL supported by Django will work for this book. Django 1.7 supports PostgreSQL 8.4 and higher.\n",
    "    - Redis\n",
    "        - is an open source key/value cache. This book makes use of the pub/sub features of Redis and requires 2.0 and higher."
   ]
  }
 ],
 "metadata": {
  "kernelspec": {
   "display_name": "Python 3",
   "language": "python",
   "name": "python3"
  },
  "language_info": {
   "codemirror_mode": {
    "name": "ipython",
    "version": 3
   },
   "file_extension": ".py",
   "mimetype": "text/x-python",
   "name": "python",
   "nbconvert_exporter": "python",
   "pygments_lexer": "ipython3",
   "version": "3.4.3"
  }
 },
 "nbformat": 4,
 "nbformat_minor": 0
}
