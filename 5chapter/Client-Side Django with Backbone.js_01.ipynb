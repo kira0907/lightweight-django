{
 "cells": [
  {
   "cell_type": "markdown",
   "metadata": {},
   "source": [
    "# Overview\n",
    "Django is\n",
    ">\"for perfectionists with deadlines\"\n",
    "\n",
    " - Built-in template tags and filters\n",
    "  - https://docs.djangoproject.com/en/1.7/ref/templates/builtins/\n",
    " \n",
    "## Creating Static Sites with Django\n",
    " - Static Sites generally include a simple set of **base template**, **URL patterns**, and **file architecture** to serve up each static page.\n",
    "## What Is Rapid Prototyping?\n",
    " - **Observe and analyze.**\n",
    "  - figure out end user goals\n",
    "  - **brainstorming**\n",
    " - **Build.**\n",
    "  - Using **HTML**, **CSS**, and **JavaScript** to create **MVP**(*minimum viable product*)\n",
    " - **Ship.**\n",
    "  - **deploy** and **ship** code for viewing and/or testing purposes\n",
    " - **Adopt and educate.**\n",
    "  - **Teach** users how to use and listen to **feedback**\n",
    " - **Iterate and maintain.**\n",
    "  - Take user's feedback and **iterate back** through the rapid prototyping process\n",
    "## Initial Project Layout\n",
    "\n",
    "### File/Folder Scaffolding\n",
    "\n",
    "    prototypes.py\n",
    "    sitebuilder/\n",
    "        __init__.py\n",
    "        static/\n",
    "            js/\n",
    "            css/\n",
    "        templates/\n",
    "        urls.py\n",
    "        views.py"
   ]
  },
  {
   "cell_type": "code",
   "execution_count": null,
   "metadata": {
    "collapsed": false
   },
   "outputs": [],
   "source": [
    "!touch prototypes.py\n",
    "!mkdir sitebuilder\n",
    "!touch sitebuilder/__init__.py\n",
    "!mkdir sitebuilder/static\n",
    "!mkdir sitebuilder/static/js\n",
    "!mkdir sitebuilder/static/css\n",
    "!mkdir sitebuilder/templates\n",
    "!touch sitebuilder/urls.py\n",
    "!touch sitebuilder/views.py"
   ]
  },
  {
   "cell_type": "markdown",
   "metadata": {},
   "source": [
    "### Basic Settings"
   ]
  },
  {
   "cell_type": "code",
   "execution_count": 1,
   "metadata": {
    "collapsed": false
   },
   "outputs": [
    {
     "name": "stdout",
     "output_type": "stream",
     "text": [
      "Overwriting prototypes.py\n"
     ]
    }
   ],
   "source": [
    "%%writefile prototypes.py\n",
    "import sys\n",
    "\n",
    "from django.conf import settings\n",
    "\n",
    "\n",
    "settings.configure(\n",
    "    DEBUG=True,\n",
    "    SECRET_KEY='b0mqvak1p2sqm6p#+8o8fyxf+ox(le)8&jh_5^sxa!=7!+wxj0',\n",
    "    ROOT_URLCONF='sitebuilder.urls',\n",
    "    MIDDLEWARE_CLASSES=(),\n",
    "    INSTALLED_APPS=(\n",
    "        'django.contrib.staticfiles',\n",
    "        'django.contrib.webdesign',\n",
    "        'sitebuilder',\n",
    "    ),\n",
    "    STATIC_URL='/static/',\n",
    ")\n",
    "\n",
    "\n",
    "if __name__ == \"__main__\":\n",
    "    from django.core.management import execute_from_command_line\n",
    "    \n",
    "    execute_from_command_line(sys.argv)"
   ]
  },
  {
   "cell_type": "markdown",
   "metadata": {},
   "source": [
    " - *django.contrib.staticfiles*\n",
    "  - *base.html* - **{% load staticfiles %}**\n",
    " - *django.contrib.webdesign*\n",
    "  - **{% lorem %}**"
   ]
  },
  {
   "cell_type": "code",
   "execution_count": 2,
   "metadata": {
    "collapsed": false
   },
   "outputs": [
    {
     "name": "stdout",
     "output_type": "stream",
     "text": [
      "Overwriting sitebuilder/urls.py\n"
     ]
    }
   ],
   "source": [
    "%%writefile sitebuilder/urls.py\n",
    "urlpatterns = ()"
   ]
  },
  {
   "cell_type": "code",
   "execution_count": 3,
   "metadata": {
    "collapsed": false
   },
   "outputs": [
    {
     "name": "stdout",
     "output_type": "stream",
     "text": [
      "Performing system checks...\n",
      "\n",
      "System check identified no issues (0 silenced).\n",
      "September 19, 2015 - 10:29:32\n",
      "Django version 1.7, using settings None\n",
      "Starting development server at http://127.0.0.1:8000/\n",
      "Quit the server with CONTROL-C.\n",
      "\u001b[m[19/Sep/2015 10:29:37] \"GET / HTTP/1.1\" 200 1759\n",
      "\u001b[0m\u001b[m[19/Sep/2015 10:29:37] \"GET /favicon.ico HTTP/1.1\" 200 1759\n",
      "\u001b[0m\u001b[m[19/Sep/2015 10:29:38] \"GET /favicon.ico HTTP/1.1\" 200 1759\n",
      "\u001b[0m^C\n"
     ]
    }
   ],
   "source": [
    "!python prototypes.py runserver"
   ]
  },
  {
   "cell_type": "markdown",
   "metadata": {},
   "source": [
    "## Page Rendering\n",
    "\n",
    " #### Template inherit\n",
    "  - 1st: base.html - containing **Look** & **Feel** of *whole site*\n",
    "  - 2nd: base_section#.html - containing *section **Style***\n",
    "  - 3rd: single_page.html - **Template** for *single page*\n",
    "  - **Usage**\n",
    "    - {% extends \"base.html\" %}\n",
    "\n",
    "### Creating Our Base Templates"
   ]
  },
  {
   "cell_type": "code",
   "execution_count": null,
   "metadata": {
    "collapsed": false,
    "scrolled": true
   },
   "outputs": [],
   "source": [
    "%%writefile sitebuilder/templates/base.html\n",
    "<!DOCTYPE html>\n",
    "<html lang=\"en\">\n",
    "    <head>\n",
    "        <meta charset=\"utf-8\">\n",
    "        <meta http-equiv=\"X-UA-Compatible\" content=\"IE=edge\">\n",
    "        <meta name=\"viewport\" content=\"width=device-width,initial-scale=1\">\n",
    "        <title>{% block title %}Rapid Prototypes{% endblock %}</title>\n",
    "    </head>\n",
    "    <body>\n",
    "        {% block content %}{% endblock %}\n",
    "    </body>\n",
    "</html>"
   ]
  },
  {
   "cell_type": "markdown",
   "metadata": {},
   "source": [
    " - `<`meta http-equiv=\"X-UA-Compatible\" content=\"**IE=edge**\"`>`\n",
    "  - IE 의 경우 사용할 렌더링 엔진 선택, **IE=edge** 옵션의 경우 최신 표준 모드로 렌더링. 가능하면 이 옵션 권장\n",
    " - `<`meta name=\"**viewport**\" content=\"**width=device-width**,**initial-scale=1**\"`>`\n",
    "  - 모바일 환경에 대응하기 위한 meta tag\n",
    "  - **initial-scale=1**: 초기 확대값 1\n",
    "  - 참고 'viewport 정리' - http://nuli.navercorp.com/sharing/blog/post/1132729"
   ]
  },
  {
   "cell_type": "code",
   "execution_count": null,
   "metadata": {
    "collapsed": false
   },
   "outputs": [],
   "source": [
    "!touch sitebuilder/static/css/site.css"
   ]
  },
  {
   "cell_type": "code",
   "execution_count": 4,
   "metadata": {
    "collapsed": false
   },
   "outputs": [
    {
     "name": "stdout",
     "output_type": "stream",
     "text": [
      "Overwriting sitebuilder/templates/base.html\n"
     ]
    }
   ],
   "source": [
    "%%writefile sitebuilder/templates/base.html\n",
    "{% load staticfiles %}\n",
    "<!DOCTYPE html>\n",
    "<html lang=\"en\">\n",
    "    <head>\n",
    "        <meta charset=\"utf-8\">\n",
    "        <meta http-equiv=\"X-UA-Compatible\" content=\"IE=edge\">\n",
    "        <meta name=\"viewport\" content=\"width=device-width,initial-scale=1\">\n",
    "        <title>{% block title %}Rapid Prototypes{% endblock %}</title>\n",
    "        <link rel=\"stylesheet\" href=\"{% static 'css/site.css' %}\">\n",
    "    </head>\n",
    "    <body>\n",
    "        {% block content %}{% endblock %}\n",
    "    </body>\n",
    "</html>"
   ]
  },
  {
   "cell_type": "markdown",
   "metadata": {},
   "source": [
    " - load **staticfiles**\n",
    "  - Serving the files (Notes from *official documentation*)\n",
    "    - In addition to these configuration steps, you’ll also need to actually serve the static files. During development, if you use django.contrib.staticfiles, this will be done automatically by runserver when DEBUG is set to True (see django.contrib.staticfiles.views.serve()). This method is **grossly inefficient** and probably **insecure**, so it is **unsuitable for production**. See [Deploying static files](https://docs.djangoproject.com/en/1.7/howto/static-files/deployment/) for proper strategies to serve static files in production environments.\n",
    "    - https://docs.djangoproject.com/en/1.7/howto/static-files/\n",
    "    \n",
    "  - {% load static %}? {% load staticfiles %}?\n",
    "    - {% load static from staticfiles %}\n",
    "    - https://docs.djangoproject.com/en/1.7/ref/templates/builtins/#static"
   ]
  },
  {
   "cell_type": "markdown",
   "metadata": {},
   "source": [
    "### Static Page Generator\n",
    "\n",
    "    prototypes.py\n",
    "    pages/\n",
    "    sitebuilder/\n",
    "        __init__.py\n",
    "        static/\n",
    "            js/\n",
    "            css/\n",
    "        templates/\n",
    "        urls.py\n",
    "        views.py"
   ]
  },
  {
   "cell_type": "code",
   "execution_count": null,
   "metadata": {
    "collapsed": true
   },
   "outputs": [],
   "source": [
    "!mkdir pages"
   ]
  },
  {
   "cell_type": "code",
   "execution_count": 8,
   "metadata": {
    "collapsed": false
   },
   "outputs": [
    {
     "name": "stdout",
     "output_type": "stream",
     "text": [
      "Overwriting prototypes.py\n"
     ]
    }
   ],
   "source": [
    "%%writefile prototypes.py\n",
    "import os  # Add\n",
    "import sys\n",
    "\n",
    "from django.conf import settings\n",
    "\n",
    "BASE_DIR = os.path.dirname(__file__)  # Add\n",
    "\n",
    "settings.configure(\n",
    "    DEBUG=True,\n",
    "    SECRET_KEY='b0mqvak1p2sqm6p#+8o8fyxf+ox(le)8&jh_5^sxa!=7!+wxj0',\n",
    "    ROOT_URLCONF='sitebuilder.urls',\n",
    "    MIDDLEWARE_CLASSES=(),\n",
    "    INSTALLED_APPS=(\n",
    "        'django.contrib.staticfiles',\n",
    "        'django.contrib.webdesign',\n",
    "        'sitebuilder',\n",
    "    ),\n",
    "    STATIC_URL='/static/',\n",
    "    SITE_PAGES_DIRECTORY=os.path.join(BASE_DIR, 'pages'),  # Add\n",
    ")\n",
    "\n",
    "\n",
    "if __name__ == \"__main__\":\n",
    "    from django.core.management import execute_from_command_line\n",
    "    \n",
    "    execute_from_command_line(sys.argv)"
   ]
  },
  {
   "cell_type": "code",
   "execution_count": 7,
   "metadata": {
    "collapsed": false
   },
   "outputs": [
    {
     "name": "stdout",
     "output_type": "stream",
     "text": [
      "Overwriting sitebuilder/views.py\n"
     ]
    }
   ],
   "source": [
    "%%writefile sitebuilder/views.py\n",
    "import os\n",
    "\n",
    "from django.conf import settings\n",
    "from django.http import Http404\n",
    "from django.shortcuts import render\n",
    "from django.template import Template\n",
    "from django.utils._os import safe_join\n",
    "\n",
    "\n",
    "def get_page_or_404(name):\n",
    "    \"\"\"Return page content as a Django template or raise 404 error.\"\"\"\n",
    "    try:\n",
    "        file_path = safe_join(settings.SITE_PAGES_DIRECTORY, name)\n",
    "    except ValueError:\n",
    "        raise Http404('Page Not Found')\n",
    "    else:\n",
    "        if not os.path.exists(file_path):\n",
    "            raise Http404('Page Not Found')\n",
    "            \n",
    "    with open(file_path, 'r') as f:\n",
    "        page = Template(f.read())\n",
    "        \n",
    "    return page\n",
    "\n",
    "\n",
    "def page(request, slug='index'):\n",
    "    \"\"\"Render the requested page if found.\"\"\"\n",
    "    file_name = '{}.html'.format(slug)\n",
    "    page = get_page_or_404(file_name)\n",
    "    context = {\n",
    "        'slug': slug,\n",
    "        'page': page,\n",
    "    }\n",
    "    return render(request, 'page.html', context)"
   ]
  },
  {
   "cell_type": "markdown",
   "metadata": {},
   "source": [
    " - **safe_join** returns a **normalized**, **absolute** version of the final path\n",
    " - **Template** *class*\n",
    "  - Using the template system in Python is a *two-step process*:\n",
    "    - First, you compile the raw template code into a **Template** object.\n",
    "    - Then, you call the **render()** method of the **Template** object with a given context.\n",
    "  - https://docs.djangoproject.com/en/1.7/ref/templates/api/#django.template.Template\n",
    " - **render()**\n",
    "  - Combines a given template with a given context dictionary and returns an **HttpResponse** object with that rendered text.\n",
    "  - render(**request**, **template_name** *[dictionary]*, *[optional arguments]*)\n",
    "  - https://docs.djangoproject.com/en/1.7/topics/http/shortcuts/#render"
   ]
  },
  {
   "cell_type": "code",
   "execution_count": 6,
   "metadata": {
    "collapsed": false
   },
   "outputs": [
    {
     "name": "stdout",
     "output_type": "stream",
     "text": [
      "Overwriting sitebuilder/templates/page.html\n"
     ]
    }
   ],
   "source": [
    "%%writefile sitebuilder/templates/page.html\n",
    "{% extends \"base.html\" %}\n",
    "\n",
    "{% block title %}{{ block.super }} - {{ slug|capfirst }}{% endblock %}\n",
    "\n",
    "{% block content %}\n",
    "    {% include page %}\n",
    "{% endblock %}"
   ]
  },
  {
   "cell_type": "markdown",
   "metadata": {},
   "source": [
    "- **extends \"base.html\"**\n",
    " - [**template inheritance**](https://docs.djangoproject.com/en/1.7/topics/templates/#template-inheritance)\n",
    " -  ***block.super* **\n",
    "   - If you need to get the content of the block from the parent template, the **{{ block.super }}** variable will do the trick.\n",
    " - **include** *page*\n",
    "   - Loads a template and renders it with the current context. This is a way of “including” other templates within a template.\n",
    "   - https://docs.djangoproject.com/en/1.7/ref/templates/builtins/#include\n",
    "- base.html - page.html (**extends** *base.html*) - other `*`.html pages (**included** in *page.html*)"
   ]
  },
  {
   "cell_type": "code",
   "execution_count": 5,
   "metadata": {
    "collapsed": false
   },
   "outputs": [
    {
     "name": "stdout",
     "output_type": "stream",
     "text": [
      "Overwriting sitebuilder/urls.py\n"
     ]
    }
   ],
   "source": [
    "%%writefile sitebuilder/urls.py\n",
    "from django.conf.urls import url\n",
    "\n",
    "from .views import page\n",
    "\n",
    "\n",
    "urlpatterns = (\n",
    "    url(r'^(?P<slug>[\\w./-]+)/$', page, name='page'),\n",
    "    url(r'^$', page, name='homepage'),\n",
    ")"
   ]
  },
  {
   "cell_type": "markdown",
   "metadata": {},
   "source": [
    "- (?P`<slug>`[\\w./-]+)\n",
    " - **?P`<slug>`**: Named capturing group ** *slug* **\n",
    " - **\\w**: match any word character **[a-zA-Z0-9_]**\n",
    " - **./-**: a single character in the list **./-** literally\n",
    " - https://regex101.com/#python"
   ]
  },
  {
   "cell_type": "code",
   "execution_count": 9,
   "metadata": {
    "collapsed": false
   },
   "outputs": [
    {
     "name": "stdout",
     "output_type": "stream",
     "text": [
      "Overwriting pages/index.html\n"
     ]
    }
   ],
   "source": [
    "%%writefile pages/index.html\n",
    "<h1>Welcome To the Site</h1>\n",
    "<p>Insert marketing copy here.</p>"
   ]
  },
  {
   "cell_type": "code",
   "execution_count": 10,
   "metadata": {
    "collapsed": false
   },
   "outputs": [
    {
     "name": "stdout",
     "output_type": "stream",
     "text": [
      "Performing system checks...\n",
      "\n",
      "System check identified no issues (0 silenced).\n",
      "September 19, 2015 - 10:46:57\n",
      "Django version 1.7, using settings None\n",
      "Starting development server at http://127.0.0.1:8000/\n",
      "Quit the server with CONTROL-C.\n",
      "\u001b[m[19/Sep/2015 10:46:59] \"GET / HTTP/1.1\" 200 442\n",
      "\u001b[0m\u001b[36m[19/Sep/2015 10:46:59] \"GET /static/css/site.css HTTP/1.1\" 304 0\n",
      "\u001b[0m\u001b[33m[19/Sep/2015 10:47:00] \"GET /favicon.ico HTTP/1.1\" 404 2084\n",
      "\u001b[0m^C\n"
     ]
    }
   ],
   "source": [
    "!python prototypes.py runserver"
   ]
  },
  {
   "cell_type": "markdown",
   "metadata": {},
   "source": [
    "### Basic Styling\n",
    "\n",
    "- **Twitter Bootstrap**\n",
    "    - http://getbootstrap.com/\n",
    "    - https://github.com/twbs/bootstrap/releases/download/v3.3.5/bootstrap-3.3.5-dist.zip (Download v3.3.5)\n",
    "- **jQuery**\n",
    "    - https://jquery.com/\n",
    "    - https://cdnjs.com/libraries/jquery\n",
    "    - https://cdnjs.cloudflare.com/ajax/libs/jquery/2.1.4/jquery.min.js (Download v2.1.4)"
   ]
  },
  {
   "cell_type": "code",
   "execution_count": null,
   "metadata": {
    "collapsed": false,
    "scrolled": true
   },
   "outputs": [],
   "source": [
    "!mkdir sitebuilder/static/fonts\n",
    "!wget -P ./sitebuilder/static/css/ \"https://github.com/twbs/bootstrap/blob/master/dist/css/bootstrap-theme.css.map\"\n",
    "!wget -P ./sitebuilder/static/css/ \"https://github.com/twbs/bootstrap/blob/master/dist/css/bootstrap-theme.min.css\"\n",
    "!wget -P ./sitebuilder/static/css/ \"https://github.com/twbs/bootstrap/blob/master/dist/css/bootstrap.css.map\"\n",
    "!wget -P ./sitebuilder/static/css/ \"https://github.com/twbs/bootstrap/blob/master/dist/css/bootstrap.min.css\"\n",
    "!wget -P ./sitebuilder/static/fonts/ \"https://github.com/twbs/bootstrap/blob/master/dist/fonts/glyphicons-halflings-regular.eot\"\n",
    "!wget -P ./sitebuilder/static/fonts/ \"https://github.com/twbs/bootstrap/blob/master/dist/fonts/glyphicons-halflings-regular.svg\"\n",
    "!wget -P ./sitebuilder/static/fonts/ \"https://github.com/twbs/bootstrap/blob/master/dist/fonts/glyphicons-halflings-regular.ttf\"\n",
    "!wget -P ./sitebuilder/static/fonts/ \"https://github.com/twbs/bootstrap/blob/master/dist/fonts/glyphicons-halflings-regular.woff\"\n",
    "!wget -P ./sitebuilder/static/fonts/ \"https://github.com/twbs/bootstrap/blob/master/dist/fonts/glyphicons-halflings-regular.woff2\"\n",
    "!wget -P ./sitebuilder/static/js/ \"https://github.com/twbs/bootstrap/blob/master/dist/js/bootstrap.min.js\"\n",
    "!wget -P ./sitebuilder/static/js/ \"https://cdnjs.cloudflare.com/ajax/libs/jquery/2.1.4/jquery.min.js\""
   ]
  },
  {
   "cell_type": "markdown",
   "metadata": {},
   "source": [
    "- **File Tree**"
   ]
  },
  {
   "cell_type": "markdown",
   "metadata": {},
   "source": [
    "    prototypes.py\n",
    "    pages/\n",
    "        index.html\n",
    "    sitebuilder/\n",
    "        __init__.py\n",
    "        static/\n",
    "            js/\n",
    "                bootstrap.min.js\n",
    "                jquery.min.js\n",
    "            css/\n",
    "                bootstrap-theme.css.map\n",
    "                bootstrap-theme.min.css\n",
    "                bootstrap.css.map\n",
    "                bootstrap.min.css\n",
    "                site.css\n",
    "            fonts/\n",
    "                glyphicons-halflings-regular.eot\n",
    "                glyphicons-halflings-regular.svg\n",
    "                glyphicons-halflings-regular.ttf\n",
    "                glyphicons-halflings-regular.woff\n",
    "        templates/\n",
    "            base.html\n",
    "            page.html\n",
    "        urls.py\n",
    "        views.py"
   ]
  },
  {
   "cell_type": "code",
   "execution_count": 17,
   "metadata": {
    "collapsed": false
   },
   "outputs": [
    {
     "name": "stdout",
     "output_type": "stream",
     "text": [
      "Overwriting sitebuilder/templates/base.html\n"
     ]
    }
   ],
   "source": [
    "%%writefile sitebuilder/templates/base.html\n",
    "{% load staticfiles %}\n",
    "<!DOCTYPE html>\n",
    "<html lang=\"en\">\n",
    "    <head>\n",
    "        <meta charset=\"utf-8\">\n",
    "        <meta http-equiv=\"X-UA-Compatible\" content=\"IE=edge\">\n",
    "        <meta name=\"viewport\" content=\"width=device-width,initial-scale=1\">\n",
    "        <title>{% block title %}Rapid Prototypes{% endblock %}</title>\n",
    "        <link rel=\"stylesheet\" href=\"{% static 'css/bootstrap.min.css' %}\">\n",
    "        <link rel=\"stylesheet\" href=\"{% static 'css/site.css' %}\">\n",
    "    </head>\n",
    "    <body>\n",
    "        {% block content %}{% endblock %}\n",
    "        <script src=\"{% static 'js/jquery.min.js' %}\"></script>\n",
    "        <script src=\"{% static 'js/bootstrap.min.js' %}\"></script>\n",
    "    </body>\n",
    "</html>"
   ]
  },
  {
   "cell_type": "markdown",
   "metadata": {},
   "source": [
    "### Prototype Layouts and Navigation"
   ]
  },
  {
   "cell_type": "code",
   "execution_count": 18,
   "metadata": {
    "collapsed": false,
    "scrolled": true
   },
   "outputs": [
    {
     "name": "stdout",
     "output_type": "stream",
     "text": [
      "Overwriting pages/index.html\n"
     ]
    }
   ],
   "source": [
    "%%writefile pages/index.html\n",
    "{% load webdesign %}\n",
    "<div class=\"jumbotron\">\n",
    "    <div class=\"container\">\n",
    "        <h1>Welcome To the Site</h1>\n",
    "        <p>Insert marketing copy here.</p>\n",
    "    </div>\n",
    "</div>\n",
    "<div class=\"container\">\n",
    "    <div class=\"row\">\n",
    "        <div class=\"col-md-6\">\n",
    "            <h2>About</h2>\n",
    "            <p>{% lorem %}</p>\n",
    "        </div>\n",
    "        <div class=\"col-md-6\">\n",
    "            <h2>Contact</h2>\n",
    "            <p>{% lorem %}</p>\n",
    "            <p>\n",
    "                <a class=\"btn btn-default\"\n",
    "                    href=\"{% url 'page' 'contact' %}\" role=\"button\">\n",
    "                    Contact us »\n",
    "                </a>\n",
    "            </p>\n",
    "        </div>\n",
    "    </div>\n",
    "</div>\n",
    "\n",
    "<hr>\n",
    "\n",
    "<footer>\n",
    "    <div class=\"container\">\n",
    "        <p>&copy; Your Company {% now 'Y' %}</p>\n",
    "    </div>\n",
    "</footer>"
   ]
  },
  {
   "cell_type": "markdown",
   "metadata": {},
   "source": [
    "- {% load **webdesign** %}\n",
    " - To use **{% lorem %}** to generate placeholder text for homepage\n",
    "- {% **now** 'Y' %}\n",
    " - Displays the current date and/or time, using a format according to the given string.\n",
    " - https://docs.djangoproject.com/en/1.7/ref/templates/builtins/#now"
   ]
  },
  {
   "cell_type": "code",
   "execution_count": 19,
   "metadata": {
    "collapsed": false,
    "scrolled": true
   },
   "outputs": [
    {
     "name": "stdout",
     "output_type": "stream",
     "text": [
      "Overwriting sitebuilder/static/css/site.css\n"
     ]
    }
   ],
   "source": [
    "%%writefile sitebuilder/static/css/site.css\n",
    "body {\n",
    "    padding: 50px 0 30px;\n",
    "}"
   ]
  },
  {
   "cell_type": "code",
   "execution_count": 20,
   "metadata": {
    "collapsed": false,
    "scrolled": true
   },
   "outputs": [
    {
     "name": "stdout",
     "output_type": "stream",
     "text": [
      "Overwriting sitebuilder/templates/base.html\n"
     ]
    }
   ],
   "source": [
    "%%writefile sitebuilder/templates/base.html\n",
    "{% load staticfiles %}\n",
    "<!DOCTYPE html>\n",
    "<html lang=\"en\">\n",
    "    <head>\n",
    "        <meta charset=\"utf-8\">\n",
    "        <meta http-equiv=\"X-UA-Compatible\" content=\"IE=edge\">\n",
    "        <meta name=\"viewport\" content=\"width=device-width,initial-scale=1\">\n",
    "        <title>{% block title %}Rapid Prototypes{% endblock %}</title>\n",
    "        <link rel=\"stylesheet\" href=\"{% static 'css/bootstrap.min.css' %}\">\n",
    "        <link rel=\"stylesheet\" href=\"{% static 'css/site.css' %}\">\n",
    "    </head>\n",
    "    <body id=\"{% block body-id %}body{% endblock %}\">\n",
    "        {% block top-nav-wrapper %}\n",
    "        <div class=\"navbar navbar-inverse navbar-fixed-top\" role=\"navigation\">\n",
    "            <div class=\"container\">\n",
    "                <div class=\"navbar-header\">\n",
    "                    <button type=\"button\" class=\"navbar-toggle\"\n",
    "                        data-toggle=\"collapse\" data-target=\".navbar-collapse\">\n",
    "                        <span class=\"sr-only\">Toggle navigation</span>\n",
    "                        <span class=\"icon-bar\"></span>\n",
    "                        <span class=\"icon-bar\"></span>\n",
    "                        <span class=\"icon-bar\"></span>\n",
    "                    </button>\n",
    "                    <a class=\"navbar-brand\" href=\"/\">Rapid Prototypes</a>\n",
    "                </div>\n",
    "                <div class=\"collapse navbar-collapse\">\n",
    "                    <ul class=\"nav navbar-nav\">\n",
    "                        <li {% if slug == 'index' %}class=\"active\"{% endif %}>\n",
    "                            <a href=\"/\">Home</a>\n",
    "                        </li>\n",
    "                        <li {% if slug == 'contact' %}class=\"active\"{% endif %}>\n",
    "                            <a href=\"{% url 'page' 'contact' %}\">Contact</a>\n",
    "                        </li>\n",
    "                    </ul>\n",
    "                    <ul class=\"nav navbar-nav navbar-right\">\n",
    "                        <li {% if slug == 'login' %}class=\"active\"{% endif %}>\n",
    "                            <a href=\"{% url 'page' 'login' %}\">Login</a>\n",
    "                        </li>\n",
    "                    </ul>\n",
    "                </div>\n",
    "            </div>\n",
    "        </div>\n",
    "        {% endblock %}\n",
    "        {% block content %}{% endblock %}\n",
    "        <script src=\"{% static 'js/jquery.min.js' %}\"></script>\n",
    "        <script src=\"{% static 'js/bootstrap.min.js' %}\"></script>\n",
    "    </body>\n",
    "</html>"
   ]
  },
  {
   "cell_type": "code",
   "execution_count": 21,
   "metadata": {
    "collapsed": false
   },
   "outputs": [
    {
     "name": "stdout",
     "output_type": "stream",
     "text": [
      "Overwriting sitebuilder/templates/page.html\n"
     ]
    }
   ],
   "source": [
    "%%writefile sitebuilder/templates/page.html\n",
    "{% extends \"base.html\" %}\n",
    "\n",
    "{% block title %}{{ block.super }} - {{ slug|capfirst }}{% endblock %}\n",
    "\n",
    "{% block body-id %}{{ slug|slugify }}{% endblock %}\n",
    "\n",
    "{% block content %}\n",
    "    {% include page %}\n",
    "{% endblock %}"
   ]
  },
  {
   "cell_type": "markdown",
   "metadata": {},
   "source": [
    "- **body-id**\n",
    "- **slugify**\n",
    " - Converts to ASCII. Converts spaces to hyphens. Removes characters that aren’t alphanumerics, underscores, or hyphens. Converts to lowercase. Also strips leading and trailing whitespace.\n",
    " - ex. If **value** is **\"Joel is a slug\"**, the output will be **\"joel-is-a-slug\"**."
   ]
  },
  {
   "cell_type": "code",
   "execution_count": 22,
   "metadata": {
    "collapsed": false,
    "scrolled": true
   },
   "outputs": [
    {
     "name": "stdout",
     "output_type": "stream",
     "text": [
      "Performing system checks...\n",
      "\n",
      "System check identified no issues (0 silenced).\n",
      "September 19, 2015 - 10:56:15\n",
      "Django version 1.7, using settings None\n",
      "Starting development server at http://127.0.0.1:8000/\n",
      "Quit the server with CONTROL-C.\n",
      "\u001b[m[19/Sep/2015 10:56:41] \"GET / HTTP/1.1\" 200 3473\n",
      "\u001b[0m\u001b[36m[19/Sep/2015 10:56:42] \"GET /static/css/bootstrap.min.css HTTP/1.1\" 304 0\n",
      "\u001b[0m\u001b[36m[19/Sep/2015 10:56:42] \"GET /static/js/bootstrap.min.js HTTP/1.1\" 304 0\n",
      "\u001b[0m\u001b[36m[19/Sep/2015 10:56:42] \"GET /static/js/jquery.min.js HTTP/1.1\" 304 0\n",
      "\u001b[0m^C\n"
     ]
    }
   ],
   "source": [
    "!python prototypes.py runserver"
   ]
  },
  {
   "cell_type": "code",
   "execution_count": 23,
   "metadata": {
    "collapsed": false
   },
   "outputs": [
    {
     "name": "stdout",
     "output_type": "stream",
     "text": [
      "Overwriting pages/login.html\n"
     ]
    }
   ],
   "source": [
    "%%writefile pages/login.html\n",
    "<div class=\"container\">\n",
    "    <div class=\"row\">\n",
    "        <form class=\"form-signup col-md-6 col-md-offset-3\" role=\"form\">\n",
    "            <h2 class=\"form-signin-heading\">Login to Your Account</h2>\n",
    "            <div class=\"form-group\">\n",
    "                <input type=\"email\" class=\"form-control\"\n",
    "                    placeholder=\"Email address\" required=\"\"\n",
    "                    autofocus=\"\" autocomplete=\"off\" >\n",
    "            </div>\n",
    "            <div class=\"form-group\">\n",
    "                <input type=\"passoword\" class=\"form-control\"\n",
    "                    placeholder=\"Password\" required=\"\" autocomplete=\"off\" >\n",
    "            </div>\n",
    "            <div class=\"form-group\">\n",
    "                <button class=\"btn btn-lg btn-primary btn-block\"\n",
    "                    type=\"submit\">Login</button>\n",
    "            </div>\n",
    "        </form>\n",
    "    </div>\n",
    "</div>"
   ]
  },
  {
   "cell_type": "code",
   "execution_count": 24,
   "metadata": {
    "collapsed": false
   },
   "outputs": [
    {
     "name": "stdout",
     "output_type": "stream",
     "text": [
      "Overwriting pages/contact.html\n"
     ]
    }
   ],
   "source": [
    "%%writefile pages/contact.html\n",
    "<div class=\"container\">\n",
    "    <div class=\"row\">\n",
    "        <form class=\"form-contact col-md-6\" role=\"form\">\n",
    "            <h2>Contact Us</h2>\n",
    "            <div class=\"form-group\">\n",
    "                <input type=\"email\" class=\"form-control\"\n",
    "                    placeholder=\"Email address\" required=\"\" >\n",
    "            </div>\n",
    "            <div class=\"form-group\">\n",
    "                <input type=\"text\" class=\"form-control\"\n",
    "                    placeholder=\"Title\" required=\"\" >\n",
    "            </div>\n",
    "            <div class=\"form-group\">\n",
    "                <textarea class=\"form-control\" required=\"\"\n",
    "                    placeholder=\"Your message...\" ></textarea>\n",
    "            </div>\n",
    "            <div  class=\"form-group\">\n",
    "                <button class=\"btn btn-lg btn-primary btn-block\"\n",
    "                    type=\"submit\">Submit</button>\n",
    "            </div>\n",
    "        </form>\n",
    "        <div class=\"col-md-4 col-md-offset-2\">\n",
    "            <h2>Our Office</h2>\n",
    "            <address>\n",
    "                <strong>Company Name</strong><br>\n",
    "                123 Something St<br>\n",
    "                New York, NY 00000<br>\n",
    "                (212) 555 - 1234\n",
    "            </address>\n",
    "        </div>\n",
    "    </div>\n",
    "</div>"
   ]
  },
  {
   "cell_type": "code",
   "execution_count": 25,
   "metadata": {
    "collapsed": false,
    "scrolled": true
   },
   "outputs": [
    {
     "name": "stdout",
     "output_type": "stream",
     "text": [
      "Performing system checks...\n",
      "\n",
      "System check identified no issues (0 silenced).\n",
      "September 19, 2015 - 10:57:43\n",
      "Django version 1.7, using settings None\n",
      "Starting development server at http://127.0.0.1:8000/\n",
      "Quit the server with CONTROL-C.\n",
      "\u001b[m[19/Sep/2015 10:57:46] \"GET / HTTP/1.1\" 200 3473\n",
      "\u001b[0m\u001b[m[19/Sep/2015 10:57:49] \"GET /contact/ HTTP/1.1\" 200 3052\n",
      "\u001b[0m\u001b[m[19/Sep/2015 10:57:52] \"GET /login/ HTTP/1.1\" 200 2703\n",
      "\u001b[0m^C\n"
     ]
    }
   ],
   "source": [
    "!python prototypes.py runserver"
   ]
  },
  {
   "cell_type": "markdown",
   "metadata": {},
   "source": [
    "## Generating Static Content\n",
    "\n",
    "### Settings Configuration"
   ]
  },
  {
   "cell_type": "markdown",
   "metadata": {},
   "source": [
    "- [Writing custom django-admin commands](https://docs.djangoproject.com/en/1.7/howto/custom-management-commands/#module-django.core.management)"
   ]
  },
  {
   "cell_type": "markdown",
   "metadata": {},
   "source": [
    "    prototypes.py\n",
    "    pages/\n",
    "    sitebuilder/\n",
    "        __init__.py\n",
    "        management/\n",
    "            __init__.py\n",
    "            commands/\n",
    "                __init__.py\n",
    "                build.py\n",
    "        static/\n",
    "            js/\n",
    "            css/\n",
    "            fonts/\n",
    "        templates/\n",
    "            base.html\n",
    "            page.html\n",
    "        urls.py\n",
    "        views.py"
   ]
  },
  {
   "cell_type": "code",
   "execution_count": null,
   "metadata": {
    "collapsed": false,
    "scrolled": true
   },
   "outputs": [],
   "source": [
    "!mkdir sitebuilder/management\n",
    "!touch sitebuilder/management/__init__.py\n",
    "!mkdir sitebuilder/management/commands\n",
    "!touch sitebuilder/management/commands/__init__.py\n",
    "!touch sitebuilder/management/commands/build.py"
   ]
  },
  {
   "cell_type": "code",
   "execution_count": 26,
   "metadata": {
    "collapsed": false
   },
   "outputs": [
    {
     "name": "stdout",
     "output_type": "stream",
     "text": [
      "Overwriting prototypes.py\n"
     ]
    }
   ],
   "source": [
    "%%writefile prototypes.py\n",
    "import os\n",
    "import sys\n",
    "\n",
    "from django.conf import settings\n",
    "\n",
    "BASE_DIR = os.path.dirname(__file__)\n",
    "\n",
    "settings.configure(\n",
    "    DEBUG=True,\n",
    "    SECRET_KEY='b0mqvak1p2sqm6p#+8o8fyxf+ox(le)8&jh_5^sxa!=7!+wxj0',\n",
    "    ROOT_URLCONF='sitebuilder.urls',\n",
    "    MIDDLEWARE_CLASSES=(),\n",
    "    INSTALLED_APPS=(\n",
    "        'django.contrib.staticfiles',\n",
    "        'django.contrib.webdesign',\n",
    "        'sitebuilder',\n",
    "    ),\n",
    "    STATIC_URL='/static/',\n",
    "    SITE_PAGES_DIRECTORY=os.path.join(BASE_DIR, 'pages'),\n",
    "    SITE_OUTPUT_DIRECTORY=os.path.join(BASE_DIR, '_build'),  # Add\n",
    "    STATIC_ROOT=os.path.join(BASE_DIR, '_build', 'static'),  # Add\n",
    ")\n",
    "\n",
    "\n",
    "if __name__ == \"__main__\":\n",
    "    from django.core.management import execute_from_command_line\n",
    "    \n",
    "    execute_from_command_line(sys.argv)"
   ]
  },
  {
   "cell_type": "markdown",
   "metadata": {},
   "source": [
    "### Custom Management Command"
   ]
  },
  {
   "cell_type": "code",
   "execution_count": 27,
   "metadata": {
    "collapsed": false
   },
   "outputs": [
    {
     "name": "stdout",
     "output_type": "stream",
     "text": [
      "Overwriting sitebuilder/management/commands/build.py\n"
     ]
    }
   ],
   "source": [
    "%%writefile sitebuilder/management/commands/build.py\n",
    "import os\n",
    "import shutil\n",
    "\n",
    "from django.conf import settings\n",
    "from django.core.management import call_command\n",
    "from django.core.management.base import BaseCommand\n",
    "from django.core.urlresolvers import reverse\n",
    "from django.test.client import Client\n",
    "\n",
    "\n",
    "def get_pages():\n",
    "    for name in os.listdir(settings.SITE_PAGES_DIRECTORY):\n",
    "        if name.endswith('.html'):\n",
    "            yield name[:-5]\n",
    "            \n",
    "class Command(BaseCommand):\n",
    "    help = 'Build static site output.'\n",
    "    \n",
    "    def handle(self, *args, **options):\n",
    "        \"\"\"Request pages and build output.\"\"\"\n",
    "        if os.path.exists(settings.SITE_OUTPUT_DIRECTORY):\n",
    "            shutil.rmtree(settings.SITE_OUTPUT_DIRECTORY)\n",
    "        os.mkdir(settings.SITE_OUTPUT_DIRECTORY)\n",
    "        os.makedirs(settings.STATIC_ROOT)\n",
    "        call_command('collectstatic', interactive=False,\n",
    "                clear=True, verbosity=0)\n",
    "        client = Client()\n",
    "        for page in get_pages():\n",
    "            url = reverse('page', kwargs={'slug': page})\n",
    "            response = client.get(url)\n",
    "            if page == 'index':\n",
    "                output_dir = settings.SITE_OUTPUT_DIRECTORY\n",
    "            else:\n",
    "                output_dir = os.path.join(settings.SITE_OUTPUT_DIRECTORY, page)\n",
    "                os.makedirs(output_dir)\n",
    "            with open(os.path.join(output_dir, 'index.html'), 'wb') as f:\n",
    "                f.write(response.content)"
   ]
  },
  {
   "cell_type": "markdown",
   "metadata": {},
   "source": [
    "- **yield**\n",
    " - [Simple Generators](https://www.python.org/dev/peps/pep-0255/)\n",
    "- [**handle**](https://docs.djangoproject.com/en/1.7/howto/custom-management-commands/#django.core.management.BaseCommand.handle)\n",
    " - The actual logic of the command. Subclasses must implement this **method**.\n",
    "- `*args` , `**kwargs`\n",
    "  - **`*`args**: 파라미터를 몇개를 받을지 모르는 경우 사용, 튜플 형태로 전달\n",
    "  - **`**`kwargs**:  파라미터 명을 같이 보낼 수 있음, 딕셔너리 형태로 전달\n",
    "  - [Python - 파라미터 앞에 `*`, `**` 의 의미? (`*`args, `**`kwargs)](http://jhproject.tistory.com/109)\n",
    "- [**shutil.rmtree**](https://docs.python.org/3.4/library/shutil.html#shutil.rmtree)\n",
    " - shutil.**rmtree**(*path*, *ignore_errors=False*, *onerror=None*)\n",
    " - Delete an entire directory tree\n",
    "- [**os.mkdir**](https://docs.python.org/3.4/library/os.html#os.mkdir)\n",
    " - os.**mkdir**(*path*, *mode=0o777*, `*`, *dir_fd=None*)\n",
    " - Create a directory named path with numeric mode mode.\n",
    "- [**os.makedirs**](https://docs.python.org/3.4/library/os.html#os.makedirs)\n",
    " - os.**makedirs**(*name*, *mode=0o777*, *exist_ok=False*)\n",
    " - Recursive directory creation function. Like mkdir(), but makes all intermediate-level directories needed to contain the leaf directory.\n",
    "- [**call_command**](https://docs.djangoproject.com/en/1.7/ref/django-admin/#call-command)\n",
    " - django.core.management.**call_command**(*name*, `*`args, `**`options)\n",
    " - To call a management command from code use **call_command**.\n",
    "- [**collectstatic**](https://docs.djangoproject.com/en/1.7/ref/contrib/staticfiles/#collectstatic)\n",
    ">django-admin.py **collectstatic**\n",
    "\n",
    " - Collects the static files into **STATIC_ROOT**.\n",
    "- [**Management signals**](https://docs.djangoproject.com/en/1.7/ref/signals/#management-signals)\n",
    " - [**verbosity**: Indicates how much information manage.py is printing on screen. (**0**: **no output**)](https://docs.djangoproject.com/en/1.7/ref/django-admin/#django-admin-option---verbosity)\n",
    " - **interactive**: If interactive is **True**, it’s safe to prompt the user to input things on the command line. If interactive is **False**, functions which listen for this signal should not try to prompt for anything.\n",
    "- [**Client()**](https://docs.djangoproject.com/en/1.7/topics/testing/tools/#django.test.Client)\n",
    " - class **Client**(*enforce_csrf_checks=False*, `**`defaults)\n",
    " - Use the **django.test.Client** class to make requests\n",
    " - [**get** method](https://docs.djangoproject.com/en/1.7/topics/testing/tools/#django.test.Client.get)\n",
    "   - Makes a GET request on the provided **path** and returns a **Response** object\n",
    "- [**Response** object](https://docs.djangoproject.com/en/1.7/topics/testing/tools/#testing-responses)\n",
    " - The **get()** and **post()** methods both return a **Response** object\n",
    " - [Response.**content**](https://docs.djangoproject.com/en/1.7/topics/testing/tools/#django.test.Response.content)\n",
    "   - The body of the response, as a string. This is the final page content as rendered by the view, or any error message.\n",
    "- [**reverse**](https://docs.djangoproject.com/en/1.7/ref/urlresolvers/#django.core.urlresolvers.reverse)\n",
    " - **reverse**(*viewname[, urlconf=None, args=None, kwargs=None, current_app=None]*)\n",
    "- 'wb': write and binary (option for open files)"
   ]
  },
  {
   "cell_type": "code",
   "execution_count": null,
   "metadata": {
    "collapsed": true
   },
   "outputs": [],
   "source": [
    "!python prototypes.py build"
   ]
  },
  {
   "cell_type": "code",
   "execution_count": 28,
   "metadata": {
    "collapsed": false
   },
   "outputs": [
    {
     "name": "stdout",
     "output_type": "stream",
     "text": [
      "Serving HTTP on 0.0.0.0 port 9000 ...\n",
      "127.0.0.1 - - [19/Sep/2015 11:17:57] \"GET / HTTP/1.1\" 200 -\n",
      "127.0.0.1 - - [19/Sep/2015 11:17:58] code 404, message File not found\n",
      "127.0.0.1 - - [19/Sep/2015 11:17:58] \"GET /favicon.ico HTTP/1.1\" 404 -\n",
      "^C\n",
      "Keyboard interrupt received, exiting.\n",
      "\n"
     ]
    }
   ],
   "source": [
    "!cd _build\n",
    "!python -m http.server 9000"
   ]
  },
  {
   "cell_type": "markdown",
   "metadata": {},
   "source": [
    "- [**'-m'** option](https://docs.python.org/3.4/using/cmdline.html#cmdoption-m)\n",
    " - Search sys.path for the named module and execute its contents as the **`__main__`** module.\n",
    "- [**http.server**](https://docs.python.org/3.4/library/http.server.html)\n",
    " - This module defines classes for implementing HTTP servers (Web servers).\n",
    " - http.server can also be invoked **directly** using the *-m* switch of the interpreter with a port number argument.\n",
    "   - ex) python -m http.server 8000"
   ]
  },
  {
   "cell_type": "markdown",
   "metadata": {},
   "source": [
    "### Building a Single Page"
   ]
  },
  {
   "cell_type": "code",
   "execution_count": 29,
   "metadata": {
    "collapsed": false
   },
   "outputs": [
    {
     "name": "stdout",
     "output_type": "stream",
     "text": [
      "Overwriting sitebuilder/management/commands/build.py\n"
     ]
    }
   ],
   "source": [
    "%%writefile sitebuilder/management/commands/build.py\n",
    "import os\n",
    "import shutil\n",
    "\n",
    "from django.conf import settings\n",
    "from django.core.management import call_command\n",
    "from django.core.management.base import BaseCommand, CommandError  # Add\n",
    "from django.core.urlresolvers import reverse\n",
    "from django.test.client import Client\n",
    "\n",
    "\n",
    "def get_pages():\n",
    "    for name in os.listdir(settings.SITE_PAGES_DIRECTORY):\n",
    "        if name.endswith('.html'):\n",
    "            yield name[:-5]\n",
    "            \n",
    "class Command(BaseCommand):\n",
    "    help = 'Build static site output.'\n",
    "    \n",
    "    def handle(self, *args, **options):\n",
    "        \"\"\"Request pages and build output.\"\"\"\n",
    "        if args:\n",
    "            pages = args\n",
    "            available = list(get_pages())\n",
    "            invalid = []\n",
    "            for page in pages:\n",
    "                if page not in available:\n",
    "                    invalid.append(page)\n",
    "                if invalid:\n",
    "                    msg = 'Invalid pages: {}'.format(', '.join(invalid))\n",
    "                    raise CommandError(msg)\n",
    "        else:\n",
    "            pages = get_pages()\n",
    "            if os.path.exists(settings.SITE_OUTPUT_DIRECTORY):\n",
    "                shutil.rmtree(settings.SITE_OUTPUT_DIRECTORY)\n",
    "            os.mkdir(settings.SITE_OUTPUT_DIRECTORY)\n",
    "            os.makedirs(settings.STATIC_ROOT)\n",
    "        call_command('collectstatic', interactive=False,\n",
    "                clear=True, verbosity=0)\n",
    "        client = Client()\n",
    "        for page in get_pages():\n",
    "            url = reverse('page', kwargs={'slug': page})\n",
    "            response = client.get(url)\n",
    "            if page == 'index':\n",
    "                output_dir = settings.SITE_OUTPUT_DIRECTORY\n",
    "            else:\n",
    "                output_dir = os.path.join(settings.SITE_OUTPUT_DIRECTORY, page)\n",
    "                if not os.path.exists(output_dir):\n",
    "                    os.makedirs(output_dir)\n",
    "            with open(os.path.join(output_dir, 'index.html'), 'wb') as f:\n",
    "                f.write(response.content)"
   ]
  },
  {
   "cell_type": "markdown",
   "metadata": {},
   "source": [
    "- [**CommandError**](https://docs.djangoproject.com/en/1.7/howto/custom-management-commands/#django.core.management.CommandError)\n",
    " - Exception class indicating a problem while executing a management command."
   ]
  },
  {
   "cell_type": "code",
   "execution_count": null,
   "metadata": {
    "collapsed": true
   },
   "outputs": [],
   "source": [
    "!python prototypes.py build index"
   ]
  },
  {
   "cell_type": "markdown",
   "metadata": {},
   "source": [
    "## Serving and Compressing Static Files\n",
    "\n",
    "Creating compressed static files is another way for us to create fast page loads.\n",
    "\n",
    "- [**Hashing**](http://www.terms.co.kr/hashing.htm): 하나의 문자열을 원래의 것을 상징하는 더 짧은 길이의 값이나 키로 변환하는 것\n",
    "- [**Compressing**](http://www.terms.co.kr/compression.htm): 저장공간을 절약하거나 데이터 전송시간을 줄이기 위하여 데이터 크기를 줄이는 것\n",
    "\n",
    "### Hashing Our CSS and JavaScript Files\n",
    "\n",
    "**Creating hashes** is a useful technique for breaking browser caches when the files **change**.<br>\n",
    "With these names, which are **unique** based on the file contents, the web server can be configured with **Expires** headers for the far future for these files."
   ]
  },
  {
   "cell_type": "code",
   "execution_count": null,
   "metadata": {
    "collapsed": false,
    "scrolled": true
   },
   "outputs": [],
   "source": [
    "%%writefile prototypes.py\n",
    "import os\n",
    "import sys\n",
    "\n",
    "from django.conf import settings\n",
    "\n",
    "BASE_DIR = os.path.dirname(__file__)\n",
    "\n",
    "settings.configure(\n",
    "    DEBUG=True,\n",
    "    SECRET_KEY='b0mqvak1p2sqm6p#+8o8fyxf+ox(le)8&jh_5^sxa!=7!+wxj0',\n",
    "    ROOT_URLCONF='sitebuilder.urls',\n",
    "    MIDDLEWARE_CLASSES=(),\n",
    "    INSTALLED_APPS=(\n",
    "        'django.contrib.staticfiles',\n",
    "        'django.contrib.webdesign',\n",
    "        'sitebuilder',\n",
    "    ),\n",
    "    STATIC_URL='/static/',\n",
    "    SITE_PAGES_DIRECTORY=os.path.join(BASE_DIR, 'pages'),\n",
    "    SITE_OUTPUT_DIRECTORY=os.path.join(BASE_DIR, '_build'),\n",
    "    STATIC_ROOT=os.path.join(BASE_DIR, '_build', 'static'),\n",
    "    STATICFILES_STORAGE='django.contrib.staticfiles.storage.CachedStaticFilesStorage',  # Add\n",
    ")\n",
    "\n",
    "\n",
    "if __name__ == \"__main__\":\n",
    "    from django.core.management import execute_from_command_line\n",
    "    \n",
    "    execute_from_command_line(sys.argv)"
   ]
  },
  {
   "cell_type": "markdown",
   "metadata": {},
   "source": [
    "- [The staticfiles app](https://docs.djangoproject.com/en/1.7/ref/contrib/staticfiles/#module-django.contrib.staticfiles)\n",
    " - **django.contrib.staticfiles** collects static files from each of your applications (and any other places you specify) into a single location that can easily be served in production.\n",
    " - [**CachedStaticFilesStorage**](https://docs.djangoproject.com/en/1.7/ref/contrib/staticfiles/#django.contrib.staticfiles.storage.CachedStaticFilesStorage)"
   ]
  },
  {
   "cell_type": "code",
   "execution_count": null,
   "metadata": {
    "collapsed": false
   },
   "outputs": [],
   "source": [
    "%%writefile sitebuilder/management/commands/build.py\n",
    "import os\n",
    "import shutil\n",
    "\n",
    "from django.conf import settings\n",
    "from django.core.management import call_command\n",
    "from django.core.management.base import BaseCommand, CommandError\n",
    "from django.core.urlresolvers import reverse\n",
    "from django.test.client import Client\n",
    "\n",
    "\n",
    "def get_pages():\n",
    "    for name in os.listdir(settings.SITE_PAGES_DIRECTORY):\n",
    "        if name.endswith('.html'):\n",
    "            yield name[:-5]\n",
    "            \n",
    "class Command(BaseCommand):\n",
    "    help = 'Build static site output.'\n",
    "    \n",
    "    def handle(self, *args, **options):\n",
    "        \"\"\"Request pages and build output.\"\"\"\n",
    "        settings.DEBUG = False  # Add\n",
    "        if args:\n",
    "            pages = args\n",
    "            available = list(get_pages())\n",
    "            invalid = []\n",
    "            for page in pages:\n",
    "                if page not in available:\n",
    "                    invalid.append(page)\n",
    "                if invalid:\n",
    "                    msg = 'Invalid pages: {}'.format(', '.join(invalid))\n",
    "                    raise CommandError(msg)\n",
    "        else:\n",
    "            pages = get_pages()\n",
    "            if os.path.exists(settings.SITE_OUTPUT_DIRECTORY):\n",
    "                shutil.rmtree(settings.SITE_OUTPUT_DIRECTORY)\n",
    "            os.mkdir(settings.SITE_OUTPUT_DIRECTORY)\n",
    "            os.makedirs(settings.STATIC_ROOT)\n",
    "        call_command('collectstatic', interactive=False,\n",
    "                clear=True, verbosity=0)\n",
    "        client = Client()\n",
    "        for page in get_pages():\n",
    "            url = reverse('page', kwargs={'slug': page})\n",
    "            response = client.get(url)\n",
    "            if page == 'index':\n",
    "                output_dir = settings.SITE_OUTPUT_DIRECTORY\n",
    "            else:\n",
    "                output_dir = os.path.join(settings.SITE_OUTPUT_DIRECTORY, page)\n",
    "                if not os.path.exists(output_dir):\n",
    "                    os.makedirs(output_dir)\n",
    "            with open(os.path.join(output_dir, 'index.html'), 'wb') as f:\n",
    "                f.write(response.content)"
   ]
  },
  {
   "cell_type": "code",
   "execution_count": null,
   "metadata": {
    "collapsed": false
   },
   "outputs": [],
   "source": [
    "!python prototypes.py build"
   ]
  },
  {
   "cell_type": "markdown",
   "metadata": {},
   "source": [
    "### Compressing Our Static Files\n",
    "\n",
    "**django-compressor** is a common Python package that has been used to assist Django projects in compressing and minifying our CSS and JavaScript files.\n",
    "There are alternative choices such as **LESS**/**Sass**."
   ]
  },
  {
   "cell_type": "code",
   "execution_count": null,
   "metadata": {
    "collapsed": false,
    "scrolled": true
   },
   "outputs": [],
   "source": [
    "!pip install django-compressor"
   ]
  },
  {
   "cell_type": "code",
   "execution_count": null,
   "metadata": {
    "collapsed": false,
    "scrolled": true
   },
   "outputs": [],
   "source": [
    "%%writefile prototypes.py\n",
    "import os\n",
    "import sys\n",
    "\n",
    "from django.conf import settings\n",
    "\n",
    "BASE_DIR = os.path.dirname(__file__)\n",
    "\n",
    "settings.configure(\n",
    "    DEBUG=True,\n",
    "    SECRET_KEY='b0mqvak1p2sqm6p#+8o8fyxf+ox(le)8&jh_5^sxa!=7!+wxj0',\n",
    "    ROOT_URLCONF='sitebuilder.urls',\n",
    "    MIDDLEWARE_CLASSES=(),\n",
    "    INSTALLED_APPS=(\n",
    "        'django.contrib.staticfiles',\n",
    "        'django.contrib.webdesign',\n",
    "        'sitebuilder',\n",
    "        'compressor',  # Add\n",
    "    ),\n",
    "    STATIC_URL='/static/',\n",
    "    SITE_PAGES_DIRECTORY=os.path.join(BASE_DIR, 'pages'),\n",
    "    SITE_OUTPUT_DIRECTORY=os.path.join(BASE_DIR, '_build'),\n",
    "    STATIC_ROOT=os.path.join(BASE_DIR, '_build', 'static'),\n",
    "    # STATICFILES_STORAGE='django.contrib.staticfiles.storage.CachedStaticFilesStorage',  # Delete\n",
    "    STATICFILES_FINDERS=(\n",
    "        'django.contrib.staticfiles.finders.FileSystemFinder',\n",
    "        'django.contrib.staticfiles.finders.AppDirectoriesFinder',\n",
    "        'compressor.finders.CompressorFinder',\n",
    "    )\n",
    ")\n",
    "\n",
    "\n",
    "if __name__ == \"__main__\":\n",
    "    from django.core.management import execute_from_command_line\n",
    "    \n",
    "    execute_from_command_line(sys.argv)"
   ]
  },
  {
   "cell_type": "code",
   "execution_count": null,
   "metadata": {
    "collapsed": false,
    "scrolled": true
   },
   "outputs": [],
   "source": [
    "%%writefile sitebuilder/management/commands/build.py\n",
    "import os\n",
    "import shutil\n",
    "\n",
    "from django.conf import settings\n",
    "from django.core.management import call_command\n",
    "from django.core.management.base import BaseCommand, CommandError\n",
    "from django.core.urlresolvers import reverse\n",
    "from django.test.client import Client\n",
    "\n",
    "\n",
    "def get_pages():\n",
    "    for name in os.listdir(settings.SITE_PAGES_DIRECTORY):\n",
    "        if name.endswith('.html'):\n",
    "            yield name[:-5]\n",
    "            \n",
    "class Command(BaseCommand):\n",
    "    help = 'Build static site output.'\n",
    "    \n",
    "    def handle(self, *args, **options):\n",
    "        \"\"\"Request pages and build output.\"\"\"\n",
    "        settings.DEBUG = False\n",
    "        settings.COMPRESS_ENABLED = True\n",
    "        if args:\n",
    "            pages = args\n",
    "            available = list(get_pages())\n",
    "            invalid = []\n",
    "            for page in pages:\n",
    "                if page not in available:\n",
    "                    invalid.append(page)\n",
    "                if invalid:\n",
    "                    msg = 'Invalid pages: {}'.format(', '.join(invalid))\n",
    "                    raise CommandError(msg)\n",
    "        else:\n",
    "            pages = get_pages()\n",
    "            if os.path.exists(settings.SITE_OUTPUT_DIRECTORY):\n",
    "                shutil.rmtree(settings.SITE_OUTPUT_DIRECTORY)\n",
    "            os.mkdir(settings.SITE_OUTPUT_DIRECTORY)\n",
    "            os.makedirs(settings.STATIC_ROOT)\n",
    "        call_command('collectstatic', interactive=False,\n",
    "                clear=True, verbosity=0)\n",
    "        call_command('compress', interactive=False, force=True)\n",
    "        client = Client()\n",
    "        for page in get_pages():\n",
    "            url = reverse('page', kwargs={'slug': page})\n",
    "            response = client.get(url)\n",
    "            if page == 'index':\n",
    "                output_dir = settings.SITE_OUTPUT_DIRECTORY\n",
    "            else:\n",
    "                output_dir = os.path.join(settings.SITE_OUTPUT_DIRECTORY, page)\n",
    "                if not os.path.exists(output_dir):\n",
    "                    os.makedirs(output_dir)\n",
    "            with open(os.path.join(output_dir, 'index.html'), 'wb') as f:\n",
    "                f.write(response.content)"
   ]
  },
  {
   "cell_type": "code",
   "execution_count": null,
   "metadata": {
    "collapsed": false,
    "scrolled": true
   },
   "outputs": [],
   "source": [
    "%%writefile sitebuilder/templates/base.html\n",
    "{% load staticfiles compress %}\n",
    "<!DOCTYPE html>\n",
    "<html lang=\"en\">\n",
    "    <head>\n",
    "        <meta charset=\"utf-8\">\n",
    "        <meta http-equiv=\"X-UA-Compatible\" content=\"IE=edge\">\n",
    "        <meta name=\"viewport\" content=\"width=device-width,initial-scale=1\">\n",
    "        <title>{% block title %}Rapid Prototypes{% endblock %}</title>\n",
    "        {% compress css %}\n",
    "        <link rel=\"stylesheet\" href=\"{% static 'css/bootstrap.min.css' %}\">\n",
    "        <link rel=\"stylesheet\" href=\"{% static 'css/site.css' %}\">\n",
    "        {% endcompress %}\n",
    "    </head>\n",
    "    <body id=\"{% block body-id %}body{% endblock %}\">\n",
    "        {% block top-nav-wrapper %}\n",
    "        <div class=\"navbar navbar-inverse navbar-fixed-top\" role=\"navigation\">\n",
    "            <div class=\"container\">\n",
    "                <div class=\"navbar-header\">\n",
    "                    <button type=\"button\" class=\"navbar-toggle\"\n",
    "                        data-toggle=\"collapse\" data-target=\".navbar-collapse\">\n",
    "                        <span class=\"sr-only\">Toggle navigation</span>\n",
    "                        <span class=\"icon-bar\"></span>\n",
    "                        <span class=\"icon-bar\"></span>\n",
    "                        <span class=\"icon-bar\"></span>\n",
    "                    </button>\n",
    "                    <a class=\"navbar-brand\" href=\"/\">Rapid Prototypes</a>\n",
    "                </div>\n",
    "                <div class=\"collapse navbar-collapse\">\n",
    "                    <ul class=\"nav navbar-nav\">\n",
    "                        <li {% if slug == 'index' %}class=\"active\"{% endif %}>\n",
    "                            <a href=\"/\">Home</a>\n",
    "                        </li>\n",
    "                        <li {% if slug == 'contact' %}class=\"active\"{% endif %}>\n",
    "                            <a href=\"{% url 'page' 'contact' %}\">Contact</a>\n",
    "                        </li>\n",
    "                    </ul>\n",
    "                    <ul class=\"nav navbar-nav navbar-right\">\n",
    "                        <li {% if slug == 'login' %}class=\"active\"{% endif %}>\n",
    "                            <a href=\"{% url 'page' 'login' %}\">Login</a>\n",
    "                        </li>\n",
    "                    </ul>\n",
    "                </div>\n",
    "            </div>\n",
    "        </div>\n",
    "        {% endblock %}\n",
    "        {% block content %}{% endblock %}\n",
    "        {% compress js %}\n",
    "        <script src=\"{% static 'js/jquery.min.js' %}\"></script>\n",
    "        <script src=\"{% static 'js/bootstrap.min.js' %}\"></script>\n",
    "        {% endcompress %}\n",
    "    </body>\n",
    "</html>"
   ]
  },
  {
   "cell_type": "code",
   "execution_count": null,
   "metadata": {
    "collapsed": false
   },
   "outputs": [],
   "source": [
    "!python prototypes.py build"
   ]
  },
  {
   "cell_type": "markdown",
   "metadata": {},
   "source": [
    "## Generating Dynamic Content\n",
    "\n",
    "- [**YAML**](https://en.wikipedia.org/wiki/YAML)\n",
    " - A **human-readable data serialization format** that takes concepts from programming languages such as C, Perl, and Python, and ideas from XML and the data format of electronic mail.\n",
    "\n",
    "### Updating Our Templates"
   ]
  },
  {
   "cell_type": "code",
   "execution_count": null,
   "metadata": {
    "collapsed": false,
    "scrolled": true
   },
   "outputs": [],
   "source": [
    "%%writefile pages/pricing.html\n",
    "{% load webdesign %}\n",
    "<div class=\"container\">\n",
    "    <div class=\"row\">\n",
    "        <div class=\"col-md-12\">\n",
    "            <h2>Available Pricing Plans</h2>\n",
    "        </div>\n",
    "    </div>\n",
    "    <div class=\"row\">\n",
    "        <div class=\"col-md-4\">\n",
    "            <div class=\"panel panel-success\">\n",
    "                <div class=\"panel-heading\">\n",
    "                    <h4 class=\"text-center\">Start Plan - Free</h>\n",
    "                </div>\n",
    "                <ul class=\"list-group list-group-flush text-center\">\n",
    "                    <li class=\"list-group-item\">Feature #1</li>\n",
    "                    <li class=\"list-group-item disabled\">Feature #2</li>\n",
    "                    <li class=\"list-group-item disabled\">Feature #3</li>\n",
    "                </ul>\n",
    "                <div class=\"panel-footer\">\n",
    "                    <a class=\"btn btn-lg btn-block btn-success\" href=\"#\">\n",
    "                        BUY NOW!\n",
    "                    </a>\n",
    "                </div>\n",
    "            </div>\n",
    "        </div>\n",
    "        <div class=\"col-md-4\">\n",
    "            <div class=\"panel panel-danger\">\n",
    "                <div class=\"panel-heading\">\n",
    "                    <h4 class=\"text-center\">Basic Plan - $10 / month</h4>\n",
    "                </div>\n",
    "                <ul class=\"list-group list-group-flush text-center\">\n",
    "                    <li class=\"list-group-item\">Feature #1</li>\n",
    "                    <li class=\"list-group-item\">Feature #2</li>\n",
    "                    <li class=\"list-group-item disabled\">Feature #3</li>\n",
    "                </ul>\n",
    "                <div class=\"panel-footer\">\n",
    "                    <a class=\"btn btn-lg btn-block btn-danger\" href=\"#\">\n",
    "                        BUY NOW!\n",
    "                    </a>\n",
    "                </div>\n",
    "            </div>\n",
    "        </div>\n",
    "        <div class=\"col-md-4\">\n",
    "            <div class=\"panel panel-info\">\n",
    "                <div class=\"panel-heading\">\n",
    "                    <h4 class=\"text-center\">Enterprise Plan - $20 / month</h4>\n",
    "                </div>\n",
    "                <ul class=\"list-group list-group-flush text-center\">\n",
    "                    <li class=\"list-group-item\">Feature #1</li>\n",
    "                    <li class=\"list-group-item\">Feature #2</li>\n",
    "                    <li class=\"list-group-item\">Feature #3</li>\n",
    "                </ul>\n",
    "                <div class=\"panel-footer\">\n",
    "                    <a class=\"btn btn-lg btn-block btn-info\" href=\"#\">\n",
    "                        BUY NOW!\n",
    "                    </a>\n",
    "                </div>\n",
    "            </div>\n",
    "        </div>\n",
    "    </div>\n",
    "    <div class=\"row\">\n",
    "        <div class=\"col-md-12\">\n",
    "            <p>{% lorem %}</p>\n",
    "        </div>\n",
    "    </div>\n",
    "</div>"
   ]
  },
  {
   "cell_type": "code",
   "execution_count": null,
   "metadata": {
    "collapsed": false,
    "scrolled": true
   },
   "outputs": [],
   "source": [
    "%%writefile sitebuilder/templates/base.html\n",
    "{% load staticfiles compress %}\n",
    "<!DOCTYPE html>\n",
    "<html lang=\"en\">\n",
    "    <head>\n",
    "        <meta charset=\"utf-8\">\n",
    "        <meta http-equiv=\"X-UA-Compatible\" content=\"IE=edge\">\n",
    "        <meta name=\"viewport\" content=\"width=device-width,initial-scale=1\">\n",
    "        <title>{% block title %}Rapid Prototypes{% endblock %}</title>\n",
    "        {% compress css %}\n",
    "        <link rel=\"stylesheet\" href=\"{% static 'css/bootstrap.min.css' %}\">\n",
    "        <link rel=\"stylesheet\" href=\"{% static 'css/site.css' %}\">\n",
    "        {% endcompress %}\n",
    "    </head>\n",
    "    <body id=\"{% block body-id %}body{% endblock %}\">\n",
    "        {% block top-nav-wrapper %}\n",
    "        <div class=\"navbar navbar-inverse navbar-fixed-top\" role=\"navigation\">\n",
    "            <div class=\"container\">\n",
    "                <div class=\"navbar-header\">\n",
    "                    <button type=\"button\" class=\"navbar-toggle\"\n",
    "                        data-toggle=\"collapse\" data-target=\".navbar-collapse\">\n",
    "                        <span class=\"sr-only\">Toggle navigation</span>\n",
    "                        <span class=\"icon-bar\"></span>\n",
    "                        <span class=\"icon-bar\"></span>\n",
    "                        <span class=\"icon-bar\"></span>\n",
    "                    </button>\n",
    "                    <a class=\"navbar-brand\" href=\"/\">Rapid Prototypes</a>\n",
    "                </div>\n",
    "                <div class=\"collapse navbar-collapse\">\n",
    "                    <ul class=\"nav navbar-nav\">\n",
    "                        <li {% if slug == 'index' %}class=\"active\"{% endif %}>\n",
    "                            <a href=\"/\">Home</a>\n",
    "                        </li>\n",
    "                        <li {% if slug == 'pricing' %}class=\"active\"{% endif %}>\n",
    "                            <a href=\"{% url 'page' 'pricing' %}\">Pricing</a>\n",
    "                        </li>\n",
    "                        <li {% if slug == 'contact' %}class=\"active\"{% endif %}>\n",
    "                            <a href=\"{% url 'page' 'contact' %}\">Contact</a>\n",
    "                        </li>\n",
    "                    </ul>\n",
    "                    <ul class=\"nav navbar-nav navbar-right\">\n",
    "                        <li {% if slug == 'login' %}class=\"active\"{% endif %}>\n",
    "                            <a href=\"{% url 'page' 'login' %}\">Login</a>\n",
    "                        </li>\n",
    "                    </ul>\n",
    "                </div>\n",
    "            </div>\n",
    "        </div>\n",
    "        {% endblock %}\n",
    "        {% block content %}{% endblock %}\n",
    "        {% compress js %}\n",
    "        <script src=\"{% static 'js/jquery.min.js' %}\"></script>\n",
    "        <script src=\"{% static 'js/bootstrap.min.js' %}\"></script>\n",
    "        {% endcompress %}\n",
    "    </body>\n",
    "</html>"
   ]
  },
  {
   "cell_type": "code",
   "execution_count": null,
   "metadata": {
    "collapsed": false,
    "scrolled": true
   },
   "outputs": [],
   "source": [
    "!python prototypes.py runserver"
   ]
  },
  {
   "cell_type": "markdown",
   "metadata": {},
   "source": [
    "### Adding Metadata"
   ]
  },
  {
   "cell_type": "code",
   "execution_count": null,
   "metadata": {
    "collapsed": false,
    "scrolled": true
   },
   "outputs": [],
   "source": [
    "%%writefile sitebuilder/views.py\n",
    "import json\n",
    "import os\n",
    "\n",
    "from django.conf import settings\n",
    "from django.http import Http404\n",
    "from django.shortcuts import render\n",
    "from django.template import Template, Context\n",
    "from django.template.loader_tags import BlockNode\n",
    "from django.utils._os import safe_join\n",
    "\n",
    "\n",
    "def get_page_or_404(name):\n",
    "    \"\"\"Return page content as a Django template or raise 404 error.\"\"\"\n",
    "    try:\n",
    "        file_path = safe_join(settings.SITE_PAGES_DIRECTORY, name)\n",
    "    except ValueError:\n",
    "        raise Http404('Page Not Found')\n",
    "    else:\n",
    "        if not os.path.exists(file_path):\n",
    "            raise Http404('Page Not Found')\n",
    "            \n",
    "    with open(file_path, 'r') as f:\n",
    "        page = Template(f.read())\n",
    "    \n",
    "    meta = None\n",
    "    for i, node in enumerate(list(page.nodelist)):\n",
    "        if isinstance(node, BlockNode) and node.name == 'context':\n",
    "            meta = page.nodelist.pop(i)\n",
    "            break\n",
    "    page._meta = meta\n",
    "    return page\n",
    "\n",
    "\n",
    "def page(request, slug='index'):\n",
    "    \"\"\"Render the requested page if found.\"\"\"\n",
    "    file_name = '{}.html'.format(slug)\n",
    "    page = get_page_or_404(file_name)\n",
    "    context = {\n",
    "        'slug': slug,\n",
    "        'page': page,\n",
    "    }\n",
    "    if page._meta is not None:\n",
    "        meta = page._meta.render(Context())\n",
    "        extra_context = json.loads(meta)\n",
    "        context.update(extra_context)\n",
    "    return render(request, 'page.html', context)"
   ]
  },
  {
   "cell_type": "markdown",
   "metadata": {},
   "source": [
    "- [**json**](https://docs.python.org/3.4/library/json.html#module-json)\n",
    " - **JSON** (JavaScript Object Notation) is a lightweight data interchange format inspired by JavaScript object literal syntax.\n",
    "- [json.**loads**](https://docs.python.org/3.4/library/json.html#json.loads)\n",
    " - json.**loads**(s, ...)\n",
    " - Deserialize s (a str instance containing a JSON document) to a Python object using this conversion table.\n",
    "- [**enumerate**](https://docs.python.org/3.4/library/functions.html?highlight=enumerate#enumerate)\n",
    " - **enumerate**(*iterable*, *start=0*)\n",
    " - Return an enumerate object. *iterable* must be a sequence, an *iterator*, or some other object which supports iteration.\n",
    "- [**isinstance**](https://docs.python.org/3.4/library/functions.html?highlight=enumerate#isinstance)\n",
    " - **isinstance**(*object*, *classinfo*)\n",
    " - Return true if the *object* argument is an instance of the *classinfo* argument, or of a (direct, indirect or *virtual*) subclass thereof.\n",
    "- [**Writing custom template tags**](https://docs.djangoproject.com/en/1.7/howto/custom-template-tags/#writing-custom-template-tags)\n",
    " - When Django compiles a template, it splits the raw template text into ‘’nodes’‘. Each node is an instance of django.template.Node and has a render() method. A compiled template is, simply, a list of Node objects. \n",
    " - node\n",
    " - nodelist\n",
    " - BlockNode\n",
    " - nodelist(i).render(Context())\n",
    "- [Context.**update**(*other_dict*)](https://docs.djangoproject.com/en/1.7/ref/templates/api/#django.template.Context.update)\n",
    " - This works like **push()** but takes a dictionary as an argument and pushes that dictionary onto the stack instead of an empty one."
   ]
  },
  {
   "cell_type": "code",
   "execution_count": null,
   "metadata": {
    "collapsed": false,
    "scrolled": true
   },
   "outputs": [],
   "source": [
    "%%writefile sitebuilder/templates/base.html\n",
    "{% load staticfiles compress %}\n",
    "<!DOCTYPE html>\n",
    "<html lang=\"en\">\n",
    "    <head>\n",
    "        <meta charset=\"utf-8\">\n",
    "        <meta http-equiv=\"X-UA-Compatible\" content=\"IE=edge\">\n",
    "        <meta name=\"viewport\" content=\"width=device-width,initial-scale=1\">\n",
    "        <meta name=\"description\"\n",
    "            content=\"{{ description|default:'Default prototype description' }}\">\n",
    "        <meta name=\"keywords\" content=\"{{ keywords|default:'prototype' }}\">\n",
    "        <title>{% block title %}Rapid Prototypes{% endblock %}</title>\n",
    "        {% compress css %}\n",
    "        <link rel=\"stylesheet\" href=\"{% static 'css/bootstrap.min.css' %}\">\n",
    "        <link rel=\"stylesheet\" href=\"{% static 'css/site.css' %}\">\n",
    "        {% endcompress %}\n",
    "    </head>\n",
    "    <body id=\"{% block body-id %}body{% endblock %}\">\n",
    "        {% block top-nav-wrapper %}\n",
    "        <div class=\"navbar navbar-inverse navbar-fixed-top\" role=\"navigation\">\n",
    "            <div class=\"container\">\n",
    "                <div class=\"navbar-header\">\n",
    "                    <button type=\"button\" class=\"navbar-toggle\"\n",
    "                        data-toggle=\"collapse\" data-target=\".navbar-collapse\">\n",
    "                        <span class=\"sr-only\">Toggle navigation</span>\n",
    "                        <span class=\"icon-bar\"></span>\n",
    "                        <span class=\"icon-bar\"></span>\n",
    "                        <span class=\"icon-bar\"></span>\n",
    "                    </button>\n",
    "                    <a class=\"navbar-brand\" href=\"/\">Rapid Prototypes</a>\n",
    "                </div>\n",
    "                <div class=\"collapse navbar-collapse\">\n",
    "                    <ul class=\"nav navbar-nav\">\n",
    "                        <li {% if slug == 'index' %}class=\"active\"{% endif %}>\n",
    "                            <a href=\"/\">Home</a>\n",
    "                        </li>\n",
    "                        <li {% if slug == 'pricing' %}class=\"active\"{% endif %}>\n",
    "                            <a href=\"{% url 'page' 'pricing' %}\">Pricing</a>\n",
    "                        </li>\n",
    "                        <li {% if slug == 'contact' %}class=\"active\"{% endif %}>\n",
    "                            <a href=\"{% url 'page' 'contact' %}\">Contact</a>\n",
    "                        </li>\n",
    "                    </ul>\n",
    "                    <ul class=\"nav navbar-nav navbar-right\">\n",
    "                        <li {% if slug == 'login' %}class=\"active\"{% endif %}>\n",
    "                            <a href=\"{% url 'page' 'login' %}\">Login</a>\n",
    "                        </li>\n",
    "                    </ul>\n",
    "                </div>\n",
    "            </div>\n",
    "        </div>\n",
    "        {% endblock %}\n",
    "        {% block content %}{% endblock %}\n",
    "        {% compress js %}\n",
    "        <script src=\"{% static 'js/jquery.min.js' %}\"></script>\n",
    "        <script src=\"{% static 'js/bootstrap.min.js' %}\"></script>\n",
    "        {% endcompress %}\n",
    "    </body>\n",
    "</html>"
   ]
  },
  {
   "cell_type": "code",
   "execution_count": null,
   "metadata": {
    "collapsed": false,
    "scrolled": false
   },
   "outputs": [],
   "source": [
    "%%writefile pages/pricing.html\n",
    "{% load webdesign %}\n",
    "\n",
    "{% block context %}\n",
    "{\n",
    "    \"description\": \"Product Pricing Plans\",\n",
    "    \"keywords\": \"products,pricing,buy me\"\n",
    "}\n",
    "{% endblock %}\n",
    "\n",
    "<div class=\"container\">\n",
    "    <div class=\"row\">\n",
    "        <div class=\"col-md-12\">\n",
    "            <h2>Available Pricing Plans</h2>\n",
    "        </div>\n",
    "    </div>\n",
    "    <div class=\"row\">\n",
    "        <div class=\"col-md-4\">\n",
    "            <div class=\"panel panel-success\">\n",
    "                <div class=\"panel-heading\">\n",
    "                    <h4 class=\"text-center\">Start Plan - Free</h4>\n",
    "                </div>\n",
    "                <ul class=\"list-group list-group-flush text-center\">\n",
    "                    <li class=\"list-group-item\">Feature #1</li>\n",
    "                    <li class=\"list-group-item disabled\">Feature #2</li>\n",
    "                    <li class=\"list-group-item disabled\">Feature #3</li>\n",
    "                </ul>\n",
    "                <div class=\"panel-footer\">\n",
    "                    <a class=\"btn btn-lg btn-block btn-success\" href=\"#\">\n",
    "                        BUY NOW!\n",
    "                    </a>\n",
    "                </div>\n",
    "            </div>\n",
    "        </div>\n",
    "        <div class=\"col-md-4\">\n",
    "            <div class=\"panel panel-danger\">\n",
    "                <div class=\"panel-heading\">\n",
    "                    <h4 class=\"text-center\">Basic Plan - $10 / month</h4>\n",
    "                </div>\n",
    "                <ul class=\"list-group list-group-flush text-center\">\n",
    "                    <li class=\"list-group-item\">Feature #1</li>\n",
    "                    <li class=\"list-group-item\">Feature #2</li>\n",
    "                    <li class=\"list-group-item disabled\">Feature #3</li>\n",
    "                </ul>\n",
    "                <div class=\"panel-footer\">\n",
    "                    <a class=\"btn btn-lg btn-block btn-danger\" href=\"#\">\n",
    "                        BUY NOW!\n",
    "                    </a>\n",
    "                </div>\n",
    "            </div>\n",
    "        </div>\n",
    "        <div class=\"col-md-4\">\n",
    "            <div class=\"panel panel-info\">\n",
    "                <div class=\"panel-heading\">\n",
    "                    <h4 class=\"text-center\">Enterprise Plan - $20 / month</h4>\n",
    "                </div>\n",
    "                <ul class=\"list-group list-group-flush text-center\">\n",
    "                    <li class=\"list-group-item\">Feature #1</li>\n",
    "                    <li class=\"list-group-item\">Feature #2</li>\n",
    "                    <li class=\"list-group-item\">Feature #3</li>\n",
    "                </ul>\n",
    "                <div class=\"panel-footer\">\n",
    "                    <a class=\"btn btn-lg btn-block btn-info\" href=\"#\">\n",
    "                        BUY NOW!\n",
    "                    </a>\n",
    "                </div>\n",
    "            </div>\n",
    "        </div>\n",
    "    </div>\n",
    "    <div class=\"row\">\n",
    "        <div class=\"col-md-12\">\n",
    "            <p>{% lorem %}</p>\n",
    "        </div>\n",
    "    </div>\n",
    "</div>"
   ]
  },
  {
   "cell_type": "code",
   "execution_count": null,
   "metadata": {
    "collapsed": false,
    "scrolled": true
   },
   "outputs": [],
   "source": [
    "!python prototypes.py runserver"
   ]
  },
  {
   "cell_type": "code",
   "execution_count": null,
   "metadata": {
    "collapsed": false,
    "scrolled": false
   },
   "outputs": [],
   "source": [
    "%%writefile pages/pricing.html\n",
    "{% load webdesign %}\n",
    "\n",
    "{% block context %}\n",
    "{\n",
    "    \"description\": \"Product Pricing Plans\",\n",
    "    \"keywords\": \"products,pricing,buy me\"\n",
    "    \"plans\": [\n",
    "        {\n",
    "            \"name\": \"Starter\",\n",
    "            \"price\": \"Free\",\n",
    "            \"class\": \"success\",\n",
    "            \"features\": [1]\n",
    "        },\n",
    "        {\n",
    "            \"name\": \"Basic\",\n",
    "            \"price\": \"$10 / month\",\n",
    "            \"class\": \"danger\",\n",
    "            \"features\": [1, 2]\n",
    "        },\n",
    "        {\n",
    "            \"name\": \"Enterprise\",\n",
    "            \"price\": \"$20 / month\",\n",
    "            \"class\": \"info\",\n",
    "            \"features\": [1, 2, 3]\n",
    "        }\n",
    "    ],\n",
    "    \"features\": [\n",
    "        \"Feature #1\",\n",
    "        \"Feature #2\",\n",
    "        \"Feature #3\"\n",
    "    ]\n",
    "}\n",
    "{% endblock %}\n",
    "\n",
    "<div class=\"container\">\n",
    "    <div class=\"row\">\n",
    "        <div class=\"col-md-12\">\n",
    "            <h2>Available Pricing Plans</h2>\n",
    "        </div>\n",
    "    </div>\n",
    "    <div class=\"row\">\n",
    "        {% for plan in plans %}\n",
    "            <div class=\"col-md-4\">\n",
    "                <div class=\"panel panel-{{ plan.class }}\">\n",
    "                    <div class=\"panel-heading\">\n",
    "                        <h4 class=\"text-center\">\n",
    "                            {{ plan.name }} Plan - {{ plan.price }}\n",
    "                        </h4>\n",
    "                    </div>\n",
    "                    <ul class=\"list-group list-group-flush text-center\">\n",
    "                        {% for feature in features %}\n",
    "                            <li class=\"list-group-item\n",
    "                                {% if forloop.counter not in plan.features %}\n",
    "                                    disabled\n",
    "                                {% endif %}\">\n",
    "                                {{ feature }}\n",
    "                            </li>\n",
    "                        {% endfor %}\n",
    "                    </ul>\n",
    "                    <div class=\"panel-footer\">\n",
    "                        <a class=\"btn btn-lg btn-block btn-{{ plan.class }}\" href=\"#\">\n",
    "                            BUY NOW!\n",
    "                        </a>\n",
    "                    </div>\n",
    "                </div>\n",
    "            </div>\n",
    "        {% endfor %}\n",
    "    </div>\n",
    "    <div class=\"row\">\n",
    "        <div class=\"col-md-12\">\n",
    "            <p>{% lorem %}</p>\n",
    "        </div>\n",
    "    </div>\n",
    "</div>"
   ]
  },
  {
   "cell_type": "code",
   "execution_count": null,
   "metadata": {
    "collapsed": false
   },
   "outputs": [],
   "source": [
    "!python prototypes.py runserver"
   ]
  }
 ],
 "metadata": {
  "kernelspec": {
   "display_name": "Python 3",
   "language": "python",
   "name": "python3"
  },
  "language_info": {
   "codemirror_mode": {
    "name": "ipython",
    "version": 3
   },
   "file_extension": ".py",
   "mimetype": "text/x-python",
   "name": "python",
   "nbconvert_exporter": "python",
   "pygments_lexer": "ipython3",
   "version": "3.4.2"
  }
 },
 "nbformat": 4,
 "nbformat_minor": 0
}
