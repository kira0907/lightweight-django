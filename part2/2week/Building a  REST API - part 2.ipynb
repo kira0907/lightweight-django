{
 "cells": [
  {
   "cell_type": "markdown",
   "metadata": {},
   "source": [
    "# Scrum Board Data Map\n",
    "\n",
    "## 1. About Scrum\n",
    "### Scrum is a great way for teams to get started with agile.\n",
    "Scrum calls for four ceremonies that bring structure to each sprint:\n",
    "\n",
    "  * Sprint planning\n",
    "  * Daily stand-up\n",
    "  * Sprint demo\n",
    "  * Sprint retrospective\n",
    "\n",
    "### [참조] Agile \n",
    "* [Wiki Scrum 정의](https://ko.wikipedia.org/wiki/%EC%8A%A4%ED%81%AC%EB%9F%BC_(%EC%95%A0%EC%9E%90%EC%9D%BC_%EA%B0%9C%EB%B0%9C_%ED%94%84%EB%A1%9C%EC%84%B8%EC%8A%A4)\n",
    "* [Attlasian Scrum 정의](https://ko.atlassian.com/agile/scrum/)\n",
    "* [agile 소프트웨어 개발 선언](http://www.agilemanifesto.org/)\n",
    "\n",
    "### Consideration when creating our models.\n",
    "* A task board is commonly used in Scrum-style development to manage tasks in the current sprint.\n",
    "* Tasks are moved from the backlog into the set of tasks to be completed.\n",
    "* Various states can be used to track the progress along the way, such as “in progress”or “in testing.”\n",
    "* The preceding tasks must be part of a task for it to be in a “completed” state."
   ]
  },
  {
   "cell_type": "markdown",
   "metadata": {},
   "source": [
    "## 2. Initial Project Layout\n",
    "```\n",
    "$ django-admin.py startproject scrum \n",
    "$ cd scrum\n",
    "$ python manage.py startapp board\n",
    "```\n",
    "\n",
    "### Caution\n",
    "The startapp template has evolved in recent Django versions, and the output might be different if you are using a different version of Django. admin.py was added to the template in Django 1.6 and the migrations folder was added in 1.7.\n",
    "\n",
    "## 3. Project Settings\n",
    "**the server will not maintain any client state, the contrib.session references can be removed. This will break usage of the default Django admin,** which means those references can be removed as well.\n",
    "\n",
    "### Changes\n",
    "* remove **django.contrib.admin, django.contrib.sessions, and django.contrib.messages** from the INSTALLED_APPS\n",
    "* new INSTALLED_APPS include **rest_framework and rest_framework.authtoken** as well as the board app\n",
    "\n",
    "### Install\n",
    "Use PostgreSQL, Requires installing **psycopg2, the Python driver for PostgreSQL.** We’ll need to create the database as well.\n",
    "\n",
    "```\n",
    "$ pip install psycopg2\n",
    "$ createdb -E UTF-8 scrum\n",
    "```"
   ]
  },
  {
   "cell_type": "markdown",
   "metadata": {},
   "source": [
    "### Delete admin url pattern\n",
    "All of the existing patterns have been removed and replaced with a single URL for **rest_framework.authtoken.views.obtain_auth_token. This serves as the view for exchanging a username and password combination for an API token**."
   ]
  },
  {
   "cell_type": "code",
   "execution_count": 4,
   "metadata": {
    "collapsed": false
   },
   "outputs": [
    {
     "name": "stdout",
     "output_type": "stream",
     "text": [
      "Overwriting scrum/scrum/urls.py\n"
     ]
    }
   ],
   "source": [
    "%%writefile scrum/scrum/urls.py\n",
    "\n",
    "from django.conf.urls import include, url\n",
    "from rest_framework.authtoken.views import obtain_auth_token\n",
    "\n",
    "urlpatterns = [\n",
    "    url(r'^api/token/', obtain_auth_token, name='api-token'),\n",
    "]"
   ]
  },
  {
   "cell_type": "markdown",
   "metadata": {},
   "source": [
    "## No Django Admin?\n",
    "In this application it has been removed because the API doesn’t use or need Django’s session management, which is required to use the admin. **The browsable API, which will be provided by the django-rest- framework, can serve as a simple replacement for the admin.**\n",
    "\n",
    "You may find that you still need to maintain the Django admin due to other applications that rely on it. You can preserve the admin and simply have two sets of settings for the project\n",
    "\n"
   ]
  },
  {
   "cell_type": "markdown",
   "metadata": {},
   "source": [
    "## Models"
   ]
  },
  {
   "cell_type": "code",
   "execution_count": 3,
   "metadata": {
    "collapsed": false,
    "scrolled": true
   },
   "outputs": [
    {
     "name": "stdout",
     "output_type": "stream",
     "text": [
      "Overwriting scrum/board/models.py\n"
     ]
    }
   ],
   "source": [
    "%%writefile scrum/board/models.py\n",
    "\n",
    "from django.db import models\n",
    "from django.utils.translation import ugettext_lazy as _\n",
    "\n",
    "class Sprint(models.Model): \n",
    "    \"\"\"Development iteration period.\"\"\"\n",
    "    name = models.CharField(max_length=100, blank=True, default='')\n",
    "    description = models.TextField(blank=True, default='')\n",
    "    end = models.DateField(unique=True)\n",
    "\n",
    "    def __str__(self):\n",
    "        return self.name or _('Sprint ending %s') % self.end"
   ]
  },
  {
   "cell_type": "markdown",
   "metadata": {},
   "source": [
    "We should also note that tasks will have a handful of states:\n",
    "* Not Started\n",
    "* In Progress\n",
    "* Testing\n",
    "* Done"
   ]
  },
  {
   "cell_type": "code",
   "execution_count": 5,
   "metadata": {
    "collapsed": false
   },
   "outputs": [
    {
     "name": "stdout",
     "output_type": "stream",
     "text": [
      "Overwriting scrum/board/models.py\n"
     ]
    }
   ],
   "source": [
    "%%writefile scrum/board/models.py\n",
    "\n",
    "from django.conf import settings\n",
    "from django.db import models\n",
    "from django.utils.translation import ugettext_lazy as _\n",
    "\n",
    "class Sprint(models.Model): \n",
    "    \"\"\"Development iteration period.\"\"\"\n",
    "    name = models.CharField(max_length=100, blank=True, default='')\n",
    "    description = models.TextField(blank=True, default='')\n",
    "    end = models.DateField(unique=True)\n",
    "\n",
    "    def __str__(self):\n",
    "        return self.name or _('Sprint ending %s') % self.end\n",
    "    \n",
    "class Task(models.Model):\n",
    "    \"\"\"Unit of work to be done for the sprint.\"\"\"\n",
    "    STATUS_TODO = 1\n",
    "    STATUS_IN_PROGRESS = 2\n",
    "    STATUS_TESTING = 3\n",
    "    STATUS_DONE = 4\n",
    "    STATUS_CHOICES = (\n",
    "        (STATUS_TODO, _('Not Started')),\n",
    "        (STATUS_IN_PROGRESS, _('In Progress')),\n",
    "        (STATUS_TESTING, _('Testing')),\n",
    "        (STATUS_DONE, _('Done')),\n",
    "    )\n",
    "        \n",
    "    name = models.CharField(max_length=100)\n",
    "    description = models.TextField(blank=True, default='')\n",
    "    sprint = models.ForeignKey(Sprint, blank=True, null=True)\n",
    "    status = models.SmallIntegerField(choices=STATUS_CHOICES, default=STATUS_TODO)\n",
    "    order = models.SmallIntegerField(default=0)\n",
    "    assigned = models.ForeignKey(settings.AUTH_USER_MODEL, null=True, blank=True)\n",
    "    started = models.DateField(blank=True, null=True)\n",
    "    due = models.DateField(blank=True, null=True)\n",
    "    completed = models.DateField(blank=True, null=True)\n",
    "\n",
    "    def __str__(self):\n",
    "        return self.name"
   ]
  },
  {
   "cell_type": "markdown",
   "metadata": {},
   "source": [
    "### Clear limitations in this data model\n",
    "* One issue is that this tracks sprints only for a single project and assumes that all system users are involved with the project.\n",
    "* The task states are also fixed in the task model, making those states unusable in the sprint model\n",
    "* There is also no support here for customizing the task workflow.\n",
    "\n",
    "These limitations are likely acceptable if the application will be used for a single project, **but obviously would not work if the intention were to build this task board as a software as a service (SaaS) product.**\n",
    "\n",
    "### [참조] What is SaaS?\n",
    "**Software as a service (or SaaS) is a way of delivering applications over the Internet—as a service**. Instead of installing and maintaining software, you simply access it via the Internet, freeing yourself from complex software and hardware management.\n",
    "\n",
    "[Salesforce.com에서 정의한 SaaS](https://www.salesforce.com/saas/)\n",
    "\n",
    "### Migration\n",
    "1. Create model using makemigration command\n",
    "model에 변경이 있을 경우, 반영한다.\n",
    "```\n",
    "$ python manage.py makemigrations board \n",
    "```\n",
    "\n",
    "2. Create tables using **migrate** command\n",
    "```\n",
    "$ python manage.py migrate\n",
    "```\n",
    "\n",
    "3. Migrate 수행 결과\n",
    "```\n",
    "Operations to perform:\n",
    "  Synchronize unmigrated apps: staticfiles, rest_framework\n",
    "  Apply all migrations: authtoken, board, auth, contenttypes\n",
    "Synchronizing apps without migrations:\n",
    "  Creating tables...\n",
    "    Running deferred SQL...\n",
    "  Installing custom SQL...\n",
    "Running migrations:\n",
    "  Rendering model states... DONE\n",
    "  Applying contenttypes.0001_initial... OK\n",
    "  Applying contenttypes.0002_remove_content_type_name... OK\n",
    "  Applying auth.0001_initial... OK\n",
    "  Applying auth.0002_alter_permission_name_max_length... OK\n",
    "  Applying auth.0003_alter_user_email_max_length... OK\n",
    "  Applying auth.0004_alter_user_username_opts... OK\n",
    "  Applying auth.0005_alter_user_last_login_null... OK\n",
    "  Applying auth.0006_require_contenttypes_0002... OK\n",
    "  Applying authtoken.0001_initial... OK\n",
    "  Applying board.0001_initial... OK\n",
    "```\n",
    "\n",
    "### [참조] migrate 수행 시 error 발생\n",
    "\n",
    "#### 문제\n",
    "OS X에서 migrate 명령어 수행 시, **계속 사용자 계정으로 접속을 하며, 인증에 실패했다고 오류가 발생하고 정상적으로 동작하지 않았다.**\n",
    "OS X에서 사용자 계정을 생성한 적이 없으니, 당연히 인증에서 실패해서 DB에 connection이 생성되지 않는다.\n",
    "```\n",
    "createdb: could not connect to database template1: FATAL: password authentication failed for user\n",
    "```\n",
    "\n",
    "#### 해결방법\n",
    "1. pg_hba.conf에 auto-method 값을 md5 값을 trust로 변경\n",
    "  - pg_hba.conf 파일 위치 : /home/Library/PostgreSQL/[version]/data/pg_hba.conf\n",
    "  - auto method 값 의미\n",
    "    * md5 : 입력된 password 값을 md5 방식으로 암호화된 값으로 인증\n",
    "    * trust : 암호 입력 없이 인증 처리\n",
    "  - [pg_hba.conf 파일 설명](http://www.postgresql.org/docs/9.1/static/auth-pg-hba-conf.html)\n",
    "  \n",
    "2. OS X에 사용자 계정 생성 및 password 세팅\n",
    "  * [pgAdmin SQL 툴](http://www.pgadmin.org/download/) 설치 후, 손쉽게 계정 생성 가능\n",
    "  * **pgAdmin은 PostgreSQL, PPAS DB에 접속 가능한 SQL 툴이며, 무료로 사용가능한 소프트웨어**\n",
    "  * **scrum/setting.py 에 DATABASE dict에 'USER', 'PASSWORD' Key에 생성한 계정 정보 값을 세팅한다.** (https://docs.djangoproject.com/en/1.8/ref/settings/)\n",
    "\n",
    "### Create a superuser\n",
    "**createsuperuser 를 통해 생성된 계정은 \"auth_user\" 테이블에 데이터가 등록된다.**\n",
    "```\n",
    "$ python manage.py createsuperuser\n",
    "```\n",
    "\n",
    "Prior to Django 1.7 there was no built-in support for migrated model schemas(**django_migration** table). Prior to Django 1.7 could create tables only using a single command called **syncdb**. "
   ]
  },
  {
   "cell_type": "markdown",
   "metadata": {},
   "source": [
    "# Designing the API\n",
    "the API we want to build will look like this:\n",
    "```\n",
    "/api/\n",
    "    /sprints/\n",
    "        /<id>/\n",
    "    /tasks/\n",
    "        /<id>/\n",
    "    /users/\n",
    "        /<username>/\n",
    "```\n",
    "\n",
    "It’s **important to consider how clients will navigate this API.**\n",
    "\n",
    "We’ve chosen not to include the version number in the URLs for the API. **While it is included in many popular APIs, we feel that the approach for versioning that aligns best with RESTful practices is to use different content types for different API versions.** However, if you really want a version number in your API, feel free to add it."
   ]
  },
  {
   "cell_type": "markdown",
   "metadata": {},
   "source": [
    "## Sprint Endpoints"
   ]
  }
 ],
 "metadata": {
  "kernelspec": {
   "display_name": "Python 3",
   "language": "python",
   "name": "python3"
  },
  "language_info": {
   "codemirror_mode": {
    "name": "ipython",
    "version": 3
   },
   "file_extension": ".py",
   "mimetype": "text/x-python",
   "name": "python",
   "nbconvert_exporter": "python",
   "pygments_lexer": "ipython3",
   "version": "3.4.3"
  }
 },
 "nbformat": 4,
 "nbformat_minor": 0
}
