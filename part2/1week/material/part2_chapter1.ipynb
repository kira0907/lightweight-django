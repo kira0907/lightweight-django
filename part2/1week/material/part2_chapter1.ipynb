{
 "cells": [
  {
   "cell_type": "markdown",
   "metadata": {},
   "source": [
    "# Chapter 1. The World's Smallest Django Project"
   ]
  },
  {
   "cell_type": "markdown",
   "metadata": {},
   "source": [
    "---"
   ]
  },
  {
   "cell_type": "markdown",
   "metadata": {},
   "source": [
    "# TOC"
   ]
  },
  {
   "cell_type": "markdown",
   "metadata": {},
   "source": [
    "**1. Hello Django**\n",
    "    1. Creating the View\n",
    "    2. The URL Patterns\n",
    "    3. The Settings\n",
    "    4. Running the Example\n",
    "**2. Improvements**\n",
    "    1. WSGI Application\n",
    "    2. Additional Configuration\n",
    "    3. Reusable Template"
   ]
  },
  {
   "cell_type": "markdown",
   "metadata": {},
   "source": [
    "---"
   ]
  },
  {
   "cell_type": "markdown",
   "metadata": {},
   "source": [
    "## 1. Hello Django"
   ]
  },
  {
   "cell_type": "markdown",
   "metadata": {},
   "source": [
    "- While the **startproject** command is a useful tool, it is not required in order to start a Django project.\n",
    "- This lightweight “Hello World” project will create a simple Django application **using a single-file approach.**\n",
    "- In this chapter, we’ll start by using a single ***hello.py*** file. This file will contain all of the code needed to run our Django project."
   ]
  },
  {
   "cell_type": "markdown",
   "metadata": {},
   "source": [
    "- `django-admin.py startproject 프로젝트이름`\n",
    "    - 필요한 프로젝트 디렉토리와 파일 자동 생성\n",
    "- 하지만 개발자들의 편의를 위해 파일을 나누고 구조를 잡는 것이지 하나의 파일에서 구현가능함"
   ]
  },
  {
   "cell_type": "markdown",
   "metadata": {},
   "source": [
    "### 1) Creating the View"
   ]
  },
  {
   "cell_type": "markdown",
   "metadata": {},
   "source": [
    "![](http://blog.easylearning.guru/wordpress/wp-content/uploads/2015/08/Django-Template.png)"
   ]
  },
  {
   "cell_type": "markdown",
   "metadata": {},
   "source": [
    "model-template-view (MTV) framework\n",
    "- The view portion typically\n",
    "    - **inspects the incoming HTTP request**, \n",
    "    - **queries the necessary data** to send to the presentation layer.\n",
    "    - constructs the necessary data to send to the presentation layer."
   ]
  },
  {
   "cell_type": "code",
   "execution_count": 1,
   "metadata": {
    "collapsed": false
   },
   "outputs": [
    {
     "name": "stdout",
     "output_type": "stream",
     "text": [
      "Writing hello.py\n"
     ]
    }
   ],
   "source": [
    "%%writefile hello.py\n",
    "from django.http import HttpResponse\n",
    "\n",
    "def index(request):\n",
    "    return HttpResponse('Hello World')"
   ]
  },
  {
   "cell_type": "markdown",
   "metadata": {},
   "source": [
    "- This would typically be in a **`views.py`** file inside one of your apps.\n",
    "- There is also no requirement that views live in a file called views.py."
   ]
  },
  {
   "cell_type": "markdown",
   "metadata": {},
   "source": [
    "### 2) The URL Patterns"
   ]
  },
  {
   "cell_type": "markdown",
   "metadata": {},
   "source": [
    "- Django associates views with their URL by pairing a regular expression to match the URL and any callable arguments to the view.\n",
    "- The following is an example from hello.py of how we make this connection."
   ]
  },
  {
   "cell_type": "code",
   "execution_count": 2,
   "metadata": {
    "collapsed": false
   },
   "outputs": [
    {
     "name": "stdout",
     "output_type": "stream",
     "text": [
      "Overwriting hello.py\n"
     ]
    }
   ],
   "source": [
    "%%writefile hello.py\n",
    "from django.conf.urls import url\n",
    "from django.http import HttpResponse\n",
    "\n",
    "def index(request):\n",
    "    return HttpResponse('Hello World')\n",
    "\n",
    "urlpatterns = (\n",
    "    url(r'^$', index),\n",
    ")"
   ]
  },
  {
   "cell_type": "markdown",
   "metadata": {},
   "source": [
    "- Now this file combines both a typical views.py file and the root urls.py file.\n",
    "- Again, it is worth noting that there is **no requirement for the URL patterns to be included in a urls.py file.**"
   ]
  },
  {
   "cell_type": "markdown",
   "metadata": {},
   "source": [
    "### 3) The Settings"
   ]
  },
  {
   "cell_type": "markdown",
   "metadata": {},
   "source": [
    "- **Django settings** detail everything from database and cache connections to internationalization features and static and uploaded resources.\n",
    "- For many developers just getting started, **the settings in Django are a major point of confusion.**\n",
    "- While **recent releases have worked to trim down the default settings’ file length**, it can still be overwhelming."
   ]
  },
  {
   "cell_type": "code",
   "execution_count": 3,
   "metadata": {
    "collapsed": false
   },
   "outputs": [
    {
     "name": "stdout",
     "output_type": "stream",
     "text": [
      "Overwriting hello.py\n"
     ]
    }
   ],
   "source": [
    "%%writefile hello.py\n",
    "from django.conf.urls import url\n",
    "from django.http import HttpResponse\n",
    "from django.conf import settings\n",
    "\n",
    "settings.configure(\n",
    "    DEBUG=True,\n",
    "    SECRET_KEY='thisisthesecretkey',\n",
    "    ROOT_URLCONF=__name__,\n",
    "    MIDDLEWARE_CLASSES=(\n",
    "        'django.middleware.common.CommonMiddleware',\n",
    "        'django.middleware.csrf.CsrfViewMiddleware',\n",
    "        'django.middleware.clickjacking.XFrameOptionsMiddleware',\n",
    "    ),\n",
    ")\n",
    "\n",
    "def index(request):\n",
    "    return HttpResponse('Hello World')\n",
    "\n",
    "urlpatterns = (\n",
    "    url(r'^$', index),\n",
    ")"
   ]
  },
  {
   "cell_type": "markdown",
   "metadata": {},
   "source": [
    "- A **secret key** must be generated for the default session and cross-site request forgery (CSRF) protection.\n",
    "- It is important for any production site to have a **random SECRET_KEY** that is kept private.\n",
    "- https://docs.djangoproject.com/en/1.7/topics/signing"
   ]
  },
  {
   "cell_type": "markdown",
   "metadata": {},
   "source": [
    "### 4) Running the Example"
   ]
  },
  {
   "cell_type": "code",
   "execution_count": 4,
   "metadata": {
    "collapsed": false
   },
   "outputs": [
    {
     "name": "stdout",
     "output_type": "stream",
     "text": [
      "Overwriting hello.py\n"
     ]
    }
   ],
   "source": [
    "%%writefile hello.py\n",
    "import sys\n",
    "from django.http import HttpResponse\n",
    "from django.conf import settings\n",
    "from django.conf.urls import url\n",
    "\n",
    "\n",
    "# settings\n",
    "settings.configure(\n",
    "    DEBUG=True,\n",
    "    SECRET_KEY='thisisthesecretkey',\n",
    "    ROOT_URLCONF=__name__,\n",
    "    MIDDLEWARE_CLASSES=(\n",
    "        'django.middleware.common.CommonMiddleware',\n",
    "        'django.middleware.csrf.CsrfViewMiddleware',\n",
    "        'django.middleware.clickjacking.XFrameOptionsMiddleware',\n",
    "    ),\n",
    ")\n",
    "\n",
    "# views\n",
    "def index(request):\n",
    "    return HttpResponse('Hello World')\n",
    "\n",
    "# urls\n",
    "urlpatterns = (\n",
    "    url(r'^$', index),\n",
    ")\n",
    "\n",
    "if __name__ == \"__main__\":\n",
    "    from django.core.management import execute_from_command_line\n",
    "    execute_from_command_line(sys.argv)"
   ]
  },
  {
   "cell_type": "markdown",
   "metadata": {},
   "source": [
    "`$ python hello.py runserver`"
   ]
  },
  {
   "cell_type": "markdown",
   "metadata": {},
   "source": [
    "---"
   ]
  },
  {
   "cell_type": "markdown",
   "metadata": {},
   "source": [
    "## 2. Improvements"
   ]
  },
  {
   "cell_type": "markdown",
   "metadata": {},
   "source": [
    "Django also provides **ADDITIONAL UTILITIES** for common tasks such as:\n",
    "- rendering HTML\n",
    "- parsing form data\n",
    "- persisting session state"
   ]
  },
  {
   "cell_type": "markdown",
   "metadata": {},
   "source": [
    "### 1) WSGI Application"
   ]
  },
  {
   "cell_type": "markdown",
   "metadata": {},
   "source": [
    "#### runserver"
   ]
  },
  {
   "cell_type": "markdown",
   "metadata": {},
   "source": [
    "- It has helpful utilities for **local development** such as auto–code reloading.\n",
    "- While it is convenient for local development, runserver is **not appropriate for production deployment** security."
   ]
  },
  {
   "cell_type": "markdown",
   "metadata": {},
   "source": [
    "#### Web Server Gateway Interface(WSGI)"
   ]
  },
  {
   "cell_type": "markdown",
   "metadata": {},
   "source": [
    "is **the specification for how web servers communicate with application frameworks such as Django**, and was defined by PEP 333 and improved in PEP 3333."
   ]
  },
  {
   "cell_type": "markdown",
   "metadata": {},
   "source": [
    "- mod_wsgi\n",
    "- Gunicorn\n",
    "- uWSGI\n",
    "- CherryPy\n",
    "- Tornado\n",
    "- Chaussette"
   ]
  },
  {
   "cell_type": "markdown",
   "metadata": {},
   "source": [
    "![](http://www.nowamagic.net/librarys/images/201309/2013_09_04_01.png)"
   ]
  },
  {
   "cell_type": "markdown",
   "metadata": {},
   "source": [
    "![](http://brianmcdonnell.github.io/pycon_ie_2013/images/diagrams/min_wsgi_stack.png)"
   ]
  },
  {
   "cell_type": "markdown",
   "metadata": {},
   "source": [
    "- Each of these servers needs a **properly defined WSGI application** to be used. Django has an easy interface for creating this application through **get_wsgi_application**."
   ]
  },
  {
   "cell_type": "code",
   "execution_count": 5,
   "metadata": {
    "collapsed": false
   },
   "outputs": [
    {
     "name": "stdout",
     "output_type": "stream",
     "text": [
      "Overwriting hello.py\n"
     ]
    }
   ],
   "source": [
    "%%writefile hello.py\n",
    "import sys\n",
    "from django.conf.urls import url\n",
    "from django.http import HttpResponse\n",
    "from django.conf import settings\n",
    "from django.core.wsgi import get_wsgi_application\n",
    "\n",
    "\n",
    "# settings\n",
    "settings.configure(\n",
    "    DEBUG=True,\n",
    "    SECRET_KEY='thisisthesecretkey',\n",
    "    ROOT_URLCONF=__name__,\n",
    "    MIDDLEWARE_CLASSES=(\n",
    "        'django.middleware.common.CommonMiddleware',\n",
    "        'django.middleware.csrf.CsrfViewMiddleware',\n",
    "        'django.middleware.clickjacking.XFrameOptionsMiddleware',\n",
    "    ),\n",
    ")\n",
    "\n",
    "# views\n",
    "def index(request):\n",
    "    return HttpResponse('Hello World')\n",
    "\n",
    "# urls\n",
    "urlpatterns = (\n",
    "    url(r'^$', index),\n",
    ")\n",
    "\n",
    "# wsgi\n",
    "application = get_wsgi_application()\n",
    "\n",
    "if __name__ == \"__main__\":\n",
    "    from django.core.management import execute_from_command_line\n",
    "    execute_from_command_line(sys.argv)"
   ]
  },
  {
   "cell_type": "markdown",
   "metadata": {},
   "source": [
    "`application = get_wsgi_application()`의 경우 settings.configure 이 후 시점에 해야 작동된다."
   ]
  },
  {
   "cell_type": "markdown",
   "metadata": {},
   "source": [
    "This would normally be contained within the **wsgi.py** file created by the startproject command."
   ]
  },
  {
   "cell_type": "markdown",
   "metadata": {},
   "source": [
    "##### Gunicorn"
   ]
  },
  {
   "cell_type": "markdown",
   "metadata": {},
   "source": [
    "**Gunicorn** is a **popular choice** for a pure-Python WSGI application server. (2015.09.02 버전 19.3.0)"
   ]
  },
  {
   "cell_type": "markdown",
   "metadata": {},
   "source": [
    "```bash\n",
    "$ pip install gunicorn\n",
    "```"
   ]
  },
  {
   "cell_type": "markdown",
   "metadata": {},
   "source": [
    "You can **run** it fairly simply"
   ]
  },
  {
   "cell_type": "markdown",
   "metadata": {},
   "source": [
    "```bash\n",
    "$ gunicorn hello --log-file=-\n",
    "```"
   ]
  },
  {
   "cell_type": "markdown",
   "metadata": {},
   "source": [
    "[docs.gunicorn.org](http://docs.gunicorn.org)"
   ]
  },
  {
   "cell_type": "markdown",
   "metadata": {},
   "source": [
    "---"
   ]
  },
  {
   "cell_type": "markdown",
   "metadata": {},
   "source": [
    "### 2) Additional Configuration"
   ]
  },
  {
   "cell_type": "markdown",
   "metadata": {},
   "source": [
    "- The Twelve Factor App 에서 development, production, staging 단계에서의 프로젝트 세팅에 대한 방법론을 제시하고 있다.\n",
    "- 이곳에서 확인가능 -  http://12factor.net/ko/dev-prod-parity\n",
    "- configuration을 분리하고 환경 변수를 저장하도록 권장"
   ]
  },
  {
   "cell_type": "markdown",
   "metadata": {},
   "source": [
    "**While Gunicorn is a production-ready web server, the application itself is not yet production ready**, as **DEBUG** should never be enabled in production."
   ]
  },
  {
   "cell_type": "markdown",
   "metadata": {},
   "source": [
    "1. DEBUG\n",
    "2. SECRET_KEY\n",
    "3. ALLOWED_HOSTS"
   ]
  },
  {
   "cell_type": "code",
   "execution_count": 6,
   "metadata": {
    "collapsed": false
   },
   "outputs": [
    {
     "name": "stdout",
     "output_type": "stream",
     "text": [
      "Overwriting hello.py\n"
     ]
    }
   ],
   "source": [
    "%%writefile hello.py\n",
    "import os\n",
    "import sys\n",
    "from django.conf import settings\n",
    "from django.http import HttpResponse\n",
    "from django.conf.urls import url\n",
    "from django.core.wsgi import get_wsgi_application\n",
    "\n",
    "\n",
    "# settings\n",
    "DEBUG = os.environ.get('DEBUG', 'on') == 'on'\n",
    "SECRET_KEY = os.environ.get('SECRET_KEY', os.urandom(32))\n",
    "\n",
    "settings.configure(\n",
    "    DEBUG=DEBUG,\n",
    "    SECRET_KEY=SECRET_KEY,\n",
    "    ROOT_URLCONF=__name__,\n",
    "    MIDDLEWARE_CLASSES=(\n",
    "        'django.middleware.common.CommonMiddleware',\n",
    "        'django.middleware.csrf.CsrfViewMiddleware',\n",
    "        'django.middleware.clickjacking.XFrameOptionsMiddleware',\n",
    "    ),\n",
    ")\n",
    "\n",
    "# views\n",
    "def index(request):\n",
    "    return HttpResponse('He\n",
    "                        llo World')\n",
    "\n",
    "# urls\n",
    "urlpatterns = (\n",
    "    url(r'^$', index),\n",
    ")\n",
    "\n",
    "# wsgi\n",
    "application = get_wsgi_application()\n",
    "\n",
    "if __name__ == \"__main__\":\n",
    "    from django.core.management import execute_from_command_line\n",
    "    execute_from_command_line(sys.argv)"
   ]
  },
  {
   "cell_type": "markdown",
   "metadata": {},
   "source": [
    ">[Official doc.: os module](https://docs.python.org/3/library/os.html)\n",
    "\n",
    ">- **os.environ**: A mapping object representing the string environment. For example, environ['HOME'] is the pathname of your home directory (on some platforms), and is equivalent to getenv(\"HOME\") in C.\n",
    "\n",
    ">- **os.urandom(n)**: Return a string of n random bytes suitable for cryptographic use."
   ]
  },
  {
   "cell_type": "markdown",
   "metadata": {},
   "source": [
    "The default for **DEBUG** is True, and the **SECRET_KEY** will be randomly generated each time the application is loaded if it is not set."
   ]
  },
  {
   "cell_type": "markdown",
   "metadata": {
    "collapsed": true
   },
   "source": [
    "```bash\n",
    "$ export DEBUG=off\n",
    "$ python hello.py runserver\n",
    "```"
   ]
  },
  {
   "cell_type": "markdown",
   "metadata": {},
   "source": [
    "```bash\n",
    "CommandError: You must set settings.ALLOWED_HOSTS if DEBUG is False.\n",
    "```"
   ]
  },
  {
   "cell_type": "markdown",
   "metadata": {},
   "source": [
    "- Production service에서는 **ALLOWDED_HOSTS** 설정하기"
   ]
  },
  {
   "cell_type": "code",
   "execution_count": 7,
   "metadata": {
    "collapsed": false
   },
   "outputs": [
    {
     "name": "stdout",
     "output_type": "stream",
     "text": [
      "Overwriting hello.py\n"
     ]
    }
   ],
   "source": [
    "%%writefile hello.py\n",
    "import os\n",
    "import sys\n",
    "from django.conf import settings\n",
    "from django.http import HttpResponse\n",
    "from django.conf.urls import url\n",
    "from django.core.wsgi import get_wsgi_application\n",
    "\n",
    "\n",
    "# settings\n",
    "DEBUG = os.environ.get('DEBUG', 'on') == 'on'\n",
    "SECRET_KEY = os.environ.get('SECRET_KEY', os.urandom(32))\n",
    "ALLOWED_HOSTS = os.environ.get('ALLOWED_HOSTS', 'localhost').split(',')\n",
    "\n",
    "settings.configure(\n",
    "    DEBUG=DEBUG,\n",
    "    SECRET_KEY=SECRET_KEY,\n",
    "    ALLOWED_HOSTS=ALLOWED_HOSTS,\n",
    "    ROOT_URLCONF=__name__,\n",
    "    MIDDLEWARE_CLASSES=(\n",
    "        'django.middleware.common.CommonMiddleware',\n",
    "        'django.middleware.csrf.CsrfViewMiddleware',\n",
    "        'django.middleware.clickjacking.XFrameOptionsMiddleware',\n",
    "    ),\n",
    ")\n",
    "\n",
    "# views\n",
    "def index(request):\n",
    "    return HttpResponse('Hello World')\n",
    "\n",
    "# urls\n",
    "urlpatterns = (\n",
    "    url(r'^$', index),\n",
    ")\n",
    "\n",
    "# wsgi\n",
    "application = get_wsgi_application()\n",
    "\n",
    "if __name__ == \"__main__\":\n",
    "    from django.core.management import execute_from_command_line\n",
    "    execute_from_command_line(sys.argv)"
   ]
  },
  {
   "cell_type": "markdown",
   "metadata": {},
   "source": [
    "### settings.py 에서 환경 변수 설정하는 다른 방법"
   ]
  },
  {
   "cell_type": "markdown",
   "metadata": {},
   "source": [
    "virtualenvwrapper를 사용하고 있다면\n",
    "\n",
    "1. postactivate\n",
    "2. predeactivate\n",
    "\n",
    "를 이용해서 필요한 환경 변수를 미리 설정하여 사용한다. 예를 들어 DEBUG, SECRET_KEY, ALLOWED_HOSTS, DJANGO_SETTINGS_MODULE, DATABASE_NAME, DATABASE_USER, DATABASE_PASSWORD"
   ]
  },
  {
   "cell_type": "code",
   "execution_count": null,
   "metadata": {
    "collapsed": true
   },
   "outputs": [],
   "source": [
    "from django.core.exceptions import ImproperlyConfigured\n",
    "\n",
    "def get_env_variable(var_name, default):\n",
    "    try:\n",
    "        return os.environ.get(var_name, default)\n",
    "    except KeyError:\n",
    "        error_msg = \"Set the %s environment variable\" % var_name\n",
    "        raise ImproperlyConfigured(error_msg)\n",
    "\n",
    "DEBUG = get_env_variable('DEBUG', 'on') == 'on'\n",
    "SECRET_KEY = get_env_variable('SECRET_KEY', os.urandom(32))\n",
    "ALLOWED_HOSTS = get_env_variable('ALLOWED_HOSTS', 'localhost').split(',')"
   ]
  },
  {
   "cell_type": "markdown",
   "metadata": {},
   "source": [
    "### 3) Reusable Template"
   ]
  },
  {
   "cell_type": "markdown",
   "metadata": {},
   "source": [
    "So far this example has centered on **rethinking the layout created by Django’s startproject command**.\n",
    "\n",
    "**A template for startproject is a directory or zip file** that is rendered as a Django template when the command is run.\n",
    "\n",
    "To transform hello.py into **a project template (project_name/ project_name.py)**, the relevant parts of the file need to be replaced by these variables."
   ]
  },
  {
   "cell_type": "code",
   "execution_count": 8,
   "metadata": {
    "collapsed": true
   },
   "outputs": [],
   "source": [
    "!mkdir -p project_name"
   ]
  },
  {
   "cell_type": "code",
   "execution_count": 9,
   "metadata": {
    "collapsed": false
   },
   "outputs": [
    {
     "name": "stdout",
     "output_type": "stream",
     "text": [
      "\u001b[36m__pycache__\u001b[m\u001b[m          hello.py             part2_chapter1.ipynb \u001b[36mproject_name\u001b[m\u001b[m\r\n"
     ]
    }
   ],
   "source": [
    "!ls"
   ]
  },
  {
   "cell_type": "code",
   "execution_count": 10,
   "metadata": {
    "collapsed": false
   },
   "outputs": [
    {
     "name": "stdout",
     "output_type": "stream",
     "text": [
      "Writing project_name/project_name.py\n"
     ]
    }
   ],
   "source": [
    "%%writefile project_name/project_name.py\n",
    "import os\n",
    "import sys\n",
    "from django.conf import settings\n",
    "from django.http import HttpResponse\n",
    "from django.conf.urls import url\n",
    "from django.core.wsgi import get_wsgi_application\n",
    "\n",
    "\n",
    "# settings\n",
    "DEBUG = os.environ.get('DEBUG', 'on') == 'on'\n",
    "SECRET_KEY = os.environ.get('SECRET_KEY', os.urandom(32))\n",
    "ALLOWED_HOSTS = os.environ.get('ALLOWED_HOSTS', 'localhost').split(',')\n",
    "\n",
    "settings.configure(\n",
    "    DEBUG=DEBUG,\n",
    "    SECRET_KEY=SECRET_KEY,\n",
    "    ALLOWED_HOSTS=ALLOWED_HOSTS,\n",
    "    ROOT_URLCONF=__name__,\n",
    "    MIDDLEWARE_CLASSES=(\n",
    "        'django.middleware.common.CommonMiddleware',\n",
    "        'django.middleware.csrf.CsrfViewMiddleware',\n",
    "        'django.middleware.clickjacking.XFrameOptionsMiddleware',\n",
    "    ),\n",
    ")\n",
    "\n",
    "# views\n",
    "def index(request):\n",
    "    return HttpResponse('Hello World')\n",
    "\n",
    "# urls\n",
    "urlpatterns = (\n",
    "    url(r'^$', index),\n",
    ")\n",
    "\n",
    "# wsgi\n",
    "application = get_wsgi_application()\n",
    "\n",
    "if __name__ == \"__main__\":\n",
    "    from django.core.management import execute_from_command_line\n",
    "    execute_from_command_line(sys.argv)"
   ]
  },
  {
   "cell_type": "markdown",
   "metadata": {},
   "source": [
    "Rather than using os.urandom for the SECRET_KEY default, **this code will generate a random secret to be the default each time a new project is created.** This makes the SECRET_KEY default stable at the project level while still being sufficiently random across projects."
   ]
  },
  {
   "cell_type": "code",
   "execution_count": 11,
   "metadata": {
    "collapsed": true
   },
   "outputs": [],
   "source": [
    "!django-admin.py startproject foo --template=project_name"
   ]
  },
  {
   "cell_type": "code",
   "execution_count": 13,
   "metadata": {
    "collapsed": false
   },
   "outputs": [
    {
     "name": "stdout",
     "output_type": "stream",
     "text": [
      ".\r\n",
      "├── __pycache__\r\n",
      "│   └── hello.cpython-35.pyc\r\n",
      "├── foo\r\n",
      "│   └── foo.py\r\n",
      "├── hello.py\r\n",
      "├── part2_chapter1.ipynb\r\n",
      "└── project_name\r\n",
      "    └── project_name.py\r\n",
      "\r\n",
      "3 directories, 5 files\r\n"
     ]
    }
   ],
   "source": [
    "!tree"
   ]
  }
 ],
 "metadata": {
  "kernelspec": {
   "display_name": "Django Shell-Plus",
   "language": "python",
   "name": "django_extensions"
  },
  "language_info": {
   "codemirror_mode": {
    "name": "ipython",
    "version": 3
   },
   "file_extension": ".py",
   "mimetype": "text/x-python",
   "name": "python",
   "nbconvert_exporter": "python",
   "pygments_lexer": "ipython3",
   "version": "3.4.3"
  }
 },
 "nbformat": 4,
 "nbformat_minor": 0
}
