{
 "cells": [
  {
   "cell_type": "markdown",
   "metadata": {},
   "source": [
    "# Chapter 2. Stateless Web Application"
   ]
  },
  {
   "cell_type": "markdown",
   "metadata": {},
   "source": [
    "## What is Stateless?"
   ]
  },
  {
   "cell_type": "markdown",
   "metadata": {},
   "source": [
    "REST는 복수의 아키텍쳐 스타일을 조합한 것이며, 그 중에 Stateless Server가 있다."
   ]
  },
  {
   "cell_type": "markdown",
   "metadata": {},
   "source": [
    "![](http://localhost:8888/files/rest.png)"
   ]
  },
  {
   "cell_type": "markdown",
   "metadata": {},
   "source": [
    "![](http://localhost:8888/files/rest_style.png)"
   ]
  },
  {
   "cell_type": "markdown",
   "metadata": {},
   "source": [
    "## Stateless Server"
   ]
  },
  {
   "cell_type": "markdown",
   "metadata": {},
   "source": [
    "![](http://localhost:8888/files/stateless.png)"
   ]
  },
  {
   "cell_type": "markdown",
   "metadata": {},
   "source": [
    "## Cache"
   ]
  },
  {
   "cell_type": "markdown",
   "metadata": {},
   "source": [
    "![](http://localhost:8888/files/cache.png)"
   ]
  },
  {
   "cell_type": "markdown",
   "metadata": {},
   "source": [
    "- 그림출처1: http://reimaginer.tistory.com/35\n",
    "- 그림출처2: http://blog.naver.com/lsh00124/220393694599"
   ]
  },
  {
   "cell_type": "markdown",
   "metadata": {},
   "source": [
    "![](http://localhost:8888/files/stateless_comm.png)"
   ]
  },
  {
   "cell_type": "markdown",
   "metadata": {},
   "source": [
    "![](http://localhost:8888/files/pros_and_cons.png)"
   ]
  },
  {
   "cell_type": "markdown",
   "metadata": {},
   "source": [
    "출처: http://blog.naver.com/lsh00124/220404390444"
   ]
  },
  {
   "cell_type": "markdown",
   "metadata": {},
   "source": [
    "# Placeholder Image Server"
   ]
  },
  {
   "cell_type": "markdown",
   "metadata": {},
   "source": [
    "- Placeholder image service는 일반적으로 이미지 사이즈가 있는 URL을 취하고 이를 통해 이미지를 생성한다."
   ]
  },
  {
   "cell_type": "markdown",
   "metadata": {},
   "source": [
    "## 1. 프로젝트 디렉토리 생성"
   ]
  },
  {
   "cell_type": "markdown",
   "metadata": {},
   "source": [
    "`$ django-admin.py startproject placeholder --template=project_name`"
   ]
  },
  {
   "cell_type": "markdown",
   "metadata": {},
   "source": [
    "## 2. View 생성"
   ]
  },
  {
   "cell_type": "markdown",
   "metadata": {},
   "source": [
    "1. 요청한 사이즈를 기반으로 placeholder image를 렌더링하는 뷰\n",
    "2. Home 화면에 보여줄 내용을 렌더링하는 뷰(기존에 만들어져있음)"
   ]
  },
  {
   "cell_type": "code",
   "execution_count": 1,
   "metadata": {
    "collapsed": true
   },
   "outputs": [],
   "source": [
    "def placeholder(request, width, height):\n",
    "    return HttpResponse('Ok')"
   ]
  },
  {
   "cell_type": "markdown",
   "metadata": {},
   "source": [
    "## 3. URL Pattern"
   ]
  },
  {
   "cell_type": "markdown",
   "metadata": {},
   "source": [
    "- placeholder 함수는 width, height 두 개의 인자를 가지고 있으며\n",
    "- 이는 URL을 통해 전달된다."
   ]
  },
  {
   "cell_type": "code",
   "execution_count": null,
   "metadata": {
    "collapsed": true
   },
   "outputs": [],
   "source": [
    "urlpatterns = (\n",
    "    url(r'^image/(?P<width>[0-9]+)x(?P<height>[0-9]+)/$', placeholder,\n",
    "        name=\"placeholder\"),\n",
    "    url(r'', index, name=\"homepage\"),\n",
    ")"
   ]
  },
  {
   "cell_type": "markdown",
   "metadata": {},
   "source": [
    "\n",
    "## 4. URL로 넘어온 값에 대한 Validation with Django forms"
   ]
  },
  {
   "cell_type": "markdown",
   "metadata": {},
   "source": [
    "- URL에서 string으로 넘어왔던 값이 form의 validation을 통해서 integer로 converting"
   ]
  },
  {
   "cell_type": "code",
   "execution_count": null,
   "metadata": {
    "collapsed": true
   },
   "outputs": [],
   "source": [
    "from django import forms\n",
    "\n",
    "class ImageForm(forms.Form):\n",
    "    \"\"\"Form to validate requested placeholder image.\"\"\"\n",
    "    \n",
    "    height = forms.IntegerField(min_value=1, max_value=2000)\n",
    "    width = forms.IntegerField(min_value=1, max_value=2000)\n",
    "\n",
    "def placeholder(request, width, height):\n",
    "    form = ImageForm({'width': width, 'height': height})\n",
    "    if form.is_valid():\n",
    "        width = form.cleaned_data('width')\n",
    "        height = form.cleaned_data('height')\n",
    "    return HttpResponse('Ok')"
   ]
  },
  {
   "cell_type": "markdown",
   "metadata": {},
   "source": [
    "\n",
    "## 5. validation이 실패했을 경우 400 Bad Request 응답해주기"
   ]
  },
  {
   "cell_type": "code",
   "execution_count": null,
   "metadata": {
    "collapsed": true
   },
   "outputs": [],
   "source": [
    "from django.http import HttpResponse, HttpResponseBadRequest\n",
    "from django import forms\n",
    "\n",
    "class ImageForm(forms.Form):\n",
    "    \"\"\"Form to validate requested placeholder image.\"\"\"\n",
    "    \n",
    "    height = forms.IntegerField(min_value=1, max_value=2000)\n",
    "    width = forms.IntegerField(min_value=1, max_value=2000)\n",
    "\n",
    "def placeholder(request, width, height):\n",
    "    form = ImageForm({'width': width, 'height': height})\n",
    "    if form.is_valid():\n",
    "        width = form.cleaned_data('width')\n",
    "        height = form.cleaned_data('height')\n",
    "        return HttpResponse('Ok')\n",
    "    else:\n",
    "        return HttpResponseBadRequest('Invalid Image Request')"
   ]
  },
  {
   "cell_type": "markdown",
   "metadata": {},
   "source": [
    "- 아직 이미지를 생성시키는 것은 구현시키지 않았음"
   ]
  },
  {
   "cell_type": "markdown",
   "metadata": {},
   "source": [
    "\n",
    "## 6. 이미지 생성을 위한 패키지 설치 - Pillow"
   ]
  },
  {
   "cell_type": "markdown",
   "metadata": {},
   "source": [
    "`$ pip install Pillow`"
   ]
  },
  {
   "cell_type": "markdown",
   "metadata": {},
   "source": [
    "\n",
    "## 7. 이미지 생성을 위해 ImageForm에 메소드 추가 (to encapsulate the logic)"
   ]
  },
  {
   "cell_type": "markdown",
   "metadata": {},
   "source": [
    "- Pillow: 튜플 형태의 2개 인자값 + 색상\n",
    "    1. color mode ex) RGB\n",
    "    2. 이미지 사이즈\n",
    "    3. 색상 (default: black)"
   ]
  },
  {
   "cell_type": "code",
   "execution_count": null,
   "metadata": {
    "collapsed": true
   },
   "outputs": [],
   "source": [
    "from io import BytesIO\n",
    "from PIL import Image\n",
    "\n",
    "class ImageForm(forms.Form):\n",
    "    ...\n",
    "    def generate(self, image_formate='PNG'):\n",
    "        height = self.cleaned_data['height']\n",
    "        width = self.cleaned_data['width']\n",
    "        image = Image.new('RGB', (width, height))\n",
    "        \n",
    "        content = BytesIO()\n",
    "        image.save(content, image_format)\n",
    "        content.seek(0)\n",
    "        return content\n",
    "\n",
    "def placeholder(request, width, height):\n",
    "    form = ImageForm({'width': width, 'height': height})\n",
    "    if form.is_valid():\n",
    "        image = form.generate()\n",
    "        return HttpReponse(image, content_type='image/png')\n",
    "    else:\n",
    "        return HttpResponseBadRequest('Invalid Image Request')"
   ]
  },
  {
   "cell_type": "markdown",
   "metadata": {},
   "source": [
    "- io.BytesIO.seek()\n",
    "    - https://docs.python.org/3/library/io.html#io.IOBase.seek\n",
    "    - Change the stream position\n",
    "    - SEEK_SET or 0 – start of the stream (the default); offset should be zero or positive\n",
    "    - SEEK_CUR or 1 – current stream position; offset may be negative\n",
    "    - SEEK_END or 2 – end of the stream; offset is usually negative"
   ]
  },
  {
   "cell_type": "markdown",
   "metadata": {},
   "source": [
    "## 8. 이미지에 텍스트 새기기"
   ]
  },
  {
   "cell_type": "code",
   "execution_count": null,
   "metadata": {
    "collapsed": true
   },
   "outputs": [],
   "source": [
    "from PIL import Image, ImageDraw\n",
    "\n",
    "def generate(self, image_format='PNG'):\n",
    "    ...\n",
    "    image = Image.new('RGB', (width, height))\n",
    "    \n",
    "    draw = ImageDraw.Draw(image)\n",
    "    text = '{} x {}'.format(width, height)\n",
    "    textwidth, textheight = draw.textsize(text)\n",
    "    if textwidth < width and textheight < height:\n",
    "        texttop = (height - textheight) // 2\n",
    "        textleft = (width - textwidth) // 2\n",
    "        draw.text((textleft, texttop), text, fill=(255, 255, 255))\n",
    "    \n",
    "    content = BytesIO()\n",
    "    ..."
   ]
  },
  {
   "cell_type": "markdown",
   "metadata": {},
   "source": [
    "## 9. 캐시"
   ]
  },
  {
   "cell_type": "markdown",
   "metadata": {},
   "source": [
    "- 이 서비스는 불필요한 request를 서버에 계속해서 보내고 있다.\n",
    "- 이를 피하기 위해 캐시를 사용하며 두 가지 옵션이 있다.\n",
    "    1. Server-side\n",
    "        - Django's cache utilities\n",
    "            - `from django.core.cache import cache`\n",
    "                - `cache.get(key)`\n",
    "                - `cache.set(key, content, 시간)`\n",
    "        - Memcached\n",
    "        - Redis\n",
    "        - etc.\n",
    "    2. Client-side\n",
    "        - browser's built-in caching\n",
    "            - etag\n",
    "                1. middleware\n",
    "                    - USE_ETAGS setting\n",
    "                    - md5 hash\n",
    "                    - etag header 정보를 생성하는데 필요한 모든 작업을 위해 view 함수가 필요\n",
    "                2. etag decorator\n",
    "                    - single argument, which is a function to generate the ETag header\n",
    "                    - sha hash\n",
    "                    - middleware와는 다르게 view 함수가 calling되기 전에 etag를 생성한다는 이점이 있다.\n",
    "                    - 이는 processing time과 resource를 절약해준다."
   ]
  },
  {
   "cell_type": "markdown",
   "metadata": {},
   "source": [
    "### etag"
   ]
  },
  {
   "cell_type": "markdown",
   "metadata": {},
   "source": [
    "- ETag는 HTTP 1.1 호환 웹 서버가 반환하는 응답 헤더로 리소스가 변경 됐는지 확인하는데 필요한 정보를 제공합니다.\n",
    "- 캐싱 기능이 있는 애플리케이션(ex 브라우저)에서 유용\n",
    "- 이 태그를 참조하여 이전에 받았던 ETag와 동일하다면 불필요하게 리소스를 다운로드 하는 작업을 줄일 수 있습니다.\n",
    "- ETag의 값은 파일 크기와 파일을 수정한 날짜를 기반으로 만듬"
   ]
  },
  {
   "cell_type": "markdown",
   "metadata": {},
   "source": [
    "**Overview**"
   ]
  },
  {
   "cell_type": "markdown",
   "metadata": {},
   "source": [
    "![](http://localhost:8888/files/http_caching_1.png)"
   ]
  },
  {
   "cell_type": "markdown",
   "metadata": {},
   "source": [
    "**When an item is fully cached**"
   ]
  },
  {
   "cell_type": "markdown",
   "metadata": {},
   "source": [
    "![](http://localhost:8888/files/fully_cached.png)"
   ]
  },
  {
   "cell_type": "markdown",
   "metadata": {},
   "source": [
    "- For instance, once **CSS stylesheets** from your application are downloaded by the browser there’s no need to download them again during the user’s session.\n",
    "- This holds true for many asset types like javascript files, images and even infrequently changing dynamic content.\n",
    "- In these instances it is beneficial for the users browser to cache this file locally, and use that copy whenever the resource is requested again.\n",
    "- An application using HTTP cache headers is able to control this caching behavior and **alleviate server-side load**."
   ]
  },
  {
   "cell_type": "markdown",
   "metadata": {},
   "source": [
    "**Conditional Requests**"
   ]
  },
  {
   "cell_type": "markdown",
   "metadata": {},
   "source": [
    "![](http://localhost:8888/files/conditional_requests.png)"
   ]
  },
  {
   "cell_type": "markdown",
   "metadata": {},
   "source": [
    "Conditional requests are those where the browser can ask the server if it has an updated copy of the resource. The browser will send some information about the cached resource it holds and the server will determine whether updated content should be returned or the browser’s copy is the most recent. In the case of the latter an HTTP status of 304 (not modified) is returned."
   ]
  },
  {
   "cell_type": "markdown",
   "metadata": {},
   "source": [
    "출처: https://devcenter.heroku.com/articles/increasing-application-performance-with-http-cache-headers"
   ]
  },
  {
   "cell_type": "markdown",
   "metadata": {},
   "source": [
    "**다른 그림**"
   ]
  },
  {
   "cell_type": "markdown",
   "metadata": {},
   "source": [
    "![](http://localhost:8888/files/http-cache-control.png)"
   ]
  },
  {
   "cell_type": "markdown",
   "metadata": {},
   "source": [
    "**ETag Response Header에는 어떤 정보가 있을까**"
   ]
  },
  {
   "cell_type": "markdown",
   "metadata": {},
   "source": [
    "![](http://localhost:8888/files/covert-timing-channels-using-http-cache-headers.jpg)"
   ]
  },
  {
   "cell_type": "markdown",
   "metadata": {},
   "source": [
    "**책의 예제는 Servier-side and Client-side Caching 모두 사용하고 있다.**"
   ]
  },
  {
   "cell_type": "markdown",
   "metadata": {},
   "source": [
    "---"
   ]
  },
  {
   "cell_type": "markdown",
   "metadata": {},
   "source": [
    "# 이제부터 Home 화면을 꾸며보자!"
   ]
  },
  {
   "cell_type": "markdown",
   "metadata": {},
   "source": [
    "1. template, static setting\n",
    "2. html, css 만들기\n",
    "3. view 만들기"
   ]
  },
  {
   "cell_type": "markdown",
   "metadata": {},
   "source": [
    "## 1. template, static setting"
   ]
  },
  {
   "cell_type": "markdown",
   "metadata": {},
   "source": [
    "## 2. html, css 만들기"
   ]
  },
  {
   "cell_type": "markdown",
   "metadata": {},
   "source": [
    "## 3. view 만들기"
   ]
  }
 ],
 "metadata": {
  "kernelspec": {
   "display_name": "Django Shell-Plus",
   "language": "python",
   "name": "django_extensions"
  },
  "language_info": {
   "codemirror_mode": {
    "name": "ipython",
    "version": 3
   },
   "file_extension": ".py",
   "mimetype": "text/x-python",
   "name": "python",
   "nbconvert_exporter": "python",
   "pygments_lexer": "ipython3",
   "version": "3.4.3"
  }
 },
 "nbformat": 4,
 "nbformat_minor": 0
}
