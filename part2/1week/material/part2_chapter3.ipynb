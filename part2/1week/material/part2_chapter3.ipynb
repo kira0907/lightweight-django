{
 "cells": [
  {
   "cell_type": "markdown",
   "metadata": {},
   "source": [
    "# Chapter 3. Building a Static Site Generator"
   ]
  },
  {
   "cell_type": "markdown",
   "metadata": {},
   "source": [
    "- 말 그대로 static한 HTML 파일을 생성해 그 파일로만 서비스를 하는 것\n",
    "    - 대표적으로 jekyll\n",
    "        - 참고사이트: https://nolboo.github.io/blog/2013/10/15/free-blog-with-github-jekyll/\n",
    "    - 서버 프로그래밍이 없기 때문에 github같은 곳에 올려서 많이 사용하고 있음\n",
    "- [staticgen](https://www.staticgen.com/)\n",
    "    - Python으로 만들어져 있는 Open source static site generator\n",
    "        - [hyde](hyde.github.io)\n",
    "        - [cactus](https://github.com/koenbok/Cactus/) using Python and Django template system.\n",
    "- 중요 관점\n",
    "    - Rapid prototyping"
   ]
  },
  {
   "cell_type": "markdown",
   "metadata": {},
   "source": [
    "## 1. Layout(scaffolding) 잡기"
   ]
  },
  {
   "cell_type": "markdown",
   "metadata": {},
   "source": [
    "## 2. Project Setting - prototypes.py"
   ]
  },
  {
   "cell_type": "markdown",
   "metadata": {},
   "source": [
    "- p33\n",
    "- **`'django.contrib.webdesign'`**\n",
    "    - It provided the lorem template tag which is now included in the built-in tags. Simply remove 'django.contrib.webdesign' from INSTALLED_APPS and {% load webdesign %} from your templates.\n",
    "    - https://docs.djangoproject.com/en/1.8/releases/1.8/#django-contrib-webdesign"
   ]
  },
  {
   "cell_type": "markdown",
   "metadata": {},
   "source": [
    "## 3. urls 구조잡기"
   ]
  },
  {
   "cell_type": "markdown",
   "metadata": {},
   "source": [
    "- p34"
   ]
  },
  {
   "cell_type": "markdown",
   "metadata": {},
   "source": [
    "## 4. Template files - base.html, page.html(templates 폴더)"
   ]
  },
  {
   "cell_type": "markdown",
   "metadata": {},
   "source": [
    "- `page.html` 파일에서 `base.html` 템플릿 파일을 상속받음\n",
    "- 이 템플릿 파일이 생성될 파일의 가장 기본적인 골격이됨"
   ]
  },
  {
   "cell_type": "markdown",
   "metadata": {},
   "source": [
    "## 5. Static Page Generator 준비 - pages 디렉토리 생성"
   ]
  },
  {
   "cell_type": "markdown",
   "metadata": {},
   "source": [
    "## 6. settings 추가"
   ]
  },
  {
   "cell_type": "markdown",
   "metadata": {},
   "source": [
    "- p37\n",
    "- `SITE_PAGES_DIRECTORY`라는 이름으로 위에서 생성한 `pages` 디렉토리를 세팅"
   ]
  },
  {
   "cell_type": "markdown",
   "metadata": {},
   "source": [
    "## 7. page를 렌더링시킬 view 작성"
   ]
  },
  {
   "cell_type": "markdown",
   "metadata": {},
   "source": [
    "### 1) page(request, slug='index') 함수"
   ]
  },
  {
   "cell_type": "markdown",
   "metadata": {},
   "source": [
    "- URL Dispatcher로부터 처음으로 Request되는 함수\n",
    "- 페이지 이름과 페이지 내용(content)를 Context로 해서 템플릿 파일인 `page.html`로 렌더링해서 Response\n",
    "- 페이지 내용(content)은 `get_page_or_404(file_name)`을 호출하여 불러옴"
   ]
  },
  {
   "cell_type": "markdown",
   "metadata": {},
   "source": [
    "### 2) get_page_or_404(name) 함수"
   ]
  },
  {
   "cell_type": "markdown",
   "metadata": {},
   "source": [
    "- 불러올 페이지가 있으면\n",
    "    - 파일을 템플릿 형식으로 로딩해서 반환해줌\n",
    "    - `with open(file_path, 'r') as f: page = Template(f.read())`\n",
    "    - p37\n",
    "- 불러올 페이지가 없으면\n",
    "    -  `raise Http404('Page Not Found')` 에러 메시지"
   ]
  },
  {
   "cell_type": "markdown",
   "metadata": {},
   "source": [
    "## 8. 템플릿 파일 page.html 작성하기"
   ]
  },
  {
   "cell_type": "markdown",
   "metadata": {},
   "source": [
    "- rendering된 page content가 아래 부분처럼 include되는 형식\n",
    "- `{% include page %}`"
   ]
  },
  {
   "cell_type": "markdown",
   "metadata": {},
   "source": [
    "## 9. urls.py"
   ]
  },
  {
   "cell_type": "markdown",
   "metadata": {},
   "source": [
    "```python\n",
    "urlpatterns = (\n",
    "    url(r'^(?P<slug>[\\w./-]+)/$', page, name='page'),\n",
    "    url(r'^$', page, name='homepage'),\n",
    ")\n",
    "```"
   ]
  },
  {
   "cell_type": "markdown",
   "metadata": {},
   "source": [
    "- URL pattern이 무엇이든 상관없이 page 함수를 호출하게 되어있고 parameter는 slug"
   ]
  },
  {
   "cell_type": "markdown",
   "metadata": {},
   "source": [
    "## 10. Styling"
   ]
  },
  {
   "cell_type": "markdown",
   "metadata": {},
   "source": [
    "- p39 - p45\n",
    "- Twitter Bootstrap을 이용\n",
    "- `{% lorem %}` 템플릿 태그\n",
    "    - `Lorem ipsum dolor sit amet, consectetur adipisicing elit, sed do eiusmod tempor incididunt ut labore et dolore magna aliqua. Ut enim ad minim veniam, quis nostrud exercitation ullamco laboris nisi ut aliquip ex ea commodo consequat. Duis aute irure dolor in reprehenderit in voluptate velit esse cillum dolore eu fugiat nulla pariatur. Excepteur sint occaecat cupidatat non proident, sunt in culpa qui officia deserunt mollit anim id est laborum.`\n",
    "- Navigation\n",
    "    - 메뉴\n",
    "        - Home\n",
    "        - Contact\n",
    "        - Login\n",
    "    - 메뉴이름과 동일한 페이지를 만들 것이고, 해당 페이지가 템플릿 파일인 `page.html`의 block content로 넘어감\n",
    "    - 이것을 나중에 build 시켜서 static한 페이지로 만드는 게 Static site generator\n",
    "- **This is a prime example of how designers and developers can work in parallel.**\n",
    "    - Contact와 Login의 서버 프로그래밍은 구현하지 않음"
   ]
  },
  {
   "cell_type": "markdown",
   "metadata": {},
   "source": [
    "---"
   ]
  },
  {
   "cell_type": "markdown",
   "metadata": {},
   "source": [
    "# Generating Static Content"
   ]
  },
  {
   "cell_type": "markdown",
   "metadata": {},
   "source": [
    "## 11. Custome management command - build를 위한 setting"
   ]
  },
  {
   "cell_type": "markdown",
   "metadata": {},
   "source": [
    "- `python prototypes.py 명령어`\n",
    "- 예\n",
    "    - `python manage.py runserver`\n",
    "    - `python manage.py migrate`\n",
    "- `python prototypes.py build`\n",
    "- `_build`라는 디렉토리에 우리가 만든 index.html, contact.html, login.html에 대한 static content가 생성됨"
   ]
  },
  {
   "cell_type": "markdown",
   "metadata": {},
   "source": [
    "1. settings.py의 INSTALLED_APPS에 등록된 app안에 `management/commands` 이름으로 디렉토리를 생성하고\n",
    "2. 모듈 형태로 commnand를 만들 수 있음"
   ]
  },
  {
   "cell_type": "markdown",
   "metadata": {},
   "source": [
    "## 12. build.py"
   ]
  },
  {
   "cell_type": "markdown",
   "metadata": {},
   "source": [
    "**management/commands/build.py**"
   ]
  },
  {
   "cell_type": "markdown",
   "metadata": {},
   "source": [
    "```python\n",
    "import os\n",
    "import shutil\n",
    "\n",
    "from django.conf import settings\n",
    "from django.core.management import call_command\n",
    "from django.core.management.base import BaseCommand\n",
    "from django.core.urlresolvers import reverse\n",
    "from django.test.client import Client\n",
    "\n",
    "\n",
    "def get_pages():\n",
    "    for name in os.listdir(settings.SITE_PAGES_DIRECTORY):\n",
    "        if name.endswith('.html'):\n",
    "            yield name[:-5]\n",
    "\n",
    "\n",
    "class Command(BaseCommand):\n",
    "    help = \"Build static site output.\"\n",
    "\n",
    "    def handle(self, *args, **options):\n",
    "        \"\"\"Request pages and build output.\"\"\"\n",
    "        if os.path.exists(settings.SITE_OUTPUT_DIRECTORY):\n",
    "            shutil.rmtree(settings.SITE_OUTPUT_DIRECTORY)\n",
    "            \n",
    "        os.mkdir(settings.SITE_OUTPUT_DIRECTORY)\n",
    "        os.makedirs(settings.STATIC_ROOT)\n",
    "        \n",
    "        call_command('collectstatic', interactive=False, clear=True, verbosity=0)\n",
    "        \n",
    "        client = Client()\n",
    "        \n",
    "        for page in get_pages():\n",
    "            url = reverse('page', kwargs={'slug': page})\n",
    "            \n",
    "            # URL을 요청해서 해당 content를 받아오기\n",
    "            response = client.get(url)\n",
    "\n",
    "            if page == 'index':\n",
    "                output_dir = settings.SITE_OUTPUT_DIRECTORY\n",
    "            else:\n",
    "                # page와 동일한 이름으로 디렉토리 생성\n",
    "                output_dir = os.path.join(settings.SITE_OUTPUT_DIRECTORY, page)\n",
    "                if not os.path.exists(output_dir):\n",
    "                    os.makedirs(output_dir)\n",
    "\n",
    "            # 각 디렉토리에 index.html 생성\n",
    "            with open(os.path.join(output_dir, 'index.html'), 'wb') as f:\n",
    "                f.write(response.content)\n",
    "```"
   ]
  },
  {
   "cell_type": "markdown",
   "metadata": {},
   "source": [
    "- command의 경우 class Command(BaseCommand)를 해야하며 실질적인 logic은 def handle(...)에서 구현\n",
    "- handle 함수에서 만들어져 있는 모든 페이지(index, contact, login)의 내용(content)을 가져와서(client.get(url) static page를 만들어주는 내용(f.write(response.content))"
   ]
  },
  {
   "cell_type": "markdown",
   "metadata": {},
   "source": [
    "## 13. test"
   ]
  },
  {
   "cell_type": "markdown",
   "metadata": {},
   "source": [
    "- `python -m http.server 9000`\n",
    "- `python -m SingleHTTPServer 9000`\n",
    "- npm 에서 live-server 이용 `live-server`"
   ]
  },
  {
   "cell_type": "markdown",
   "metadata": {},
   "source": [
    "## 14. 위에서 처럼 전체 페이지가 아니라 하나의 페이지만 build시키기"
   ]
  },
  {
   "cell_type": "markdown",
   "metadata": {},
   "source": [
    "```python\n",
    "import os\n",
    "import shutil\n",
    "\n",
    "from django.conf import settings\n",
    "from django.core.management import call_command\n",
    "from django.core.management.base import BaseCommand, CommandError\n",
    "from django.core.urlresolvers import reverse\n",
    "from django.test.client import Client\n",
    "\n",
    "\n",
    "def get_pages():\n",
    "    for name in os.listdir(settings.SITE_PAGES_DIRECTORY):\n",
    "        if name.endswith('.html'):\n",
    "            yield name[:-5]\n",
    "\n",
    "\n",
    "class Command(BaseCommand):\n",
    "    help = \"Build static site output.\"\n",
    "\n",
    "    # TODO: 책에 없는 내용, 함수 추가\n",
    "    def add_arguments(self, parser):\n",
    "        \"\"\"Entry point for subclassed commands to add custom arguments.\"\"\"\n",
    "        parser.add_argument('args', nargs='*')\n",
    "\n",
    "    def handle(self, *args, **options):\n",
    "        \"\"\"Request pages and build output.\"\"\"\n",
    "        # TODO: argument 받을 수 있도록 if문 추가\n",
    "        if args:\n",
    "            pages = args\n",
    "            available = list(get_pages())\n",
    "            invalid = []\n",
    "            \n",
    "            # 사용자로부터 받은 arg를 validation\n",
    "            for page in pages:\n",
    "                if page not in available:\n",
    "                    invalid.append(page)\n",
    "            if invalid:\n",
    "                msg = 'Invalid pages: {}'.format(', '.join(invalid))\n",
    "                raise CommandError(msg)\n",
    "        else:\n",
    "            pages = get_pages()\n",
    "            if os.path.exists(settings.SITE_OUTPUT_DIRECTORY):\n",
    "                shutil.rmtree(settings.SITE_OUTPUT_DIRECTORY)\n",
    "            os.mkdir(settings.SITE_OUTPUT_DIRECTORY)\n",
    "            \n",
    "        # FIXME: 책에 없는 내용, 들여쓰기와 exist_ok\n",
    "        os.makedirs(settings.STATIC_ROOT, exist_ok=True)\n",
    "        call_command('collectstatic', interactive=False, clear=True, verbosity=0)\n",
    "        \n",
    "        client = Client()\n",
    "        \n",
    "        # FIXME: get_pages() -> 위 if 문에서 설정한 pages\n",
    "        for page in pages:\n",
    "            url = reverse('page', kwargs={'slug': page})\n",
    "            response = client.get(url)\n",
    "            if page == 'index':\n",
    "                output_dir = settings.SITE_OUTPUT_DIRECTORY\n",
    "            else:\n",
    "                output_dir = os.path.join(settings.SITE_OUTPUT_DIRECTORY, page)\n",
    "                if not os.path.exists(output_dir):\n",
    "                    os.makedirs(output_dir)\n",
    "            with open(os.path.join(output_dir, 'index.html'), 'wb') as f:\n",
    "                f.write(response.content)\n",
    "```"
   ]
  },
  {
   "cell_type": "markdown",
   "metadata": {},
   "source": [
    "`python prototypes.py build index`"
   ]
  },
  {
   "cell_type": "markdown",
   "metadata": {},
   "source": [
    "# Serving and Compressing Static Files"
   ]
  },
  {
   "cell_type": "markdown",
   "metadata": {},
   "source": [
    "- Creating compressed static files is a another way for us to create fast page loads.\n",
    "- static files를 hashing하는 방법도 있지만 소개만 하고 지워버림"
   ]
  },
  {
   "cell_type": "markdown",
   "metadata": {},
   "source": [
    "## 15. django-compressor로 static파일 압축하기 위해 패키지 설치"
   ]
  },
  {
   "cell_type": "markdown",
   "metadata": {},
   "source": [
    "`pip install django-compressor`"
   ]
  },
  {
   "cell_type": "markdown",
   "metadata": {},
   "source": [
    "## 16. setting 추가"
   ]
  },
  {
   "cell_type": "markdown",
   "metadata": {},
   "source": [
    "- INSTALLED_APPS\n",
    "- STATICFILES_FINDERS"
   ]
  },
  {
   "cell_type": "markdown",
   "metadata": {},
   "source": [
    "## 17. build.py 수정"
   ]
  },
  {
   "cell_type": "markdown",
   "metadata": {},
   "source": [
    "```python\n",
    "import os\n",
    "import shutil\n",
    "\n",
    "from django.conf import settings\n",
    "from django.core.management import call_command\n",
    "from django.core.management.base import BaseCommand, CommandError\n",
    "from django.core.urlresolvers import reverse\n",
    "from django.test.client import Client\n",
    "\n",
    "\n",
    "def get_pages():\n",
    "    for name in os.listdir(settings.SITE_PAGES_DIRECTORY):\n",
    "        if name.endswith('.html'):\n",
    "            yield name[:-5]\n",
    "\n",
    "\n",
    "class Command(BaseCommand):\n",
    "    help = \"Build static site output.\"\n",
    "\n",
    "    def add_arguments(self, parser):\n",
    "        \"\"\"Entry point for subclassed commands to add custom arguments.\"\"\"\n",
    "        parser.add_argument('args', nargs='*')\n",
    "\n",
    "    def handle(self, *args, **options):\n",
    "        \"\"\"Request pages and build output.\"\"\"\n",
    "        \n",
    "        # TODO: 추가 for compressing our static files\n",
    "        settings.DEBUG = False\n",
    "        settings.COMPRESS_ENABLED = True\n",
    "        \n",
    "        if args:\n",
    "            pages = args\n",
    "            available = list(get_pages())\n",
    "            invalid = []\n",
    "            for page in pages:\n",
    "                if page not in available:\n",
    "                    invalid.append(page)\n",
    "            if invalid:\n",
    "                msg = 'Invalid pages: {}'.format(', '.join(invalid))\n",
    "                raise CommandError(msg)\n",
    "        else:\n",
    "            pages = get_pages()\n",
    "            if os.path.exists(settings.SITE_OUTPUT_DIRECTORY):\n",
    "                shutil.rmtree(settings.SITE_OUTPUT_DIRECTORY)\n",
    "            os.mkdir(settings.SITE_OUTPUT_DIRECTORY)\n",
    "        os.makedirs(settings.STATIC_ROOT, exist_ok=True)\n",
    "        call_command('collectstatic', interactive=False, clear=True, verbosity=0)\n",
    "        \n",
    "        # TODO: 추가\n",
    "        call_command('compress', interactive=False, force=True)\n",
    "        \n",
    "        client = Client()\n",
    "        for page in pages():\n",
    "            url = reverse('page', kwargs={'slug': page})\n",
    "            response = client.get(url)\n",
    "            if page == 'index':\n",
    "                output_dir = settings.SITE_OUTPUT_DIRECTORY\n",
    "            else:\n",
    "                output_dir = os.path.join(settings.SITE_OUTPUT_DIRECTORY, page)\n",
    "                if not os.path.exists(output_dir):\n",
    "                    os.makedirs(output_dir)\n",
    "            with open(os.path.join(output_dir, 'index.html'), 'wb') as f:\n",
    "                f.write(response.content)\n",
    "```"
   ]
  },
  {
   "cell_type": "markdown",
   "metadata": {},
   "source": [
    "## 18. base.html에서 css, js 파일들 compress tag 씌우기"
   ]
  },
  {
   "cell_type": "markdown",
   "metadata": {},
   "source": [
    "```python\n",
    "{% compress css %}\n",
    "    <link rel=\"stylesheet\" href=\"{% static 'css/bootstrap.min.css' %}\">\n",
    "    <link rel=\"stylesheet\" href=\"{% static 'css/site.css' %}\">\n",
    "{% endcompress %}\n",
    "```"
   ]
  },
  {
   "cell_type": "markdown",
   "metadata": {},
   "source": [
    "- `python prototypes.py build`\n",
    "- CACHE 폴더 생성됨\n",
    "- 생성된 static 페이지를 보면 하나로 통합된 CACHE 파일을 불러오는 것을 확인할 수 있음\n",
    "    - `<link rel=\"stylesheet\" href=\"/static/CACHE/css/87cc9c5a5313.css\" type=\"text/css\" />`"
   ]
  },
  {
   "cell_type": "markdown",
   "metadata": {},
   "source": [
    "# Generating Dynamic Content"
   ]
  },
  {
   "cell_type": "markdown",
   "metadata": {},
   "source": [
    "## 19. pricing.html 추가"
   ]
  },
  {
   "cell_type": "markdown",
   "metadata": {},
   "source": [
    "- 내용만 다를 뿐 똑같은 구조의 테이블이 한 페이지에 3개가 존재\n",
    "- 즉 1x3"
   ]
  },
  {
   "cell_type": "markdown",
   "metadata": {},
   "source": [
    "## 20. views.py 수정"
   ]
  },
  {
   "cell_type": "markdown",
   "metadata": {},
   "source": [
    "- base.html에 meta tag설정\n",
    "- pricing.html에 block context에 데이터만 들어감"
   ]
  }
 ],
 "metadata": {
  "kernelspec": {
   "display_name": "Python 3",
   "language": "python",
   "name": "python3"
  },
  "language_info": {
   "codemirror_mode": {
    "name": "ipython",
    "version": 3
   },
   "file_extension": ".py",
   "mimetype": "text/x-python",
   "name": "python",
   "nbconvert_exporter": "python",
   "pygments_lexer": "ipython3",
   "version": "3.4.3"
  }
 },
 "nbformat": 4,
 "nbformat_minor": 0
}
