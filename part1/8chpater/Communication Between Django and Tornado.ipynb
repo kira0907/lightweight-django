{
 "cells": [
  {
   "cell_type": "markdown",
   "metadata": {},
   "source": [
    "# Chapter 8. Communication Between Django and Tornado\n",
    "we'll expand on that server to allow the Django app to push updates, improve the security of websocket connection.\n",
    "Redis as a message broker to improve the future scalability of the server.\n",
    "\n",
    "* [Websocket 개념 참조](http://d2.naver.com/helloworld/1336)\n",
    "* [Publish/Subsrcibe 모델](http://arsviator.blogspot.kr/2015/03/mqttmessage-queue-telemetry-transport.html)\n",
    "* [Redis 개념](http://bcho.tistory.com/654)"
   ]
  },
  {
   "cell_type": "markdown",
   "metadata": {},
   "source": [
    "## Receiving Updates in Tornado\n",
    "Tornado server manages all of its client subscriptions & broadcasts internally. No way broadcast a message from outside Tornado.\n",
    "\n",
    "#### Redis\n",
    " * as a message broker for this broadcast.\n",
    " * app to know the format of messages & how th messages are broadcast by Tornado.\n",
    " \n",
    "**[Code Changed] :**\n",
    "     watercooler.py\n",
    " \n",
    "     - create UpdateHandler\n",
    "     - add routes related UpdateHandler in ScrumApplication class.\n",
    " "
   ]
  },
  {
   "cell_type": "markdown",
   "metadata": {},
   "source": [
    "###  Sending Updates from Django\n",
    "**post_save, pre_delete** hooks priovided by **django-rest-framework**, Since this update will be added to all of the API views, it will be implemented as a mixin class in board/views.py\n",
    "\n",
    "**[Code Changed] :**\n",
    "     board/views.py\n",
    " \n",
    "     create UpdateHookMixin class\n",
    "\n",
    "\n",
    "It needs the pre_delete rather than post_delete so that the object pk will still be available.\n",
    "There is a short timeout to prevent the hook from blocking the API response for too long.\n",
    "\n",
    "**[Code Changed] :**\n",
    "     board/views.py\n",
    " \n",
    "     add UpdateHookMixin class definition\n",
    "\n",
    "Adavantage|Disadvantage\n",
    "----------|------------\n",
    "clients can receive updatess created outside the API, such as background jobs.|add overhead to each model save by potentially broadcasting changes when no client is listening.\n",
    "\n",
    "[참조] [Mixin class 개념](https://en.wikipedia.org/wiki/Mixin)"
   ]
  },
  {
   "cell_type": "markdown",
   "metadata": {},
   "source": [
    "### Handling Updates on the Client\n",
    "Django app will notify the Tornado server when there are model changes, and **Tornado will broadcast those changes to all connected clients.**\n",
    "\n",
    "**[Code Changed] :**\n",
    "     board/static/board/js/views.js\n",
    " \n",
    "     add 'task:add','task:update','task:remove' events\n",
    "\n",
    "This is inefficient for the client that made the original addition or edit, since it will refetch the task information it already has.\n",
    "\n",
    "**It also means that all clients will make the same API call around the same time, creating a [mini-denial-of-service](https://ko.wikipedia.org/wiki/%EC%84%9C%EB%B9%84%EC%8A%A4_%EA%B1%B0%EB%B6%80_%EA%B3%B5%EA%B2%A9) attack on our own server.**"
   ]
  },
  {
   "cell_type": "markdown",
   "metadata": {},
   "source": [
    "## Server Improvements\n",
    "\n",
    "###1. Robust Subscriptions\n",
    "To resolve this issue, **the server will use Redis as a message broker. Redis is a popular key-value store. that also has support for pub-sub channels.** (Redis isn't true message broker like RabbitMQ or ActiveMQ)\n",
    "\n",
    "Interacting with Redis will require the tornado-redis libray from Pypi.\n",
    "\n",
    "```\n",
    "    # pip install tornado-redis redis\n",
    "```\n",
    "tornado-redis has built-in class for managing a pub-sub channel when you are using SockJS or Socket.IO.\n",
    "\n",
    "**[Code Changed] :**\n",
    "     wartercooler.py\n",
    " \n",
    "     - create RedisSubscriber extension of BaseSubscriber\n",
    "     - modify ScrumApplication \n",
    "       * async client for managing the subscription\n",
    "       * sync one for broadcasting new message\n",
    "       \n",
    "\n",
    "ScumApplication no longer know names of all of the channels in the case of multiple websocket servers. So the use of all channel is required.\n",
    "The JS client put an identifier in the message body so that it can choose to ignore messages that orginated from itself.\n",
    "\n",
    "**[Code Changed] :**\n",
    "     wartercooler.py\n",
    " \n",
    "     - SprintHandler class open method\n",
    "       * generate a unique ID when the connection is opened.\n",
    "     - ScrumApplication class\n",
    "       * message is wrapped to annotate original sender.\n",
    "     - modify RedisHandler, on_message\n",
    "       * If there was no sender, the message is sent to all subscribers.\n",
    "       * If means sender == subscriber.uid then, message is sent to all subscribers\n",
    "       \n",
    "\n",
    "* **Tornado server can be scaled beyond a single process by making use of Redis as a simple message broker.**\n",
    "* the server could be made more secure."
   ]
  },
  {
   "cell_type": "markdown",
   "metadata": {},
   "source": [
    "### 2. Websocket Authentication\n",
    "서버에 아무 메세지를 보내거나, 잘못된 메세지를 보내더라도 message forwarding이 발생한다. Adding validation will server to authenticate the clients to prevent misuse.\n",
    "이를 없애기 위해서, **두 서버사이에 정보를 전달할 수 있도록 secret key를 django와 websocket 서버에서 secret key를 공유한다.**\n",
    "\n",
    "**[Code Changed] :**\n",
    "     \n",
    "     - scrum/settings.py\n",
    "       * add \"WATERCOOLER_SECRET\" key\n",
    "     - board/serializers.py\n",
    "       * SprintSerializer class get-links method, add signer, channel\n",
    "       \n",
    "Sign을 하기 때문에 client에서 변조되는 것을 막을 수 있다.\n",
    "django App에서 websocket 서버로 전송할때 Sprint의 obj.pk를 암호화 서명을 수행했기 때문에, Tornado Server에서 복호화를 하는 작업이 필요하다.\n",
    "\n",
    "**[Code Changed] :**\n",
    "     watercooler.py\n",
    "     \n",
    "     - open()\n",
    "       * channel을 복호화하여 obj.pk를 얻어온다. 이 토큰은 30분이 지나면 expired 된다.\n",
    "     - on_message(), on_close()\n",
    "       * sprint가 존재여부 체크해서 있는 경우만 broadcast or remove\n",
    "     - ScrumApplication\n",
    "        * Tornado 서버에서 django app에서 사용하는 동일한 secret key를 암호화 한다.\n",
    "\n",
    "현재 생성된 토큰이 소멸되는데 30분이 걸린다. Ideally this could be shorter, because the token is generated when the sprint is fetched on the home page, there might be a long delay between it is used on the sprint detail page.\n",
    "**By making another API call to generate the channel URL right before it is needed. In that case, the timeout could be made shorter.**\n",
    "\n",
    "\n",
    "[참조] [django cryptographic signing](https://docs.djangoproject.com/en/1.8/topics/signing/)"
   ]
  },
  {
   "cell_type": "markdown",
   "metadata": {},
   "source": [
    "### 3. Better Updates\n",
    "task가 드래그 앤 드랍되는 등의 변화가 API를 통해 전달되면, Django 서버는 Tornado 서버에게 update 되어야 하는 모든 client에게 전달하기 위해서 notify를 수행한다. Client 중에 브라우저가 있다면 브라우저는 API 콜을 수행한다. 만약 다른 client 들이 정보를 update 받기 위해서는 같은 API를 호출해야한다. 너무 비효율적이다.\n",
    "\n",
    "이보다 효과적인 방법은 **send that information along to the clients through the websocket in the first place.**\n",
    "\n",
    "#### Django  application needs to be updated to send current model state to the Tornado server.\n",
    "\n",
    "**[Code Changed] :**\n",
    "     \n",
    "     board/view.py\n",
    "     \n",
    "     - _send_hook_request()\n",
    "     \n",
    "     watercooler.py\n",
    "     - to be updated to send this data along to the client.\n",
    "     - Parsed body data is sent along to the client through the websocket broadcase.\n",
    "     \n",
    "Critical issue with the Tornado webhook is that notihg secures this endpoint. Anywone with knowledge of the server location could push updates to all of the connected clients.  ** This won't directoly impact the database contents unless clients receive the bad model and then later save it.**\n",
    "\n"
   ]
  },
  {
   "cell_type": "markdown",
   "metadata": {},
   "source": [
    "### 4. Secure Updates\n",
    "\n",
    "Add a security layer outside the application\n",
    "  * An HTTP proxy (ex. Nginx) could be placed in front of the server to enforce basic, diget, or client authentication\n",
    "  * That authentication would need to be added to the request generated by the Django application.\n",
    "  * 중앙 집중적인 처리가 가능, 개별 비지니스 컴포넌트에서 인증 처리를 할 때는 분산형 인증 처리가 되기 때문에 하나의 컴포넌트에서 인증한 정보를 다른 컴포넌트에서도 인증이 되어야 한다. ex) SSO\n",
    "  \n",
    "**It's also possible to include some verification of the messages between the two servers using the existing shared secret.\n",
    "In the same way that channel is signed for verification, the webhook requests can be signed to ensure that they came from a trusted endpoint and were not modified in transit.**\n",
    "  \n",
    "[참조]\n",
    "* [Reverse Proxy](http://bcho.tistory.com/661)\n",
    "* [API Gateway](http://bcho.tistory.com/1005)"
   ]
  },
  {
   "cell_type": "code",
   "execution_count": null,
   "metadata": {
    "collapsed": true
   },
   "outputs": [],
   "source": []
  }
 ],
 "metadata": {
  "kernelspec": {
   "display_name": "Python 3",
   "language": "python",
   "name": "python3"
  },
  "language_info": {
   "codemirror_mode": {
    "name": "ipython",
    "version": 3
   },
   "file_extension": ".py",
   "mimetype": "text/x-python",
   "name": "python",
   "nbconvert_exporter": "python",
   "pygments_lexer": "ipython3",
   "version": "3.4.3"
  }
 },
 "nbformat": 4,
 "nbformat_minor": 0
}
