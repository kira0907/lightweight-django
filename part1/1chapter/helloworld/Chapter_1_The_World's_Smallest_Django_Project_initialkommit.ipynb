{
 "cells": [
  {
   "cell_type": "markdown",
   "metadata": {},
   "source": [
    "# Chapter 1. The World's Smallest Django Project"
   ]
  },
  {
   "cell_type": "markdown",
   "metadata": {},
   "source": [
    "---"
   ]
  },
  {
   "cell_type": "markdown",
   "metadata": {},
   "source": [
    "# TOC"
   ]
  },
  {
   "cell_type": "markdown",
   "metadata": {},
   "source": [
    "## 1. Hello Django"
   ]
  },
  {
   "cell_type": "markdown",
   "metadata": {},
   "source": [
    "### 1) Creating the View"
   ]
  },
  {
   "cell_type": "markdown",
   "metadata": {},
   "source": [
    "### 2) The URL Patterns"
   ]
  },
  {
   "cell_type": "markdown",
   "metadata": {},
   "source": [
    "### 3) The Settings"
   ]
  },
  {
   "cell_type": "markdown",
   "metadata": {},
   "source": [
    "### 4) Running the Example"
   ]
  },
  {
   "cell_type": "markdown",
   "metadata": {},
   "source": [
    "## 2. Improvements"
   ]
  },
  {
   "cell_type": "markdown",
   "metadata": {},
   "source": [
    "### 1) WSGI Application"
   ]
  },
  {
   "cell_type": "markdown",
   "metadata": {},
   "source": [
    "### 2) Additional Configuration"
   ]
  },
  {
   "cell_type": "markdown",
   "metadata": {},
   "source": [
    "### 3) Reusable Template"
   ]
  },
  {
   "cell_type": "markdown",
   "metadata": {},
   "source": [
    "---"
   ]
  },
  {
   "cell_type": "markdown",
   "metadata": {},
   "source": [
    "## 1. Hello Django"
   ]
  },
  {
   "cell_type": "markdown",
   "metadata": {},
   "source": [
    "While the **startproject** command is a useful tool, it is not required in order to start a Django project. You are free to lay out your project however you like based on what you want to do. For larger projects, developers benefit from the code organization provided by the startproject command. However, **the convenience of this command shouldn’t stop you from understanding what it does and why it is helpful.**\n",
    "In this chapter we’ll lay out an example of how to create a simple project using Django’s basic building blocks."
   ]
  },
  {
   "cell_type": "markdown",
   "metadata": {},
   "source": [
    "This lightweight “Hello World” project will create a simple Django application **using a single-file approach.**"
   ]
  },
  {
   "cell_type": "markdown",
   "metadata": {},
   "source": [
    "In this chapter, we’ll start by using a single ***hello.py*** file. This file will contain all of the code needed to run our Django project."
   ]
  },
  {
   "cell_type": "markdown",
   "metadata": {},
   "source": [
    "### 1) Creating the View"
   ]
  },
  {
   "cell_type": "markdown",
   "metadata": {},
   "source": [
    "model-template-view (MTV) framework\n",
    "- The view portion typically\n",
    "    - inspects the incoming HTTP request\n",
    "    - queries the necessary data to send to the presentation layer.\n",
    "    - constructs the necessary data to send to the presentation layer."
   ]
  },
  {
   "cell_type": "markdown",
   "metadata": {},
   "source": [
    "**let’s create a simple way to execute a “Hello World” response.**"
   ]
  },
  {
   "cell_type": "code",
   "execution_count": null,
   "metadata": {
    "collapsed": true
   },
   "outputs": [],
   "source": [
    "%%writefile hello.py\n",
    "from django.http import HttpResponse\n",
    "\n",
    "def index(request):\n",
    "    return HttpResponse('Hello World')"
   ]
  },
  {
   "cell_type": "markdown",
   "metadata": {},
   "source": [
    "- this would typically be in a views.py file inside one of your apps.\n",
    "- there is no requirement for views to live inside of apps.\n",
    "- There is also no requirement that views live in a file called views.py.\n",
    "- This is purely a matter of convention, but not a requirement on which to base our project’s structure."
   ]
  },
  {
   "cell_type": "markdown",
   "metadata": {},
   "source": [
    "### 2) The URL Patterns"
   ]
  },
  {
   "cell_type": "markdown",
   "metadata": {},
   "source": [
    "- Django associates views with their URL by pairing a regular expression to match the URL and any callable arguments to the view.\n",
    "- The following is an example from hello.py of how we make this connection."
   ]
  },
  {
   "cell_type": "code",
   "execution_count": null,
   "metadata": {
    "collapsed": true
   },
   "outputs": [],
   "source": [
    "%%writefile hello.py\n",
    "from django.conf.urls import url\n",
    "from django.http import HttpResponse\n",
    "\n",
    "def index(request):\n",
    "    return HttpResponse('Hello World')\n",
    "\n",
    "urlpatterns = (\n",
    "    url(r'^$', index),\n",
    ")"
   ]
  },
  {
   "cell_type": "markdown",
   "metadata": {},
   "source": [
    "- Now this file combines both a typical views.py file and the root urls.py file.\n",
    "- Again, it is worth noting that there is **no requirement for the URL patterns to be included in a urls.py file.**"
   ]
  },
  {
   "cell_type": "markdown",
   "metadata": {},
   "source": [
    "### 3) The Settings"
   ]
  },
  {
   "cell_type": "markdown",
   "metadata": {},
   "source": [
    "- **Django settings** detail everything from database and cache connections to internation‐ alization features and static and uploaded resources.\n",
    "- For many developers just getting started, **the settings in Django are a major point of confusion.**\n",
    "- While **recent releases have worked to trim down the default settings’ file length**, it can still be overwhelming."
   ]
  },
  {
   "cell_type": "code",
   "execution_count": 1,
   "metadata": {
    "collapsed": false
   },
   "outputs": [
    {
     "name": "stdout",
     "output_type": "stream",
     "text": [
      "Overwriting hello.py\n"
     ]
    }
   ],
   "source": [
    "%%writefile hello.py\n",
    "from django.conf import settings\n",
    "\n",
    "settings.configure(\n",
    "    DEBUG=True,\n",
    "    SECRET_KEY='thisisthesecretkey',\n",
    "    ROOT_URLCONF=__name__,\n",
    "    MIDDLEWARE_CLASSES=(\n",
    "        'django.middleware.common.CommonMiddleware',\n",
    "        'django.middleware.csrf.CsrfViewMiddleware',\n",
    "        'django.middleware.clickjacking.XFrameOptionsMiddleware',\n",
    "    ),\n",
    ")\n",
    "\n",
    "from django.conf.urls import url\n",
    "from django.http import HttpResponse\n",
    "\n",
    "def index(request):\n",
    "    return HttpResponse('Hello World')\n",
    "\n",
    "urlpatterns = (\n",
    "    url(r'^$', index),\n",
    ")"
   ]
  },
  {
   "cell_type": "markdown",
   "metadata": {},
   "source": [
    "- A **secret key** must be generated for the default session and cross-site request forgery (CSRF) protection.\n",
    "- It is important for any production site to have a **random SECRET_KEY** that is kept private.\n",
    "- https://docs.djangoproject.com/en/1.7/topics/signing"
   ]
  },
  {
   "cell_type": "markdown",
   "metadata": {},
   "source": [
    "#### Cryptographic signing"
   ]
  },
  {
   "cell_type": "markdown",
   "metadata": {},
   "source": [
    "The golden rule of Web application security is to never trust data from untrusted sources. **Cryptographically signed values** can be passed through an untrusted channel safe in the knowledge that any tampering will be detected.\n",
    "\n",
    "**Django provides both a low-level API for signing values and a high-level API** for setting and reading signed cookies, one of the most common uses of signing in Web applications."
   ]
  },
  {
   "cell_type": "markdown",
   "metadata": {},
   "source": [
    "##### **Protecting the SECRET_KEY** ->  Securing signed data"
   ]
  },
  {
   "cell_type": "markdown",
   "metadata": {},
   "source": [
    "When you create a new Django project using startproject, the **settings.py** file is generated automatically and gets a random **SECRET_KEY value**.\n",
    "\n",
    "**This value is the key to securing signed data** – it is vital you keep this secure, or attackers could use it to generate their own signed values."
   ]
  },
  {
   "cell_type": "markdown",
   "metadata": {},
   "source": [
    "##### **Using the low-level API**"
   ]
  },
  {
   "cell_type": "markdown",
   "metadata": {},
   "source": [
    "###### sign"
   ]
  },
  {
   "cell_type": "code",
   "execution_count": 6,
   "metadata": {
    "collapsed": false
   },
   "outputs": [],
   "source": [
    "from django.core.signing import Signer\n",
    "from django.core import signing"
   ]
  },
  {
   "cell_type": "code",
   "execution_count": 7,
   "metadata": {
    "collapsed": false
   },
   "outputs": [
    {
     "ename": "ImproperlyConfigured",
     "evalue": "Requested setting SECRET_KEY, but settings are not configured. You must either define the environment variable DJANGO_SETTINGS_MODULE or call settings.configure() before accessing settings.",
     "output_type": "error",
     "traceback": [
      "\u001b[0;31m---------------------------------------------------------------------------\u001b[0m",
      "\u001b[0;31mImproperlyConfigured\u001b[0m                      Traceback (most recent call last)",
      "\u001b[0;32m<ipython-input-7-126c63347863>\u001b[0m in \u001b[0;36m<module>\u001b[0;34m()\u001b[0m\n\u001b[0;32m----> 1\u001b[0;31m \u001b[0msigner\u001b[0m \u001b[0;34m=\u001b[0m \u001b[0mSigner\u001b[0m\u001b[0;34m(\u001b[0m\u001b[0;34m)\u001b[0m\u001b[0;34m\u001b[0m\u001b[0m\n\u001b[0m\u001b[1;32m      2\u001b[0m \u001b[0mvalue\u001b[0m \u001b[0;34m=\u001b[0m \u001b[0msigner\u001b[0m\u001b[0;34m.\u001b[0m\u001b[0msign\u001b[0m\u001b[0;34m(\u001b[0m\u001b[0;34m'My String'\u001b[0m\u001b[0;34m)\u001b[0m\u001b[0;34m\u001b[0m\u001b[0m\n\u001b[1;32m      3\u001b[0m \u001b[0mprint\u001b[0m\u001b[0;34m(\u001b[0m\u001b[0mvalue\u001b[0m\u001b[0;34m)\u001b[0m\u001b[0;34m\u001b[0m\u001b[0m\n",
      "\u001b[0;32m/Users/initialkommit/anaconda/lib/python3.4/site-packages/django/core/signing.py\u001b[0m in \u001b[0;36m__init__\u001b[0;34m(self, key, sep, salt)\u001b[0m\n\u001b[1;32m    151\u001b[0m         \u001b[0;31m# Use of native strings in all versions of Python\u001b[0m\u001b[0;34m\u001b[0m\u001b[0;34m\u001b[0m\u001b[0m\n\u001b[1;32m    152\u001b[0m         \u001b[0mself\u001b[0m\u001b[0;34m.\u001b[0m\u001b[0msep\u001b[0m \u001b[0;34m=\u001b[0m \u001b[0mforce_str\u001b[0m\u001b[0;34m(\u001b[0m\u001b[0msep\u001b[0m\u001b[0;34m)\u001b[0m\u001b[0;34m\u001b[0m\u001b[0m\n\u001b[0;32m--> 153\u001b[0;31m         \u001b[0mself\u001b[0m\u001b[0;34m.\u001b[0m\u001b[0mkey\u001b[0m \u001b[0;34m=\u001b[0m \u001b[0mkey\u001b[0m \u001b[0;32mor\u001b[0m \u001b[0msettings\u001b[0m\u001b[0;34m.\u001b[0m\u001b[0mSECRET_KEY\u001b[0m\u001b[0;34m\u001b[0m\u001b[0m\n\u001b[0m\u001b[1;32m    154\u001b[0m         self.salt = force_str(salt or\n\u001b[1;32m    155\u001b[0m             '%s.%s' % (self.__class__.__module__, self.__class__.__name__))\n",
      "\u001b[0;32m/Users/initialkommit/anaconda/lib/python3.4/site-packages/django/conf/__init__.py\u001b[0m in \u001b[0;36m__getattr__\u001b[0;34m(self, name)\u001b[0m\n\u001b[1;32m     44\u001b[0m     \u001b[0;32mdef\u001b[0m \u001b[0m__getattr__\u001b[0m\u001b[0;34m(\u001b[0m\u001b[0mself\u001b[0m\u001b[0;34m,\u001b[0m \u001b[0mname\u001b[0m\u001b[0;34m)\u001b[0m\u001b[0;34m:\u001b[0m\u001b[0;34m\u001b[0m\u001b[0m\n\u001b[1;32m     45\u001b[0m         \u001b[0;32mif\u001b[0m \u001b[0mself\u001b[0m\u001b[0;34m.\u001b[0m\u001b[0m_wrapped\u001b[0m \u001b[0;32mis\u001b[0m \u001b[0mempty\u001b[0m\u001b[0;34m:\u001b[0m\u001b[0;34m\u001b[0m\u001b[0m\n\u001b[0;32m---> 46\u001b[0;31m             \u001b[0mself\u001b[0m\u001b[0;34m.\u001b[0m\u001b[0m_setup\u001b[0m\u001b[0;34m(\u001b[0m\u001b[0mname\u001b[0m\u001b[0;34m)\u001b[0m\u001b[0;34m\u001b[0m\u001b[0m\n\u001b[0m\u001b[1;32m     47\u001b[0m         \u001b[0;32mreturn\u001b[0m \u001b[0mgetattr\u001b[0m\u001b[0;34m(\u001b[0m\u001b[0mself\u001b[0m\u001b[0;34m.\u001b[0m\u001b[0m_wrapped\u001b[0m\u001b[0;34m,\u001b[0m \u001b[0mname\u001b[0m\u001b[0;34m)\u001b[0m\u001b[0;34m\u001b[0m\u001b[0m\n\u001b[1;32m     48\u001b[0m \u001b[0;34m\u001b[0m\u001b[0m\n",
      "\u001b[0;32m/Users/initialkommit/anaconda/lib/python3.4/site-packages/django/conf/__init__.py\u001b[0m in \u001b[0;36m_setup\u001b[0;34m(self, name)\u001b[0m\n\u001b[1;32m     38\u001b[0m                 \u001b[0;34m\"You must either define the environment variable %s \"\u001b[0m\u001b[0;34m\u001b[0m\u001b[0m\n\u001b[1;32m     39\u001b[0m                 \u001b[0;34m\"or call settings.configure() before accessing settings.\"\u001b[0m\u001b[0;34m\u001b[0m\u001b[0m\n\u001b[0;32m---> 40\u001b[0;31m                 % (desc, ENVIRONMENT_VARIABLE))\n\u001b[0m\u001b[1;32m     41\u001b[0m \u001b[0;34m\u001b[0m\u001b[0m\n\u001b[1;32m     42\u001b[0m         \u001b[0mself\u001b[0m\u001b[0;34m.\u001b[0m\u001b[0m_wrapped\u001b[0m \u001b[0;34m=\u001b[0m \u001b[0mSettings\u001b[0m\u001b[0;34m(\u001b[0m\u001b[0msettings_module\u001b[0m\u001b[0;34m)\u001b[0m\u001b[0;34m\u001b[0m\u001b[0m\n",
      "\u001b[0;31mImproperlyConfigured\u001b[0m: Requested setting SECRET_KEY, but settings are not configured. You must either define the environment variable DJANGO_SETTINGS_MODULE or call settings.configure() before accessing settings."
     ]
    }
   ],
   "source": [
    "signer = Signer()\n",
    "value = signer.sign('My String')\n",
    "print(value)"
   ]
  },
  {
   "cell_type": "markdown",
   "metadata": {},
   "source": [
    "###### unsign"
   ]
  },
  {
   "cell_type": "code",
   "execution_count": null,
   "metadata": {
    "collapsed": false
   },
   "outputs": [],
   "source": [
    "original = signer.unsign(value)\n",
    "print(original)"
   ]
  },
  {
   "cell_type": "markdown",
   "metadata": {},
   "source": [
    "###### tampering"
   ]
  },
  {
   "cell_type": "code",
   "execution_count": null,
   "metadata": {
    "collapsed": false
   },
   "outputs": [],
   "source": [
    "value += 'm'\n",
    "try:\n",
    "    original = signer.unsign(value)\n",
    "except signing.BadSignature:\n",
    "    print(\"Tampering detected!!\")"
   ]
  },
  {
   "cell_type": "markdown",
   "metadata": {},
   "source": [
    "### 4) Running the Example"
   ]
  },
  {
   "cell_type": "code",
   "execution_count": 8,
   "metadata": {
    "collapsed": false
   },
   "outputs": [
    {
     "name": "stdout",
     "output_type": "stream",
     "text": [
      "Overwriting hello.py\n"
     ]
    }
   ],
   "source": [
    "%%writefile hello.py\n",
    "import sys\n",
    "\n",
    "# settings\n",
    "from django.conf import settings\n",
    "\n",
    "settings.configure(\n",
    "    DEBUG=True,\n",
    "    SECRET_KEY='thisisthesecretkey',\n",
    "    ROOT_URLCONF=__name__,\n",
    "    MIDDLEWARE_CLASSES=(\n",
    "        'django.middleware.common.CommonMiddleware',\n",
    "        'django.middleware.csrf.CsrfViewMiddleware',\n",
    "        'django.middleware.clickjacking.XFrameOptionsMiddleware',\n",
    "    ),\n",
    ")\n",
    "\n",
    "# views\n",
    "from django.http import HttpResponse\n",
    "\n",
    "def index(request):\n",
    "    return HttpResponse('Hello World')\n",
    "\n",
    "# urls\n",
    "from django.conf.urls import url\n",
    "\n",
    "urlpatterns = (\n",
    "    url(r'^$', index),\n",
    ")\n",
    "\n",
    "if __name__ == \"__main__\":\n",
    "    from django.core.management import execute_from_command_line\n",
    "    execute_from_command_line(sys.argv)"
   ]
  },
  {
   "cell_type": "markdown",
   "metadata": {},
   "source": [
    "---"
   ]
  },
  {
   "cell_type": "markdown",
   "metadata": {},
   "source": [
    "## 2. Improvements"
   ]
  },
  {
   "cell_type": "markdown",
   "metadata": {},
   "source": [
    "This example shows some of the fundamental pieces of the Django framework:\n",
    "- writing views\n",
    "- creating settings\n",
    "- running management commands\n",
    "\n",
    "**for taking incoming HTTP requests and returning HTTP responses.**"
   ]
  },
  {
   "cell_type": "markdown",
   "metadata": {},
   "source": [
    "Django also provides additional utilities for common tasks such as:\n",
    "- rendering HTML\n",
    "- parsing form data\n",
    "- persisting session state"
   ]
  },
  {
   "cell_type": "markdown",
   "metadata": {},
   "source": [
    "### 1) WSGI Application"
   ]
  },
  {
   "cell_type": "markdown",
   "metadata": {},
   "source": [
    "#### runserver"
   ]
  },
  {
   "cell_type": "markdown",
   "metadata": {},
   "source": [
    "It has helpful utilities for **local development** such as auto–code reloading.\n",
    "\n",
    "While it is convenient for local development, runserver is **not appropriate for production deployment** security."
   ]
  },
  {
   "cell_type": "markdown",
   "metadata": {},
   "source": [
    "#### Web Server Gateway Interface(WSGI)"
   ]
  },
  {
   "cell_type": "markdown",
   "metadata": {},
   "source": [
    "is **the specification for how web servers communicate with application frameworks such as Django**, and was defined by PEP 333 and improved in PEP 3333."
   ]
  },
  {
   "cell_type": "markdown",
   "metadata": {},
   "source": [
    "- mod_wsgi\n",
    "- Gunicorn\n",
    "- uWSGI\n",
    "- CherryPy\n",
    "- Tornado\n",
    "- Chaussette"
   ]
  },
  {
   "cell_type": "markdown",
   "metadata": {},
   "source": [
    "Each of these servers needs a **properly defined WSGI application** to be used. Django has an easy interface for creating this application through **get_wsgi_application**."
   ]
  },
  {
   "cell_type": "code",
   "execution_count": 9,
   "metadata": {
    "collapsed": false
   },
   "outputs": [
    {
     "name": "stdout",
     "output_type": "stream",
     "text": [
      "Overwriting hello.py\n"
     ]
    }
   ],
   "source": [
    "%%writefile hello.py\n",
    "import sys\n",
    "\n",
    "# settings\n",
    "from django.conf import settings\n",
    "\n",
    "settings.configure(\n",
    "    DEBUG=True,\n",
    "    SECRET_KEY='thisisthesecretkey',\n",
    "    ROOT_URLCONF=__name__,\n",
    "    MIDDLEWARE_CLASSES=(\n",
    "        'django.middleware.common.CommonMiddleware',\n",
    "        'django.middleware.csrf.CsrfViewMiddleware',\n",
    "        'django.middleware.clickjacking.XFrameOptionsMiddleware',\n",
    "    ),\n",
    ")\n",
    "\n",
    "# views\n",
    "from django.http import HttpResponse\n",
    "\n",
    "def index(request):\n",
    "    return HttpResponse('Hello World')\n",
    "\n",
    "# urls\n",
    "from django.conf.urls import url\n",
    "\n",
    "urlpatterns = (\n",
    "    url(r'^$', index),\n",
    ")\n",
    "\n",
    "# wsgi\n",
    "from django.core.wsgi import get_wsgi_application\n",
    "application = get_wsgi_application()\n",
    "\n",
    "if __name__ == \"__main__\":\n",
    "    from django.core.management import execute_from_command_line\n",
    "    execute_from_command_line(sys.argv)"
   ]
  },
  {
   "cell_type": "markdown",
   "metadata": {},
   "source": [
    "This would normally be contained within the **wsgi.py** file created by the startproject command."
   ]
  },
  {
   "cell_type": "markdown",
   "metadata": {},
   "source": [
    "##### Gunicorn"
   ]
  },
  {
   "cell_type": "markdown",
   "metadata": {},
   "source": [
    "**Gunicorn** is a **popular choice** for a pure-Python WSGI application server. (2015.09.02 버전 19.3.0)"
   ]
  },
  {
   "cell_type": "markdown",
   "metadata": {},
   "source": [
    "```bash\n",
    "$ pip install gunicorn\n",
    "```"
   ]
  },
  {
   "cell_type": "markdown",
   "metadata": {},
   "source": [
    "You can **run** it fairly simply"
   ]
  },
  {
   "cell_type": "markdown",
   "metadata": {},
   "source": [
    "```bash\n",
    "$ gunicorn hello --log-file=-\n",
    "```"
   ]
  },
  {
   "cell_type": "markdown",
   "metadata": {},
   "source": [
    "[docs.gunicorn.org](http://docs.gunicorn.org)"
   ]
  },
  {
   "cell_type": "markdown",
   "metadata": {},
   "source": [
    "### 2) Additional Configuration"
   ]
  },
  {
   "cell_type": "markdown",
   "metadata": {},
   "source": [
    "**While Gunicorn is a production-ready web server, the application itself is not yet production ready**, as **DEBUG** should never be enabled in production."
   ]
  },
  {
   "cell_type": "code",
   "execution_count": 10,
   "metadata": {
    "collapsed": false
   },
   "outputs": [
    {
     "name": "stdout",
     "output_type": "stream",
     "text": [
      "Overwriting hello.py\n"
     ]
    }
   ],
   "source": [
    "%%writefile hello.py\n",
    "import os\n",
    "import sys\n",
    "\n",
    "# settings\n",
    "from django.conf import settings\n",
    "DEBUG = os.environ.get('DEBUG', 'on') == 'on'\n",
    "SECRET_KEY = os.environ.get('SECRET_KEY', os.urandom(32))\n",
    "\n",
    "settings.configure(\n",
    "    DEBUG=DEBUG,\n",
    "    SECRET_KEY=SECRET_KEY,\n",
    "    ROOT_URLCONF=__name__,\n",
    "    MIDDLEWARE_CLASSES=(\n",
    "        'django.middleware.common.CommonMiddleware',\n",
    "        'django.middleware.csrf.CsrfViewMiddleware',\n",
    "        'django.middleware.clickjacking.XFrameOptionsMiddleware',\n",
    "    ),\n",
    ")\n",
    "\n",
    "# views\n",
    "from django.http import HttpResponse\n",
    "\n",
    "def index(request):\n",
    "    return HttpResponse('He\n",
    "                        llo World')\n",
    "\n",
    "# urls\n",
    "from django.conf.urls import url\n",
    "\n",
    "urlpatterns = (\n",
    "    url(r'^$', index),\n",
    ")\n",
    "\n",
    "# wsgi\n",
    "from django.core.wsgi import get_wsgi_application\n",
    "application = get_wsgi_application()\n",
    "\n",
    "if __name__ == \"__main__\":\n",
    "    from django.core.management import execute_from_command_line\n",
    "    execute_from_command_line(sys.argv)"
   ]
  },
  {
   "cell_type": "markdown",
   "metadata": {},
   "source": [
    ">[Official doc.: os module](https://docs.python.org/3/library/os.html)\n",
    "\n",
    ">- **os.environ**: A mapping object representing the string environment. For example, environ['HOME'] is the pathname of your home directory (on some platforms), and is equivalent to getenv(\"HOME\") in C.\n",
    "\n",
    ">- **os.urandom(n)**: Return a string of n random bytes suitable for cryptographic use."
   ]
  },
  {
   "cell_type": "markdown",
   "metadata": {},
   "source": [
    "The default for **DEBUG** is True, and the **SECRET_KEY** will be randomly generated each time the application is loaded if it is not set."
   ]
  },
  {
   "cell_type": "markdown",
   "metadata": {
    "collapsed": true
   },
   "source": [
    "```bash\n",
    "$ export DEBUG=off\n",
    "$ python hello.py runserver\n",
    "```"
   ]
  },
  {
   "cell_type": "markdown",
   "metadata": {},
   "source": [
    "```bash\n",
    "CommandError: You must set settings.ALLOWED_HOSTS if DEBUG is False.\n",
    "```"
   ]
  },
  {
   "cell_type": "code",
   "execution_count": 18,
   "metadata": {
    "collapsed": false
   },
   "outputs": [
    {
     "name": "stdout",
     "output_type": "stream",
     "text": [
      "Overwriting hello.py\n"
     ]
    }
   ],
   "source": [
    "%%writefile hello.py\n",
    "import os\n",
    "import sys\n",
    "\n",
    "# settings\n",
    "from django.conf import settings\n",
    "DEBUG = os.environ.get('DEBUG', 'on') == 'on'\n",
    "SECRET_KEY = os.environ.get('SECRET_KEY', os.urandom(32))\n",
    "ALLOWED_HOSTS = os.environ.get('ALLOWED_HOSTS', 'localhost').split(',')\n",
    "\n",
    "settings.configure(\n",
    "    DEBUG=DEBUG,\n",
    "    SECRET_KEY=SECRET_KEY,\n",
    "    ALLOWED_HOSTS=ALLOWED_HOSTS,\n",
    "    ROOT_URLCONF=__name__,\n",
    "    MIDDLEWARE_CLASSES=(\n",
    "        'django.middleware.common.CommonMiddleware',\n",
    "        'django.middleware.csrf.CsrfViewMiddleware',\n",
    "        'django.middleware.clickjacking.XFrameOptionsMiddleware',\n",
    "    ),\n",
    ")\n",
    "\n",
    "# views\n",
    "from django.http import HttpResponse\n",
    "\n",
    "def index(request):\n",
    "    return HttpResponse('Hello World')\n",
    "\n",
    "# urls\n",
    "from django.conf.urls import url\n",
    "\n",
    "urlpatterns = (\n",
    "    url(r'^$', index),\n",
    ")\n",
    "\n",
    "# wsgi\n",
    "from django.core.wsgi import get_wsgi_application\n",
    "application = get_wsgi_application()\n",
    "\n",
    "if __name__ == \"__main__\":\n",
    "    from django.core.management import execute_from_command_line\n",
    "    execute_from_command_line(sys.argv)"
   ]
  },
  {
   "cell_type": "markdown",
   "metadata": {},
   "source": [
    "### 3) Reusable Template"
   ]
  },
  {
   "cell_type": "markdown",
   "metadata": {},
   "source": [
    "So far this example has centered on **rethinking the layout created by Django’s startproject command**.\n",
    "\n",
    "**A template for startproject is a directory or zip file** that is rendered as a Django template when the command is run.\n",
    "\n",
    "To transform hello.py into **a project template (project_name/ project_name.py)**, the relevant parts of the file need to be replaced by these variables."
   ]
  },
  {
   "cell_type": "code",
   "execution_count": 10,
   "metadata": {
    "collapsed": true
   },
   "outputs": [],
   "source": [
    "!mkdir -p project_name"
   ]
  },
  {
   "cell_type": "code",
   "execution_count": 11,
   "metadata": {
    "collapsed": false
   },
   "outputs": [
    {
     "name": "stdout",
     "output_type": "stream",
     "text": [
      "Writing project_name/project_name.py\n"
     ]
    }
   ],
   "source": [
    "%%writefile project_name/project_name.py\n",
    "import os\n",
    "import sys\n",
    "\n",
    "# settings\n",
    "from django.conf import settings\n",
    "DEBUG = os.environ.get('DEBUG', 'on') == 'on'\n",
    "SECRET_KEY = os.environ.get('SECRET_KEY', ''{{ secret_key }}'')\n",
    "ALLOWED_HOSTS = os.environ.get('ALLOWED_HOSTS', 'localhost').split(',')\n",
    "\n",
    "settings.configure(\n",
    "    DEBUG=DEBUG,\n",
    "    SECRET_KEY=SECRET_KEY,\n",
    "    ALLOWED_HOSTS=ALLOWED_HOSTS,\n",
    "    ROOT_URLCONF=__name__,\n",
    "    MIDDLEWARE_CLASSES=(\n",
    "        'django.middleware.common.CommonMiddleware',\n",
    "        'django.middleware.csrf.CsrfViewMiddleware',\n",
    "        'django.middleware.clickjacking.XFrameOptionsMiddleware',\n",
    "    ),\n",
    ")\n",
    "\n",
    "# views\n",
    "from django.http import HttpResponse\n",
    "\n",
    "def index(request):\n",
    "    return HttpResponse('Hello World')\n",
    "\n",
    "# urls\n",
    "from django.conf.urls import url\n",
    "\n",
    "urlpatterns = (\n",
    "    url(r'^$', index),\n",
    ")\n",
    "\n",
    "# wsgi\n",
    "from django.core.wsgi import get_wsgi_application\n",
    "application = get_wsgi_application()\n",
    "\n",
    "if __name__ == \"__main__\":\n",
    "    from django.core.management import execute_from_command_line\n",
    "    execute_from_command_line(sys.argv)"
   ]
  },
  {
   "cell_type": "markdown",
   "metadata": {},
   "source": [
    "Rather than using os.urandom for the SECRET_KEY default, **this code will generate a random secret to be the default each time a new project is created.** This makes the SECRET_KEY default stable at the project level while still being sufficiently random across projects."
   ]
  },
  {
   "cell_type": "code",
   "execution_count": 12,
   "metadata": {
    "collapsed": true
   },
   "outputs": [],
   "source": [
    "!django-admin.py startproject foo --template=project_name"
   ]
  },
  {
   "cell_type": "code",
   "execution_count": 21,
   "metadata": {
    "collapsed": false
   },
   "outputs": [
    {
     "name": "stdout",
     "output_type": "stream",
     "text": [
      "total 72\r\n",
      "-rw-r--r--  1 initialkommit  staff  28827  9  5 11:53 Chapter_1_The_World's_Smallest_Django_Project_initialkommit.ipynb\r\n",
      "drwxr-xr-x  3 initialkommit  staff    102  9  5 11:47 \u001b[36m__pycache__\u001b[m\u001b[m\r\n",
      "drwxr-xr-x  3 initialkommit  staff    102  9  5 11:55 \u001b[36mfoo\u001b[m\u001b[m\r\n",
      "-rw-r--r--  1 initialkommit  staff    989  9  5 11:52 hello.py\r\n",
      "drwxr-xr-x  3 initialkommit  staff    102  9  5 11:53 \u001b[36mproject_name\u001b[m\u001b[m\r\n"
     ]
    }
   ],
   "source": [
    "!ls -l"
   ]
  }
 ],
 "metadata": {
  "kernelspec": {
   "display_name": "Django Shell-Plus",
   "language": "python",
   "name": "django_extensions"
  },
  "language_info": {
   "codemirror_mode": {
    "name": "ipython",
    "version": 3
   },
   "file_extension": ".py",
   "mimetype": "text/x-python",
   "name": "python",
   "nbconvert_exporter": "python",
   "pygments_lexer": "ipython3",
   "version": "3.4.3"
  }
 },
 "nbformat": 4,
 "nbformat_minor": 0
}
