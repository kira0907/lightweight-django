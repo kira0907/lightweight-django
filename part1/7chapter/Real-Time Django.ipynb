{
 "cells": [
  {
   "cell_type": "markdown",
   "metadata": {},
   "source": [
    "# Real-Time Django"
   ]
  },
  {
   "cell_type": "markdown",
   "metadata": {},
   "source": [
    "- **Django** is primarily optimized **for short-lived HTTP request/response** cycles\n",
    "- Most Python web servers are not made for handling a large number of concurrent and long-lived connections required to support real-time applications."
   ]
  },
  {
   "cell_type": "markdown",
   "metadata": {},
   "source": [
    "- The real-time features will be handled by a new server, written using **Tornado**, **that uses asynchronous I/O** to handle a large number of concurrent connections."
   ]
  },
  {
   "cell_type": "markdown",
   "metadata": {},
   "source": [
    "## HTML5 Real-Time APIs"
   ]
  },
  {
   "cell_type": "markdown",
   "metadata": {},
   "source": [
    "- This will allow the application to notify other clients viewing the sprint for the task that another user is changing it."
   ]
  },
  {
   "cell_type": "markdown",
   "metadata": {},
   "source": [
    "1. Websockets\n",
    "2. Server-sent events(SSEs)\n",
    "3. Web Real-Time Communication(WebRTC)"
   ]
  },
  {
   "cell_type": "markdown",
   "metadata": {},
   "source": [
    "### 1. Websockets"
   ]
  },
  {
   "cell_type": "markdown",
   "metadata": {},
   "source": [
    "- Websockets are a specification for a two-way communication between the browser and the server.\n",
    "- Websockets are the most commonly known of the HTML5 standards and have the best browser support.\n",
    "- The latest versions of the most popular desktop browsers all support websockets."
   ]
  },
  {
   "cell_type": "markdown",
   "metadata": {},
   "source": [
    "### 2. Server-Send Events"
   ]
  },
  {
   "cell_type": "markdown",
   "metadata": {},
   "source": [
    "- Like websockets, server-sent events require a long-lived server connection.\n",
    "- However, unlike websockets, this isn’t a two-way connection. \n",
    "- allows the server to push new events to the client."
   ]
  },
  {
   "cell_type": "markdown",
   "metadata": {},
   "source": [
    "### 3. WebRTC"
   ]
  },
  {
   "cell_type": "markdown",
   "metadata": {},
   "source": [
    "- Unlike the previous two specifications, WebRTC is a browser-to-browser communication protocol.\n",
    "- This is the least mature of the HTML5 standards and has the least browser support."
   ]
  },
  {
   "cell_type": "markdown",
   "metadata": {},
   "source": [
    "## Websockets with Tornado"
   ]
  },
  {
   "cell_type": "markdown",
   "metadata": {},
   "source": [
    "- We will write the websocket server itself using Tornado, which is an asynchronous network library and small web framework written in Python.\n",
    "- maintained by Facebook"
   ]
  },
  {
   "cell_type": "markdown",
   "metadata": {},
   "source": [
    "### Reasons why we don’t just build all this into one Django server"
   ]
  },
  {
   "cell_type": "markdown",
   "metadata": {},
   "source": [
    "- First, Django is based primarily on the WSGI specification, which is not geared toward handling long-lived connections.\n",
    "- Another reason to have a separate server for the websocket is a separation of concerns."
   ]
  },
  {
   "cell_type": "markdown",
   "metadata": {},
   "source": [
    "- **Tornado** is not your only option for this server. The real-time server could be written in Node, Erlang, Haskell, or whatever language or framework seems best suited for the task."
   ]
  },
  {
   "cell_type": "markdown",
   "metadata": {},
   "source": [
    "## Introduction to Tornado"
   ]
  },
  {
   "cell_type": "markdown",
   "metadata": {},
   "source": [
    "```bash\n",
    "$ pip install tornado\n",
    "```"
   ]
  },
  {
   "cell_type": "markdown",
   "metadata": {},
   "source": [
    "> latest version: 4.2.1"
   ]
  },
  {
   "cell_type": "markdown",
   "metadata": {},
   "source": [
    "- Two main classes:\n",
    "    1. **RequestHandler** does exactly what its name implies and has an API similar to Django’s View class, which is the base of all class-based views.\n",
    "    2. **Application** covers the same functionality as Django’s root URL conf and Django’s settings."
   ]
  },
  {
   "cell_type": "markdown",
   "metadata": {},
   "source": [
    "## watercooler.py"
   ]
  },
  {
   "cell_type": "markdown",
   "metadata": {},
   "source": [
    "- The start of the Tornado server for handling updates to a given sprint, known as watercooler.py\n",
    "- **SprintHandler** is the handler class for the websocket connection. The open, on_message, and on_close methods are the API defined by WebSocketHandler\n",
    "    1. open\n",
    "    2. on_message\n",
    "    3. on_close"
   ]
  },
  {
   "cell_type": "markdown",
   "metadata": {},
   "source": [
    "## Message Subscription"
   ]
  },
  {
   "cell_type": "markdown",
   "metadata": {},
   "source": [
    "- When a new client connects to http://localhost:8080/1/, the SprintHandler.open will be called, passing the value 1 as the sprint.\n",
    "    1. on_open\n",
    "    2. on_close\n",
    "    3. broadcast\n",
    "    4. on_message"
   ]
  },
  {
   "cell_type": "markdown",
   "metadata": {},
   "source": [
    "---"
   ]
  },
  {
   "cell_type": "markdown",
   "metadata": {},
   "source": [
    "# Client Communication"
   ]
  },
  {
   "cell_type": "markdown",
   "metadata": {},
   "source": [
    "## Socket Wrapper"
   ]
  },
  {
   "cell_type": "markdown",
   "metadata": {},
   "source": [
    "## Client Connection"
   ]
  },
  {
   "cell_type": "markdown",
   "metadata": {},
   "source": [
    "## Sending Events from the Client"
   ]
  },
  {
   "cell_type": "markdown",
   "metadata": {},
   "source": [
    "## Handling Events from the Client"
   ]
  },
  {
   "cell_type": "markdown",
   "metadata": {},
   "source": [
    "## Updating Task State"
   ]
  }
 ],
 "metadata": {
  "kernelspec": {
   "display_name": "Python 3",
   "language": "python",
   "name": "python3"
  },
  "language_info": {
   "codemirror_mode": {
    "name": "ipython",
    "version": 3
   },
   "file_extension": ".py",
   "mimetype": "text/x-python",
   "name": "python",
   "nbconvert_exporter": "python",
   "pygments_lexer": "ipython3",
   "version": "3.4.3"
  }
 },
 "nbformat": 4,
 "nbformat_minor": 0
}
